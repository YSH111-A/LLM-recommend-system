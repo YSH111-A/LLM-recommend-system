{
 "cells": [
  {
   "cell_type": "code",
   "execution_count": 1,
   "id": "8667c7f5-51c4-4b90-b112-a866bef19a6f",
   "metadata": {},
   "outputs": [
    {
     "name": "stderr",
     "output_type": "stream",
     "text": [
      "/tmp/ipykernel_34482/1337929260.py:6: FutureWarning: data_manager option is deprecated and will be removed in a future version. Only the BlockManager will be available.\n",
      "  pd.reset_option('all')\n",
      "/tmp/ipykernel_34482/1337929260.py:6: FutureWarning: use_inf_as_na option is deprecated and will be removed in a future version. Convert inf values to NaN before operating instead.\n",
      "  pd.reset_option('all')\n"
     ]
    }
   ],
   "source": [
    "##验证集：模型推理\n",
    "import pandas as pd\n",
    "# pd.set_option('display.max_colwidth', None)  # 显示完整的列宽\n",
    "# pd.set_option('display.width', None)         # 不限制显示宽度\n",
    "# pd.set_option('display.max_columns', None)   # 显示所有列\n",
    "pd.reset_option('all')"
   ]
  },
  {
   "cell_type": "code",
   "execution_count": 2,
   "id": "7fca00ae-2cb9-4cec-912b-0a853ca54b77",
   "metadata": {},
   "outputs": [
    {
     "name": "stderr",
     "output_type": "stream",
     "text": [
      "[HAMI-core Msg(34482:140591513917248:libvgpu.c:836)]: Initializing.....\n",
      "[HAMI-core Warn(34482:140591513917248:multiprocess_memory_limit.c:592)]: Kick dead proc 31243\n",
      "[HAMI-core Warn(34482:140591513917248:multiprocess_memory_limit.c:592)]: Kick dead proc 31383\n"
     ]
    }
   ],
   "source": [
    "%%capture #不显示安装过程\n",
    "import sys, torch\n",
    "import pandas as pd \n",
    "print(sys.executable)\n",
    "print(torch.__version__, torch.version.cuda)\n",
    "!pip install huggingface-hub\n",
    "!pip install unsloth\n",
    "# Also get the latest nightly Unsloth!\n",
    "# !pip uninstall unsloth -y && pip install --upgrade --no-cache-dir --no-deps git+https://github.com/unslothai/unsloth.git\n",
    "!pip install --upgrade unsloth"
   ]
  },
  {
   "cell_type": "code",
   "execution_count": 3,
   "id": "c37e76a8-5817-41fd-bb8d-2e035bb64d81",
   "metadata": {},
   "outputs": [],
   "source": [
    "test_data = pd.read_parquet(\"data/finetuning_data_test.parquet\")"
   ]
  },
  {
   "cell_type": "code",
   "execution_count": 4,
   "id": "3d476be0-5f4c-4f66-8cac-900122e83f06",
   "metadata": {},
   "outputs": [
    {
     "data": {
      "text/html": [
       "<div>\n",
       "<style scoped>\n",
       "    .dataframe tbody tr th:only-of-type {\n",
       "        vertical-align: middle;\n",
       "    }\n",
       "\n",
       "    .dataframe tbody tr th {\n",
       "        vertical-align: top;\n",
       "    }\n",
       "\n",
       "    .dataframe thead th {\n",
       "        text-align: right;\n",
       "    }\n",
       "</style>\n",
       "<table border=\"1\" class=\"dataframe\">\n",
       "  <thead>\n",
       "    <tr style=\"text-align: right;\">\n",
       "      <th></th>\n",
       "      <th>UserID</th>\n",
       "      <th>instruction</th>\n",
       "      <th>input</th>\n",
       "      <th>output</th>\n",
       "      <th>text</th>\n",
       "    </tr>\n",
       "  </thead>\n",
       "  <tbody>\n",
       "    <tr>\n",
       "      <th>0</th>\n",
       "      <td>3</td>\n",
       "      <td>Filter exactly 10 unique item IDs that the use...</td>\n",
       "      <td></td>\n",
       "      <td>Recommended movie ID: [1270, 1259, 1079, 1265,...</td>\n",
       "      <td>The following is the description of the recomm...</td>\n",
       "    </tr>\n",
       "    <tr>\n",
       "      <th>1</th>\n",
       "      <td>8</td>\n",
       "      <td>Filter exactly 10 unique item IDs that the use...</td>\n",
       "      <td></td>\n",
       "      <td>Recommended movie ID: [4, 1027, 3155, 42, 3500...</td>\n",
       "      <td>The following is the description of the recomm...</td>\n",
       "    </tr>\n",
       "    <tr>\n",
       "      <th>2</th>\n",
       "      <td>13</td>\n",
       "      <td>Filter exactly 10 unique item IDs that the use...</td>\n",
       "      <td></td>\n",
       "      <td>Recommended movie ID: [3269, 552, 2135, 1587, ...</td>\n",
       "      <td>The following is the description of the recomm...</td>\n",
       "    </tr>\n",
       "    <tr>\n",
       "      <th>3</th>\n",
       "      <td>18</td>\n",
       "      <td>Filter exactly 10 unique item IDs that the use...</td>\n",
       "      <td></td>\n",
       "      <td>Recommended movie ID: [2718, 3723, 2145, 261, ...</td>\n",
       "      <td>The following is the description of the recomm...</td>\n",
       "    </tr>\n",
       "    <tr>\n",
       "      <th>4</th>\n",
       "      <td>23</td>\n",
       "      <td>Filter exactly 10 unique item IDs that the use...</td>\n",
       "      <td></td>\n",
       "      <td>Recommended movie ID: [2259, 2409, 2410, 327, ...</td>\n",
       "      <td>The following is the description of the recomm...</td>\n",
       "    </tr>\n",
       "    <tr>\n",
       "      <th>...</th>\n",
       "      <td>...</td>\n",
       "      <td>...</td>\n",
       "      <td>...</td>\n",
       "      <td>...</td>\n",
       "      <td>...</td>\n",
       "    </tr>\n",
       "    <tr>\n",
       "      <th>1203</th>\n",
       "      <td>6018</td>\n",
       "      <td>Filter exactly 10 unique item IDs that the use...</td>\n",
       "      <td></td>\n",
       "      <td>Recommended movie ID: [2021, 3033, 3269, 674, ...</td>\n",
       "      <td>The following is the description of the recomm...</td>\n",
       "    </tr>\n",
       "    <tr>\n",
       "      <th>1204</th>\n",
       "      <td>6023</td>\n",
       "      <td>Filter exactly 10 unique item IDs that the use...</td>\n",
       "      <td></td>\n",
       "      <td>Recommended movie ID: [493, 1620, 3247, 2764, ...</td>\n",
       "      <td>The following is the description of the recomm...</td>\n",
       "    </tr>\n",
       "    <tr>\n",
       "      <th>1205</th>\n",
       "      <td>6028</td>\n",
       "      <td>Filter exactly 10 unique item IDs that the use...</td>\n",
       "      <td></td>\n",
       "      <td>Recommended movie ID: [1573, 592, 2427, 6, 110...</td>\n",
       "      <td>The following is the description of the recomm...</td>\n",
       "    </tr>\n",
       "    <tr>\n",
       "      <th>1206</th>\n",
       "      <td>6033</td>\n",
       "      <td>Filter exactly 10 unique item IDs that the use...</td>\n",
       "      <td></td>\n",
       "      <td>Recommended movie ID: [349, 780, 1608, 380, 13...</td>\n",
       "      <td>The following is the description of the recomm...</td>\n",
       "    </tr>\n",
       "    <tr>\n",
       "      <th>1207</th>\n",
       "      <td>6038</td>\n",
       "      <td>Filter exactly 10 unique item IDs that the use...</td>\n",
       "      <td></td>\n",
       "      <td>Recommended movie ID: [3548, 232, 3088, 1136, ...</td>\n",
       "      <td>The following is the description of the recomm...</td>\n",
       "    </tr>\n",
       "  </tbody>\n",
       "</table>\n",
       "<p>1208 rows × 5 columns</p>\n",
       "</div>"
      ],
      "text/plain": [
       "      UserID                                        instruction input  \\\n",
       "0          3  Filter exactly 10 unique item IDs that the use...         \n",
       "1          8  Filter exactly 10 unique item IDs that the use...         \n",
       "2         13  Filter exactly 10 unique item IDs that the use...         \n",
       "3         18  Filter exactly 10 unique item IDs that the use...         \n",
       "4         23  Filter exactly 10 unique item IDs that the use...         \n",
       "...      ...                                                ...   ...   \n",
       "1203    6018  Filter exactly 10 unique item IDs that the use...         \n",
       "1204    6023  Filter exactly 10 unique item IDs that the use...         \n",
       "1205    6028  Filter exactly 10 unique item IDs that the use...         \n",
       "1206    6033  Filter exactly 10 unique item IDs that the use...         \n",
       "1207    6038  Filter exactly 10 unique item IDs that the use...         \n",
       "\n",
       "                                                 output  \\\n",
       "0     Recommended movie ID: [1270, 1259, 1079, 1265,...   \n",
       "1     Recommended movie ID: [4, 1027, 3155, 42, 3500...   \n",
       "2     Recommended movie ID: [3269, 552, 2135, 1587, ...   \n",
       "3     Recommended movie ID: [2718, 3723, 2145, 261, ...   \n",
       "4     Recommended movie ID: [2259, 2409, 2410, 327, ...   \n",
       "...                                                 ...   \n",
       "1203  Recommended movie ID: [2021, 3033, 3269, 674, ...   \n",
       "1204  Recommended movie ID: [493, 1620, 3247, 2764, ...   \n",
       "1205  Recommended movie ID: [1573, 592, 2427, 6, 110...   \n",
       "1206  Recommended movie ID: [349, 780, 1608, 380, 13...   \n",
       "1207  Recommended movie ID: [3548, 232, 3088, 1136, ...   \n",
       "\n",
       "                                                   text  \n",
       "0     The following is the description of the recomm...  \n",
       "1     The following is the description of the recomm...  \n",
       "2     The following is the description of the recomm...  \n",
       "3     The following is the description of the recomm...  \n",
       "4     The following is the description of the recomm...  \n",
       "...                                                 ...  \n",
       "1203  The following is the description of the recomm...  \n",
       "1204  The following is the description of the recomm...  \n",
       "1205  The following is the description of the recomm...  \n",
       "1206  The following is the description of the recomm...  \n",
       "1207  The following is the description of the recomm...  \n",
       "\n",
       "[1208 rows x 5 columns]"
      ]
     },
     "execution_count": 4,
     "metadata": {},
     "output_type": "execute_result"
    }
   ],
   "source": [
    "test_data"
   ]
  },
  {
   "cell_type": "code",
   "execution_count": 5,
   "id": "edbcc2ce-0acb-409b-8c37-8cbfbf767ccd",
   "metadata": {},
   "outputs": [
    {
     "name": "stderr",
     "output_type": "stream",
     "text": [
      "[HAMI-core Msg(34482:140591513917248:libvgpu.c:852)]: Initialized\n"
     ]
    },
    {
     "name": "stdout",
     "output_type": "stream",
     "text": [
      "🦥 Unsloth: Will patch your computer to enable 2x faster free finetuning.\n"
     ]
    },
    {
     "name": "stderr",
     "output_type": "stream",
     "text": [
      "[HAMI-core Msg(34599:140062620075840:libvgpu.c:836)]: Initializing.....\n",
      "/usr/local/lib/python3.12/dist-packages/transformers/loss/loss_for_object_detection.py:28: UserWarning: A NumPy version >=1.23.5 and <2.3.0 is required for this version of SciPy (detected version 2.3.2)\n",
      "  from scipy.optimize import linear_sum_assignment\n",
      "[HAMI-core Msg(34599:140062620075840:libvgpu.c:852)]: Initialized\n"
     ]
    },
    {
     "name": "stdout",
     "output_type": "stream",
     "text": [
      "Unsloth: OpenAI failed to import - ignoring for now.\n",
      "🦥 Unsloth Zoo will now patch everything to make training faster!\n",
      "==((====))==  Unsloth 2025.8.1: Fast Llama patching. Transformers: 4.55.0.\n",
      "   \\\\   /|    NVIDIA GeForce RTX 4090. Num GPUs = 1. Max memory: 23.25 GB. Platform: Linux.\n",
      "O^O/ \\_/ \\    Torch: 2.7.1+cu126. CUDA: 8.9. CUDA Toolkit: 12.6. Triton: 3.3.1\n",
      "\\        /    Bfloat16 = TRUE. FA [Xformers = 0.0.31.post1. FA2 = False]\n",
      " \"-____-\"     Free license: http://github.com/unslothai/unsloth\n",
      "Unsloth: Fast downloading is enabled - ignore downloading bars which are red colored!\n"
     ]
    },
    {
     "name": "stderr",
     "output_type": "stream",
     "text": [
      "[HAMI-core Msg(34482:140591513917248:memory.c:512)]: orig free=11507597312 total=25393692672 limit=24964497408 usage=822347776\n",
      "[HAMI-core Msg(34482:140591513917248:memory.c:512)]: orig free=11507597312 total=25393692672 limit=24964497408 usage=822347776\n",
      "Unsloth 2025.8.1 patched 32 layers with 32 QKV layers, 32 O layers and 32 MLP layers.\n",
      "推理生成：:   0%|          | 0/1208 [00:00<?, ?it/s]The attention mask is not set and cannot be inferred from input because pad token is same as eos token. As a consequence, you may observe unexpected behavior. Please pass your input's `attention_mask` to obtain reliable results.\n",
      "推理生成：: 100%|██████████| 1208/1208 [31:05<00:00,  1.54s/it]"
     ]
    },
    {
     "name": "stdout",
     "output_type": "stream",
     "text": [
      " 推荐结果已保存至 recommended_results.csv\n"
     ]
    },
    {
     "name": "stderr",
     "output_type": "stream",
     "text": [
      "\n"
     ]
    }
   ],
   "source": [
    "import pandas as pd\n",
    "from unsloth import FastLanguageModel\n",
    "import torch\n",
    "import re\n",
    "from tqdm import tqdm \n",
    "\n",
    "# 加载模型与 tokenizer（你已正确加载）\n",
    "max_seq_length = 4096\n",
    "dtype = None\n",
    "load_in_4bit = True\n",
    "\n",
    "model, tokenizer = FastLanguageModel.from_pretrained(\n",
    "    model_name=\"outputs/lora_model\",\n",
    "    max_seq_length=max_seq_length,\n",
    "    dtype=dtype,\n",
    "    load_in_4bit=load_in_4bit,\n",
    ")\n",
    "FastLanguageModel.for_inference(model)\n",
    "\n",
    "# test_data = pd.read_csv(\"your_test_data.csv\")  # 示例\n",
    "##加载数据\n",
    "# test_data = pd.read_parquet(\"data/finetuning_data_test.parquet\")\n",
    "test_data = test_data\n",
    "results = []\n",
    "\n",
    "for idx, row in tqdm(test_data.iterrows(), total=len(test_data), desc=\"推理生成：\"):\n",
    "    content = row['instruction']\n",
    "    \n",
    "    messages = [\n",
    "        {\"role\": \"user\", \"content\": content}\n",
    "    ]\n",
    "\n",
    "    input_ids = tokenizer.apply_chat_template(\n",
    "        messages,\n",
    "        add_generation_prompt=True,\n",
    "        return_tensors=\"pt\"\n",
    "    ).to(\"cuda\")\n",
    "\n",
    "    # 不使用 streamer，改为直接获取输出\n",
    "    outputs = model.generate(\n",
    "        input_ids,\n",
    "        max_new_tokens=128,\n",
    "        pad_token_id=tokenizer.eos_token_id,\n",
    "        temperature=0.01,\n",
    "        do_sample=True,\n",
    "    )\n",
    "\n",
    "    response_text = tokenizer.decode(outputs[0], skip_special_tokens=True)\n",
    "\n",
    "    # 提取最后的回答部分（去掉 prompt）\n",
    "    answer = response_text.split(\"[/INST]\")[-1].strip() if \"[/INST]\" in response_text else response_text.strip()\n",
    "    \n",
    "    # 使用正则表达式提取电影ID列表\n",
    "    # 匹配 \"Recommended movie ID: [数字, 数字, ...]\" 格式\n",
    "    pattern = r\"Recommended movie ID:\\s*\\[([^\\]]+)\\]\"\n",
    "    match = re.search(pattern, answer)\n",
    "    \n",
    "    if match:\n",
    "        # 提取方括号内的内容\n",
    "        ids_str = match.group(1)\n",
    "        # 分割并转换为整数列表\n",
    "        try:\n",
    "            item_ids = [int(id.strip()) for id in ids_str.split(',') if id.strip().isdigit()]\n",
    "            # 保证最多10个唯一ID\n",
    "            unique_item_ids = list(dict.fromkeys(item_ids))[:10]\n",
    "        except:\n",
    "            # 如果解析失败，回退到原来的按行分割方法\n",
    "            item_ids = [line.strip() for line in answer.split(\"\\n\") if line.strip().isdigit()]\n",
    "            unique_item_ids = list(dict.fromkeys(item_ids))[:10]\n",
    "    else:\n",
    "        # 如果没有找到推荐格式，回退到原来的按行分割方法\n",
    "        item_ids = [line.strip() for line in answer.split(\"\\n\") if line.strip().isdigit()]\n",
    "        unique_item_ids = list(dict.fromkeys(item_ids))[:10]\n",
    "\n",
    "    results.append({\n",
    "        \"UserID\": row.get(\"UserID\", idx),  # 如果有 uid 列则使用，否则用索引\n",
    "        \"recommended_items\": unique_item_ids  # 保存为列表格式\n",
    "    })\n",
    "\n",
    "# 转换为 DataFrame 并保存\n",
    "result_df = pd.DataFrame(results)\n",
    "# 保存时将列表转换为字符串格式以便CSV兼容\n",
    "result_df['recommended_items_str'] = result_df['recommended_items'].apply(lambda x: ','.join(map(str, x)))\n",
    "result_df.to_csv(\"data/recommended_results.csv\", index=False)\n",
    "\n",
    "print(\" 推荐结果已保存至 recommended_results.csv\")"
   ]
  },
  {
   "cell_type": "code",
   "execution_count": 6,
   "id": "51db64da-5b24-4a1f-bd7a-7c0cceeb394d",
   "metadata": {},
   "outputs": [],
   "source": [
    "result_df = pd.read_csv(\"data/recommended_results.csv\")"
   ]
  },
  {
   "cell_type": "code",
   "execution_count": 7,
   "id": "978d8b04-c844-4d29-99c5-6bae71f1ff5d",
   "metadata": {},
   "outputs": [
    {
     "data": {
      "text/html": [
       "<div>\n",
       "<style scoped>\n",
       "    .dataframe tbody tr th:only-of-type {\n",
       "        vertical-align: middle;\n",
       "    }\n",
       "\n",
       "    .dataframe tbody tr th {\n",
       "        vertical-align: top;\n",
       "    }\n",
       "\n",
       "    .dataframe thead th {\n",
       "        text-align: right;\n",
       "    }\n",
       "</style>\n",
       "<table border=\"1\" class=\"dataframe\">\n",
       "  <thead>\n",
       "    <tr style=\"text-align: right;\">\n",
       "      <th></th>\n",
       "      <th>UserID</th>\n",
       "      <th>recommended_items</th>\n",
       "      <th>recommended_items_str</th>\n",
       "    </tr>\n",
       "  </thead>\n",
       "  <tbody>\n",
       "    <tr>\n",
       "      <th>0</th>\n",
       "      <td>3</td>\n",
       "      <td>[3407, 1253, 1259, 1265, 1270, 1266, 362, 33, ...</td>\n",
       "      <td>3407,1253,1259,1265,1270,1266,362,33,3690,369</td>\n",
       "    </tr>\n",
       "    <tr>\n",
       "      <th>1</th>\n",
       "      <td>8</td>\n",
       "      <td>[1370, 50, 474, 1027, 790, 1, 2390, 3257, 3258]</td>\n",
       "      <td>1370,50,474,1027,790,1,2390,3257,3258</td>\n",
       "    </tr>\n",
       "    <tr>\n",
       "      <th>2</th>\n",
       "      <td>13</td>\n",
       "      <td>[1910, 552, 1587, 2135, 1375, 191, 1085, 2, 10...</td>\n",
       "      <td>1910,552,1587,2135,1375,191,1085,2,1009,2054</td>\n",
       "    </tr>\n",
       "    <tr>\n",
       "      <th>3</th>\n",
       "      <td>18</td>\n",
       "      <td>[858]</td>\n",
       "      <td>858</td>\n",
       "    </tr>\n",
       "    <tr>\n",
       "      <th>4</th>\n",
       "      <td>23</td>\n",
       "      <td>[2643, 3740]</td>\n",
       "      <td>2643,3740</td>\n",
       "    </tr>\n",
       "  </tbody>\n",
       "</table>\n",
       "</div>"
      ],
      "text/plain": [
       "   UserID                                  recommended_items  \\\n",
       "0       3  [3407, 1253, 1259, 1265, 1270, 1266, 362, 33, ...   \n",
       "1       8    [1370, 50, 474, 1027, 790, 1, 2390, 3257, 3258]   \n",
       "2      13  [1910, 552, 1587, 2135, 1375, 191, 1085, 2, 10...   \n",
       "3      18                                              [858]   \n",
       "4      23                                       [2643, 3740]   \n",
       "\n",
       "                           recommended_items_str  \n",
       "0  3407,1253,1259,1265,1270,1266,362,33,3690,369  \n",
       "1          1370,50,474,1027,790,1,2390,3257,3258  \n",
       "2   1910,552,1587,2135,1375,191,1085,2,1009,2054  \n",
       "3                                            858  \n",
       "4                                      2643,3740  "
      ]
     },
     "execution_count": 7,
     "metadata": {},
     "output_type": "execute_result"
    }
   ],
   "source": [
    "result_df.head()"
   ]
  },
  {
   "cell_type": "code",
   "execution_count": 15,
   "id": "17789dfe-fa6e-41e3-8452-816730004d21",
   "metadata": {},
   "outputs": [],
   "source": [
    "##准备real_interected_items\n",
    "real_items = pd.read_csv(\"data/real_interected_items.csv\")"
   ]
  },
  {
   "cell_type": "code",
   "execution_count": 16,
   "id": "aeffb348-9844-4fc4-b7f7-8dc9f054cc95",
   "metadata": {},
   "outputs": [
    {
     "data": {
      "text/html": [
       "<div>\n",
       "<style scoped>\n",
       "    .dataframe tbody tr th:only-of-type {\n",
       "        vertical-align: middle;\n",
       "    }\n",
       "\n",
       "    .dataframe tbody tr th {\n",
       "        vertical-align: top;\n",
       "    }\n",
       "\n",
       "    .dataframe thead th {\n",
       "        text-align: right;\n",
       "    }\n",
       "</style>\n",
       "<table border=\"1\" class=\"dataframe\">\n",
       "  <thead>\n",
       "    <tr style=\"text-align: right;\">\n",
       "      <th></th>\n",
       "      <th>UserID</th>\n",
       "      <th>CandidateItems</th>\n",
       "      <th>InteractedItems</th>\n",
       "    </tr>\n",
       "  </thead>\n",
       "  <tbody>\n",
       "    <tr>\n",
       "      <th>0</th>\n",
       "      <td>3</td>\n",
       "      <td>2019:Action|Drama;549:Documentary;377:Action|R...</td>\n",
       "      <td>1270;1259;1079;1265;2355;1641;3552;104;3868;2081</td>\n",
       "    </tr>\n",
       "    <tr>\n",
       "      <th>1</th>\n",
       "      <td>8</td>\n",
       "      <td>50:Crime|Thriller;3257:Action|Drama|Romance|Th...</td>\n",
       "      <td>4;1027;3155;42;3500;3213;1274;1;741;3257</td>\n",
       "    </tr>\n",
       "    <tr>\n",
       "      <th>2</th>\n",
       "      <td>13</td>\n",
       "      <td>1822:Children's|Comedy;2054:Adventure|Children...</td>\n",
       "      <td>3269;552;2135;1587;2054;2;1009;1375;2641;2822</td>\n",
       "    </tr>\n",
       "    <tr>\n",
       "      <th>3</th>\n",
       "      <td>18</td>\n",
       "      <td>3779:Sci-Fi;1366:Drama;1092:Mystery|Thriller;2...</td>\n",
       "      <td>2718;3723;2145;261;3448;838;26;266;454;1683</td>\n",
       "    </tr>\n",
       "    <tr>\n",
       "      <th>4</th>\n",
       "      <td>23</td>\n",
       "      <td>3131:Comedy;582:Comedy;3854:Drama|Romance;1388...</td>\n",
       "      <td>2259;2409;2410;327;1388;2411;2642;2149;2119;2643</td>\n",
       "    </tr>\n",
       "  </tbody>\n",
       "</table>\n",
       "</div>"
      ],
      "text/plain": [
       "   UserID                                     CandidateItems  \\\n",
       "0       3  2019:Action|Drama;549:Documentary;377:Action|R...   \n",
       "1       8  50:Crime|Thriller;3257:Action|Drama|Romance|Th...   \n",
       "2      13  1822:Children's|Comedy;2054:Adventure|Children...   \n",
       "3      18  3779:Sci-Fi;1366:Drama;1092:Mystery|Thriller;2...   \n",
       "4      23  3131:Comedy;582:Comedy;3854:Drama|Romance;1388...   \n",
       "\n",
       "                                    InteractedItems  \n",
       "0  1270;1259;1079;1265;2355;1641;3552;104;3868;2081  \n",
       "1          4;1027;3155;42;3500;3213;1274;1;741;3257  \n",
       "2     3269;552;2135;1587;2054;2;1009;1375;2641;2822  \n",
       "3       2718;3723;2145;261;3448;838;26;266;454;1683  \n",
       "4  2259;2409;2410;327;1388;2411;2642;2149;2119;2643  "
      ]
     },
     "execution_count": 16,
     "metadata": {},
     "output_type": "execute_result"
    }
   ],
   "source": [
    "real_items.head()"
   ]
  },
  {
   "cell_type": "code",
   "execution_count": 17,
   "id": "ca97272d-ef41-40c3-81b8-4139d70c0b9a",
   "metadata": {},
   "outputs": [],
   "source": [
    "import pandas as pd\n",
    "try:\n",
    "    real_items['InteractedItems'] = real_items['InteractedItems'].str.split(';').apply(lambda x: [int(item) for item in x if item])\n",
    "except ValueError as e:\n",
    "    print(f\"Error converting 'InteractedItems' to list of integers: {e}\")\n",
    "    print(\"检查空值\")"
   ]
  },
  {
   "cell_type": "code",
   "execution_count": 18,
   "id": "c5707b3a-c9c2-4d67-8fa9-06f17fc2a88f",
   "metadata": {},
   "outputs": [
    {
     "data": {
      "text/html": [
       "<div>\n",
       "<style scoped>\n",
       "    .dataframe tbody tr th:only-of-type {\n",
       "        vertical-align: middle;\n",
       "    }\n",
       "\n",
       "    .dataframe tbody tr th {\n",
       "        vertical-align: top;\n",
       "    }\n",
       "\n",
       "    .dataframe thead th {\n",
       "        text-align: right;\n",
       "    }\n",
       "</style>\n",
       "<table border=\"1\" class=\"dataframe\">\n",
       "  <thead>\n",
       "    <tr style=\"text-align: right;\">\n",
       "      <th></th>\n",
       "      <th>UserID</th>\n",
       "      <th>CandidateItems</th>\n",
       "      <th>InteractedItems</th>\n",
       "    </tr>\n",
       "  </thead>\n",
       "  <tbody>\n",
       "    <tr>\n",
       "      <th>0</th>\n",
       "      <td>3</td>\n",
       "      <td>2019:Action|Drama;549:Documentary;377:Action|R...</td>\n",
       "      <td>[1270, 1259, 1079, 1265, 2355, 1641, 3552, 104...</td>\n",
       "    </tr>\n",
       "    <tr>\n",
       "      <th>1</th>\n",
       "      <td>8</td>\n",
       "      <td>50:Crime|Thriller;3257:Action|Drama|Romance|Th...</td>\n",
       "      <td>[4, 1027, 3155, 42, 3500, 3213, 1274, 1, 741, ...</td>\n",
       "    </tr>\n",
       "    <tr>\n",
       "      <th>2</th>\n",
       "      <td>13</td>\n",
       "      <td>1822:Children's|Comedy;2054:Adventure|Children...</td>\n",
       "      <td>[3269, 552, 2135, 1587, 2054, 2, 1009, 1375, 2...</td>\n",
       "    </tr>\n",
       "    <tr>\n",
       "      <th>3</th>\n",
       "      <td>18</td>\n",
       "      <td>3779:Sci-Fi;1366:Drama;1092:Mystery|Thriller;2...</td>\n",
       "      <td>[2718, 3723, 2145, 261, 3448, 838, 26, 266, 45...</td>\n",
       "    </tr>\n",
       "    <tr>\n",
       "      <th>4</th>\n",
       "      <td>23</td>\n",
       "      <td>3131:Comedy;582:Comedy;3854:Drama|Romance;1388...</td>\n",
       "      <td>[2259, 2409, 2410, 327, 1388, 2411, 2642, 2149...</td>\n",
       "    </tr>\n",
       "  </tbody>\n",
       "</table>\n",
       "</div>"
      ],
      "text/plain": [
       "   UserID                                     CandidateItems  \\\n",
       "0       3  2019:Action|Drama;549:Documentary;377:Action|R...   \n",
       "1       8  50:Crime|Thriller;3257:Action|Drama|Romance|Th...   \n",
       "2      13  1822:Children's|Comedy;2054:Adventure|Children...   \n",
       "3      18  3779:Sci-Fi;1366:Drama;1092:Mystery|Thriller;2...   \n",
       "4      23  3131:Comedy;582:Comedy;3854:Drama|Romance;1388...   \n",
       "\n",
       "                                     InteractedItems  \n",
       "0  [1270, 1259, 1079, 1265, 2355, 1641, 3552, 104...  \n",
       "1  [4, 1027, 3155, 42, 3500, 3213, 1274, 1, 741, ...  \n",
       "2  [3269, 552, 2135, 1587, 2054, 2, 1009, 1375, 2...  \n",
       "3  [2718, 3723, 2145, 261, 3448, 838, 26, 266, 45...  \n",
       "4  [2259, 2409, 2410, 327, 1388, 2411, 2642, 2149...  "
      ]
     },
     "execution_count": 18,
     "metadata": {},
     "output_type": "execute_result"
    }
   ],
   "source": [
    "real_items.head()"
   ]
  },
  {
   "cell_type": "code",
   "execution_count": 19,
   "id": "83b5306e-a886-497b-8e88-ab49dfab819e",
   "metadata": {},
   "outputs": [],
   "source": [
    "results = pd.merge(result_df,real_items,on = 'UserID',how = 'inner')\n",
    "results = results[['UserID', 'recommended_items', 'InteractedItems']]"
   ]
  },
  {
   "cell_type": "code",
   "execution_count": 20,
   "id": "1f296a63-0e36-472b-a462-0399397df1d4",
   "metadata": {},
   "outputs": [
    {
     "data": {
      "text/html": [
       "<div>\n",
       "<style scoped>\n",
       "    .dataframe tbody tr th:only-of-type {\n",
       "        vertical-align: middle;\n",
       "    }\n",
       "\n",
       "    .dataframe tbody tr th {\n",
       "        vertical-align: top;\n",
       "    }\n",
       "\n",
       "    .dataframe thead th {\n",
       "        text-align: right;\n",
       "    }\n",
       "</style>\n",
       "<table border=\"1\" class=\"dataframe\">\n",
       "  <thead>\n",
       "    <tr style=\"text-align: right;\">\n",
       "      <th></th>\n",
       "      <th>UserID</th>\n",
       "      <th>recommended_items</th>\n",
       "      <th>InteractedItems</th>\n",
       "    </tr>\n",
       "  </thead>\n",
       "  <tbody>\n",
       "    <tr>\n",
       "      <th>0</th>\n",
       "      <td>3</td>\n",
       "      <td>[3407, 1253, 1259, 1265, 1270, 1266, 362, 33, ...</td>\n",
       "      <td>[1270, 1259, 1079, 1265, 2355, 1641, 3552, 104...</td>\n",
       "    </tr>\n",
       "    <tr>\n",
       "      <th>1</th>\n",
       "      <td>8</td>\n",
       "      <td>[1370, 50, 474, 1027, 790, 1, 2390, 3257, 3258]</td>\n",
       "      <td>[4, 1027, 3155, 42, 3500, 3213, 1274, 1, 741, ...</td>\n",
       "    </tr>\n",
       "    <tr>\n",
       "      <th>2</th>\n",
       "      <td>13</td>\n",
       "      <td>[1910, 552, 1587, 2135, 1375, 191, 1085, 2, 10...</td>\n",
       "      <td>[3269, 552, 2135, 1587, 2054, 2, 1009, 1375, 2...</td>\n",
       "    </tr>\n",
       "    <tr>\n",
       "      <th>3</th>\n",
       "      <td>18</td>\n",
       "      <td>[858]</td>\n",
       "      <td>[2718, 3723, 2145, 261, 3448, 838, 26, 266, 45...</td>\n",
       "    </tr>\n",
       "    <tr>\n",
       "      <th>4</th>\n",
       "      <td>23</td>\n",
       "      <td>[2643, 3740]</td>\n",
       "      <td>[2259, 2409, 2410, 327, 1388, 2411, 2642, 2149...</td>\n",
       "    </tr>\n",
       "  </tbody>\n",
       "</table>\n",
       "</div>"
      ],
      "text/plain": [
       "   UserID                                  recommended_items  \\\n",
       "0       3  [3407, 1253, 1259, 1265, 1270, 1266, 362, 33, ...   \n",
       "1       8    [1370, 50, 474, 1027, 790, 1, 2390, 3257, 3258]   \n",
       "2      13  [1910, 552, 1587, 2135, 1375, 191, 1085, 2, 10...   \n",
       "3      18                                              [858]   \n",
       "4      23                                       [2643, 3740]   \n",
       "\n",
       "                                     InteractedItems  \n",
       "0  [1270, 1259, 1079, 1265, 2355, 1641, 3552, 104...  \n",
       "1  [4, 1027, 3155, 42, 3500, 3213, 1274, 1, 741, ...  \n",
       "2  [3269, 552, 2135, 1587, 2054, 2, 1009, 1375, 2...  \n",
       "3  [2718, 3723, 2145, 261, 3448, 838, 26, 266, 45...  \n",
       "4  [2259, 2409, 2410, 327, 1388, 2411, 2642, 2149...  "
      ]
     },
     "execution_count": 20,
     "metadata": {},
     "output_type": "execute_result"
    }
   ],
   "source": [
    "results.head()"
   ]
  },
  {
   "cell_type": "code",
   "execution_count": 21,
   "id": "1419b69b-39ff-4d77-a1f8-c2ec6af93bde",
   "metadata": {},
   "outputs": [
    {
     "name": "stdout",
     "output_type": "stream",
     "text": [
      "Type of 'recommended_items'[0]: <class 'str'>\n",
      "Type of 'InteractedItems'[0]: <class 'list'>\n"
     ]
    }
   ],
   "source": [
    "print(\"Type of 'recommended_items'[0]:\", type(results['recommended_items'].iloc[0]))\n",
    "print(\"Type of 'InteractedItems'[0]:\", type(results['InteractedItems'].iloc[0]))"
   ]
  },
  {
   "cell_type": "markdown",
   "id": "3d064b4b-208c-4f3e-b194-64f054d58bd9",
   "metadata": {},
   "source": [
    "## 计算模型精确率"
   ]
  },
  {
   "cell_type": "code",
   "execution_count": 22,
   "id": "4661fabe-9488-43b7-8829-4de1cb0fcc56",
   "metadata": {},
   "outputs": [
    {
     "name": "stdout",
     "output_type": "stream",
     "text": [
      "Type of 'recommended_items'[0] after conversion: <class 'list'>\n",
      "Type of 'InteractedItems'[0] (should still be list): <class 'list'>\n"
     ]
    }
   ],
   "source": [
    "import pandas as pd\n",
    "import ast\n",
    "\n",
    "def convert_str_to_list(s):\n",
    "    \"\"\"安全地将字符串形式的列表转换为真正的列表\"\"\"\n",
    "    if isinstance(s, str):\n",
    "        try:\n",
    "            return ast.literal_eval(s)\n",
    "        except (ValueError, SyntaxError):\n",
    "            print(f\"Warning: Could not parse string: {s}\")\n",
    "            return []\n",
    "    elif isinstance(s, list):\n",
    "        return s\n",
    "    else:\n",
    "        print(f\"Warning: Expected string or list, got {type(s)}. Returning empty list.\")\n",
    "        return []\n",
    "\n",
    "results['recommended_items'] = results['recommended_items'].apply(convert_str_to_list)\n",
    "\n",
    "# --- 现在再检查类型 ---\n",
    "print(\"Type of 'recommended_items'[0] after conversion:\", type(results['recommended_items'].iloc[0]))\n",
    "print(\"Type of 'InteractedItems'[0] (should still be list):\", type(results['InteractedItems'].iloc[0]))\n",
    "\n",
    "# --- 现在可以安全地计算交集了 ---\n",
    "def calculate_overlap_ratio(row):\n",
    "    try:\n",
    "        # 确保现在两者都是列表\n",
    "        recommended_set = set(row['recommended_items'])\n",
    "        interacted_set = set(row['InteractedItems'])\n",
    "        \n",
    "        # 计算交集大小\n",
    "        intersection_size = len(recommended_set.intersection(interacted_set))\n",
    "        \n",
    "        # 根据公式计算重复度 (交集大小 / 10)\n",
    "        overlap_ratio = intersection_size / 10.0 \n",
    "        \n",
    "        return overlap_ratio\n",
    "    except Exception as e: # 捕获所有可能的错误\n",
    "        print(f\"Error calculating overlap for row {row.name}: {e}\")\n",
    "        return 0.0\n",
    "\n"
   ]
  },
  {
   "cell_type": "code",
   "execution_count": 23,
   "id": "590fb81a-4a20-4331-b4f1-3218ac6640ac",
   "metadata": {},
   "outputs": [
    {
     "name": "stdout",
     "output_type": "stream",
     "text": [
      "Average Overlap Ratio (Mean): 0.2305\n"
     ]
    }
   ],
   "source": [
    "# 应用函数并计算平均值\n",
    "results['overlap_ratio'] = results.apply(calculate_overlap_ratio, axis=1)\n",
    "average_overlap_ratio = results['overlap_ratio'].mean()\n",
    "\n",
    "print(f\"Average Overlap Ratio (Mean): {average_overlap_ratio:.4f}\")"
   ]
  },
  {
   "cell_type": "code",
   "execution_count": 24,
   "id": "c3cc2f33-1f90-46a6-ba6f-a439106a711a",
   "metadata": {},
   "outputs": [
    {
     "data": {
      "text/html": [
       "<div>\n",
       "<style scoped>\n",
       "    .dataframe tbody tr th:only-of-type {\n",
       "        vertical-align: middle;\n",
       "    }\n",
       "\n",
       "    .dataframe tbody tr th {\n",
       "        vertical-align: top;\n",
       "    }\n",
       "\n",
       "    .dataframe thead th {\n",
       "        text-align: right;\n",
       "    }\n",
       "</style>\n",
       "<table border=\"1\" class=\"dataframe\">\n",
       "  <thead>\n",
       "    <tr style=\"text-align: right;\">\n",
       "      <th></th>\n",
       "      <th>UserID</th>\n",
       "      <th>recommended_items</th>\n",
       "      <th>InteractedItems</th>\n",
       "      <th>overlap_ratio</th>\n",
       "    </tr>\n",
       "  </thead>\n",
       "  <tbody>\n",
       "    <tr>\n",
       "      <th>0</th>\n",
       "      <td>3</td>\n",
       "      <td>[3407, 1253, 1259, 1265, 1270, 1266, 362, 33, ...</td>\n",
       "      <td>[1270, 1259, 1079, 1265, 2355, 1641, 3552, 104...</td>\n",
       "      <td>0.3</td>\n",
       "    </tr>\n",
       "    <tr>\n",
       "      <th>1</th>\n",
       "      <td>8</td>\n",
       "      <td>[1370, 50, 474, 1027, 790, 1, 2390, 3257, 3258]</td>\n",
       "      <td>[4, 1027, 3155, 42, 3500, 3213, 1274, 1, 741, ...</td>\n",
       "      <td>0.3</td>\n",
       "    </tr>\n",
       "    <tr>\n",
       "      <th>2</th>\n",
       "      <td>13</td>\n",
       "      <td>[1910, 552, 1587, 2135, 1375, 191, 1085, 2, 10...</td>\n",
       "      <td>[3269, 552, 2135, 1587, 2054, 2, 1009, 1375, 2...</td>\n",
       "      <td>0.7</td>\n",
       "    </tr>\n",
       "    <tr>\n",
       "      <th>3</th>\n",
       "      <td>18</td>\n",
       "      <td>[858]</td>\n",
       "      <td>[2718, 3723, 2145, 261, 3448, 838, 26, 266, 45...</td>\n",
       "      <td>0.0</td>\n",
       "    </tr>\n",
       "    <tr>\n",
       "      <th>4</th>\n",
       "      <td>23</td>\n",
       "      <td>[2643, 3740]</td>\n",
       "      <td>[2259, 2409, 2410, 327, 1388, 2411, 2642, 2149...</td>\n",
       "      <td>0.1</td>\n",
       "    </tr>\n",
       "  </tbody>\n",
       "</table>\n",
       "</div>"
      ],
      "text/plain": [
       "   UserID                                  recommended_items  \\\n",
       "0       3  [3407, 1253, 1259, 1265, 1270, 1266, 362, 33, ...   \n",
       "1       8    [1370, 50, 474, 1027, 790, 1, 2390, 3257, 3258]   \n",
       "2      13  [1910, 552, 1587, 2135, 1375, 191, 1085, 2, 10...   \n",
       "3      18                                              [858]   \n",
       "4      23                                       [2643, 3740]   \n",
       "\n",
       "                                     InteractedItems  overlap_ratio  \n",
       "0  [1270, 1259, 1079, 1265, 2355, 1641, 3552, 104...            0.3  \n",
       "1  [4, 1027, 3155, 42, 3500, 3213, 1274, 1, 741, ...            0.3  \n",
       "2  [3269, 552, 2135, 1587, 2054, 2, 1009, 1375, 2...            0.7  \n",
       "3  [2718, 3723, 2145, 261, 3448, 838, 26, 266, 45...            0.0  \n",
       "4  [2259, 2409, 2410, 327, 1388, 2411, 2642, 2149...            0.1  "
      ]
     },
     "execution_count": 24,
     "metadata": {},
     "output_type": "execute_result"
    }
   ],
   "source": [
    "results.head()"
   ]
  },
  {
   "cell_type": "code",
   "execution_count": 25,
   "id": "f856dd03-6722-4053-8360-4e4cca38c1a2",
   "metadata": {},
   "outputs": [],
   "source": [
    "pd.set_option('display.max_colwidth', None)  # 显示完整的列宽\n",
    "pd.set_option('display.width', None)         # 不限制显示宽度\n",
    "pd.set_option('display.max_columns', None)   # 显示所有列"
   ]
  },
  {
   "cell_type": "code",
   "execution_count": 26,
   "id": "093aa9cb-9ba4-4b90-8410-e9ac68cb9db1",
   "metadata": {},
   "outputs": [
    {
     "name": "stdout",
     "output_type": "stream",
     "text": [
      "Average Overlap Ratio (Mean): 0.2305\n"
     ]
    }
   ],
   "source": [
    "# 如果有 None 值（由错误处理产生），mean() 会自动忽略它们 (skipna=True 是默认行为)\n",
    "average_overlap_ratio = results['overlap_ratio'].mean()\n",
    "\n",
    "# 输出结果\n",
    "print(f\"Average Overlap Ratio (Mean): {average_overlap_ratio:.4f}\")"
   ]
  },
  {
   "cell_type": "code",
   "execution_count": null,
   "id": "e179af77-711b-4adc-9300-e66090b7cb36",
   "metadata": {},
   "outputs": [],
   "source": []
  },
  {
   "cell_type": "code",
   "execution_count": null,
   "id": "e04e8b57-c7a8-4f07-a530-92e61a0ddc79",
   "metadata": {},
   "outputs": [],
   "source": []
  }
 ],
 "metadata": {
  "kernelspec": {
   "display_name": "Python 3 (ipykernel)",
   "language": "python",
   "name": "python3"
  },
  "language_info": {
   "codemirror_mode": {
    "name": "ipython",
    "version": 3
   },
   "file_extension": ".py",
   "mimetype": "text/x-python",
   "name": "python",
   "nbconvert_exporter": "python",
   "pygments_lexer": "ipython3",
   "version": "3.12.4"
  }
 },
 "nbformat": 4,
 "nbformat_minor": 5
}
