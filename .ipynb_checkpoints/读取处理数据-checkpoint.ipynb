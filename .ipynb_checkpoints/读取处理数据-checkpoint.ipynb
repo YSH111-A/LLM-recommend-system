{
 "cells": [
  {
   "cell_type": "markdown",
   "id": "de9ccd27-a681-4cf5-a0ba-d997ecdd8d15",
   "metadata": {
    "jp-MarkdownHeadingCollapsed": true
   },
   "source": [
    "## 源出数据\n"
   ]
  },
  {
   "cell_type": "code",
   "execution_count": 1,
   "id": "285d709f-aeb5-479e-8171-4c5da785df3c",
   "metadata": {
    "jupyter": {
     "source_hidden": true
    }
   },
   "outputs": [],
   "source": [
    "# import pandas as pd\n",
    "\n",
    "# def dat_to_csv_with_encoding(input_file, output_file):\n",
    "#     \"\"\"\n",
    "#     尝试多种编码格式读取.dat文件\n",
    "#     \"\"\"\n",
    "#     # 常见的编码格式列表\n",
    "#     encodings = ['utf-8', 'gbk', 'gb2312', 'latin1', 'cp1252', 'iso-8859-1']\n",
    "    \n",
    "#     for encoding in encodings:\n",
    "#         try:\n",
    "#             print(f\"尝试编码格式: {encoding}\")\n",
    "#             df = pd.read_csv(input_file, sep='::', engine='python', encoding=encoding)\n",
    "#             df.to_csv(output_file, index=False, encoding='utf-8')\n",
    "#             print(f\"✓ 成功使用 {encoding} 编码转换完成！\")\n",
    "#             return df\n",
    "#         except Exception as e:\n",
    "#             print(f\"✗ {encoding} 编码失败: {str(e)[:50]}...\")\n",
    "#             continue\n",
    "    \n",
    "#     print(\"所有编码格式都失败了\")\n",
    "#     return None\n",
    "\n"
   ]
  },
  {
   "cell_type": "code",
   "execution_count": 2,
   "id": "3520757b-5eca-4948-b2ca-2fd537e7fb40",
   "metadata": {},
   "outputs": [],
   "source": [
    "# # 使用示例\n",
    "# df = dat_to_csv_with_encoding('movies.dat', 'movies.csv')"
   ]
  },
  {
   "cell_type": "code",
   "execution_count": 3,
   "id": "8a4bb626-6b44-467d-bfe8-9b522c9c5b77",
   "metadata": {},
   "outputs": [],
   "source": [
    "# ra = pd.read_csv('data/ratings.csv',sep = '::', engine='python')"
   ]
  },
  {
   "cell_type": "code",
   "execution_count": 4,
   "id": "d7a3e9a4-62df-4870-8f77-2a0897428480",
   "metadata": {},
   "outputs": [],
   "source": [
    "# mv = pd.read_csv('data/movies.csv',sep = ',', engine='python')"
   ]
  },
  {
   "cell_type": "code",
   "execution_count": 5,
   "id": "4abfc1cd-8cfd-44a2-8e21-d4120af97b72",
   "metadata": {},
   "outputs": [],
   "source": [
    "# ur = pd.read_csv('data/users.csv',sep = '::', engine='python')"
   ]
  },
  {
   "cell_type": "code",
   "execution_count": 6,
   "id": "f2f2ab11-e961-4790-a0b0-a9434f295c36",
   "metadata": {},
   "outputs": [],
   "source": [
    "# users = pd.read_csv('data/users.csv', sep=\"::\", engine=\"python\",\n",
    "#                     names=[\"UserID\",\"Gender\",\"Age\",\"Occupation\",\"Zip\"],encoding='latin-1')\n",
    "\n",
    "# movies = pd.read_csv(\"data/movies.dat\", sep=\"::\", engine=\"python\",\n",
    "#                      names=[\"MovieID\",\"Title\",\"Genres\"],encoding='latin-1')\n",
    "\n",
    "# ratings = pd.read_csv(\"data/ratings.dat\", sep=\"::\", engine=\"python\",\n",
    "#                       names=[\"UserID\",\"MovieID\",\"Rating\",\"Timestamp\"],encoding='latin-1')"
   ]
  },
  {
   "cell_type": "code",
   "execution_count": 7,
   "id": "b7a50231-608f-4a0e-86d6-81e6fb6a8f07",
   "metadata": {},
   "outputs": [],
   "source": [
    "# # 合并表\n",
    "# data = ratings.merge(movies, on=\"MovieID\").merge(users, on=\"UserID\")"
   ]
  },
  {
   "cell_type": "code",
   "execution_count": 8,
   "id": "4af2c671-b55a-4680-8b96-6fc17df343a9",
   "metadata": {},
   "outputs": [],
   "source": [
    "# data.to_csv('data.csv',index = False)"
   ]
  },
  {
   "cell_type": "markdown",
   "id": "0e260e07-e0b1-46e8-8025-f8c3249df773",
   "metadata": {},
   "source": [
    "## 标准源数据处理"
   ]
  },
  {
   "cell_type": "code",
   "execution_count": 9,
   "id": "024fa195-6676-4b14-a515-990b0ef32cff",
   "metadata": {},
   "outputs": [],
   "source": [
    "import pandas as pd \n",
    "df = pd.read_csv('data.csv')"
   ]
  },
  {
   "cell_type": "code",
   "execution_count": 10,
   "id": "f6155a71-9c44-4d08-88ac-d6bcc6965740",
   "metadata": {},
   "outputs": [
    {
     "data": {
      "text/html": [
       "<div>\n",
       "<style scoped>\n",
       "    .dataframe tbody tr th:only-of-type {\n",
       "        vertical-align: middle;\n",
       "    }\n",
       "\n",
       "    .dataframe tbody tr th {\n",
       "        vertical-align: top;\n",
       "    }\n",
       "\n",
       "    .dataframe thead th {\n",
       "        text-align: right;\n",
       "    }\n",
       "</style>\n",
       "<table border=\"1\" class=\"dataframe\">\n",
       "  <thead>\n",
       "    <tr style=\"text-align: right;\">\n",
       "      <th></th>\n",
       "      <th>UserID</th>\n",
       "      <th>MovieID</th>\n",
       "      <th>Rating</th>\n",
       "      <th>Timestamp</th>\n",
       "      <th>Title</th>\n",
       "      <th>Genres</th>\n",
       "      <th>Gender</th>\n",
       "      <th>Age</th>\n",
       "      <th>Occupation</th>\n",
       "      <th>Zip</th>\n",
       "    </tr>\n",
       "  </thead>\n",
       "  <tbody>\n",
       "    <tr>\n",
       "      <th>0</th>\n",
       "      <td>1</td>\n",
       "      <td>1193</td>\n",
       "      <td>5</td>\n",
       "      <td>978300760</td>\n",
       "      <td>One Flew Over the Cuckoo's Nest (1975)</td>\n",
       "      <td>Drama</td>\n",
       "      <td>F</td>\n",
       "      <td>1</td>\n",
       "      <td>10</td>\n",
       "      <td>48067</td>\n",
       "    </tr>\n",
       "    <tr>\n",
       "      <th>1</th>\n",
       "      <td>1</td>\n",
       "      <td>661</td>\n",
       "      <td>3</td>\n",
       "      <td>978302109</td>\n",
       "      <td>James and the Giant Peach (1996)</td>\n",
       "      <td>Animation|Children's|Musical</td>\n",
       "      <td>F</td>\n",
       "      <td>1</td>\n",
       "      <td>10</td>\n",
       "      <td>48067</td>\n",
       "    </tr>\n",
       "    <tr>\n",
       "      <th>2</th>\n",
       "      <td>1</td>\n",
       "      <td>914</td>\n",
       "      <td>3</td>\n",
       "      <td>978301968</td>\n",
       "      <td>My Fair Lady (1964)</td>\n",
       "      <td>Musical|Romance</td>\n",
       "      <td>F</td>\n",
       "      <td>1</td>\n",
       "      <td>10</td>\n",
       "      <td>48067</td>\n",
       "    </tr>\n",
       "    <tr>\n",
       "      <th>3</th>\n",
       "      <td>1</td>\n",
       "      <td>3408</td>\n",
       "      <td>4</td>\n",
       "      <td>978300275</td>\n",
       "      <td>Erin Brockovich (2000)</td>\n",
       "      <td>Drama</td>\n",
       "      <td>F</td>\n",
       "      <td>1</td>\n",
       "      <td>10</td>\n",
       "      <td>48067</td>\n",
       "    </tr>\n",
       "    <tr>\n",
       "      <th>4</th>\n",
       "      <td>1</td>\n",
       "      <td>2355</td>\n",
       "      <td>5</td>\n",
       "      <td>978824291</td>\n",
       "      <td>Bug's Life, A (1998)</td>\n",
       "      <td>Animation|Children's|Comedy</td>\n",
       "      <td>F</td>\n",
       "      <td>1</td>\n",
       "      <td>10</td>\n",
       "      <td>48067</td>\n",
       "    </tr>\n",
       "  </tbody>\n",
       "</table>\n",
       "</div>"
      ],
      "text/plain": [
       "   UserID  MovieID  Rating  Timestamp                                   Title  \\\n",
       "0       1     1193       5  978300760  One Flew Over the Cuckoo's Nest (1975)   \n",
       "1       1      661       3  978302109        James and the Giant Peach (1996)   \n",
       "2       1      914       3  978301968                     My Fair Lady (1964)   \n",
       "3       1     3408       4  978300275                  Erin Brockovich (2000)   \n",
       "4       1     2355       5  978824291                    Bug's Life, A (1998)   \n",
       "\n",
       "                         Genres Gender  Age  Occupation    Zip  \n",
       "0                         Drama      F    1          10  48067  \n",
       "1  Animation|Children's|Musical      F    1          10  48067  \n",
       "2               Musical|Romance      F    1          10  48067  \n",
       "3                         Drama      F    1          10  48067  \n",
       "4   Animation|Children's|Comedy      F    1          10  48067  "
      ]
     },
     "execution_count": 10,
     "metadata": {},
     "output_type": "execute_result"
    }
   ],
   "source": [
    "df.head()"
   ]
  },
  {
   "cell_type": "code",
   "execution_count": 11,
   "id": "d6ef6553-dfd3-43dd-a44a-fa9f54cc3d60",
   "metadata": {},
   "outputs": [],
   "source": [
    "user_train = df.query(\"UserID % 5 != 3\")\n",
    "user_test = df.query(\"UserID %5 ==3\")"
   ]
  },
  {
   "cell_type": "code",
   "execution_count": 12,
   "id": "faf83372-9b69-4400-9ce4-413f0f457d94",
   "metadata": {},
   "outputs": [],
   "source": [
    "user_train.to_csv(\"data/user_train.csv\",index = False)\n",
    "user_test.to_csv(\"data/user_test.csv\",index = False)"
   ]
  },
  {
   "cell_type": "code",
   "execution_count": 13,
   "id": "09055acb-a4cf-4f4e-8e17-5709bad26fae",
   "metadata": {},
   "outputs": [
    {
     "data": {
      "text/plain": [
       "UserID\n",
       "4169    2314\n",
       "1680    1850\n",
       "4277    1743\n",
       "1941    1595\n",
       "1181    1521\n",
       "        ... \n",
       "2673      20\n",
       "665       20\n",
       "2530      20\n",
       "2133      20\n",
       "2061      20\n",
       "Name: count, Length: 6040, dtype: int64"
      ]
     },
     "execution_count": 13,
     "metadata": {},
     "output_type": "execute_result"
    }
   ],
   "source": [
    "df['UserID'].value_counts()"
   ]
  },
  {
   "cell_type": "markdown",
   "id": "7671532f-417e-4950-ae25-9ca9c3a5cb80",
   "metadata": {},
   "source": [
    "## 使用待训练的用户数据user_train，构造训练数据集"
   ]
  },
  {
   "cell_type": "code",
   "execution_count": 14,
   "id": "03f2ffe0-d62a-4cfc-9fdb-190a6fb595d4",
   "metadata": {},
   "outputs": [],
   "source": [
    "import pandas as pd\n",
    "import numpy as np"
   ]
  },
  {
   "cell_type": "code",
   "execution_count": 15,
   "id": "0c3aeef7-68b7-456f-acf9-829b0b541265",
   "metadata": {},
   "outputs": [],
   "source": [
    "###使用训练集user_train构造用户画像、output物品\n",
    "def split_train_val_by_user(df, val_size=10):\n",
    "   \n",
    "    \n",
    "    # 按用户和时间戳排序\n",
    "    df_sorted = df.sort_values(['UserID', 'Timestamp']).reset_index(drop=True)\n",
    "    \n",
    "    train_list = []\n",
    "    val_list = []\n",
    "    \n",
    "    # 按用户分组处理\n",
    "    for user_id, user_data in df_sorted.groupby('UserID'):\n",
    "        user_data = user_data.reset_index(drop=True)\n",
    "        total_samples = len(user_data)\n",
    "        \n",
    "        if total_samples < val_size:\n",
    "            # 小于10条，全部作为训练集\n",
    "            train_list.append(user_data)\n",
    "        else:\n",
    "            train_samples = user_data.iloc[:-val_size]\n",
    "            val_samples = user_data.iloc[-val_size:]\n",
    "            \n",
    "            # 如果验证集超过最大限制，只取最近的几条\n",
    "            if len(val_samples) > 10:\n",
    "                val_samples = val_samples.tail(10)\n",
    "            \n",
    "            train_list.append(train_samples)\n",
    "            val_list.append(val_samples)\n",
    "    \n",
    "    # 合并所有用户的训练集和验证集\n",
    "    train_df = pd.concat(train_list, ignore_index=True) if train_list else pd.DataFrame()\n",
    "    val_df = pd.concat(val_list, ignore_index=True) if val_list else pd.DataFrame()\n",
    "    \n",
    "    return train_df, val_df"
   ]
  },
  {
   "cell_type": "code",
   "execution_count": 16,
   "id": "ac489e31-e7a6-4699-a99f-930de2405904",
   "metadata": {},
   "outputs": [
    {
     "name": "stdout",
     "output_type": "stream",
     "text": [
      "user_train总量大小：801531\n",
      "训练集大小: 753211\n",
      "验证集大小: 48320\n",
      "训练集用户数: 4832\n",
      "验证集用户数: 4832\n"
     ]
    }
   ],
   "source": [
    "# 画像物品、测评物品划分\n",
    "train_df, val_df = split_train_val_by_user(user_train, val_size=10)\n",
    "\n",
    "# 查看结果\n",
    "print(f\"user_train总量大小：{len(user_train)}\")\n",
    "print(f\"训练集大小: {len(train_df)}\")\n",
    "print(f\"验证集大小: {len(val_df)}\")\n",
    "print(f\"训练集用户数: {train_df['UserID'].nunique()}\")\n",
    "print(f\"验证集用户数: {val_df['UserID'].nunique()}\")\n",
    "\n",
    "\n",
    "# print(\"\\n验证集前几条:\")\n",
    "# val_df.head()\n",
    "train_df.to_parquet('data/train_df.parquet')\n",
    "val_df.to_parquet('data/val_df.parquet')"
   ]
  },
  {
   "cell_type": "code",
   "execution_count": 17,
   "id": "c1f56693-9994-412d-ba5e-bc34af2f0aa6",
   "metadata": {},
   "outputs": [
    {
     "data": {
      "text/html": [
       "<div>\n",
       "<style scoped>\n",
       "    .dataframe tbody tr th:only-of-type {\n",
       "        vertical-align: middle;\n",
       "    }\n",
       "\n",
       "    .dataframe tbody tr th {\n",
       "        vertical-align: top;\n",
       "    }\n",
       "\n",
       "    .dataframe thead th {\n",
       "        text-align: right;\n",
       "    }\n",
       "</style>\n",
       "<table border=\"1\" class=\"dataframe\">\n",
       "  <thead>\n",
       "    <tr style=\"text-align: right;\">\n",
       "      <th></th>\n",
       "      <th>UserID</th>\n",
       "      <th>MovieID</th>\n",
       "      <th>Rating</th>\n",
       "      <th>Timestamp</th>\n",
       "      <th>Title</th>\n",
       "      <th>Genres</th>\n",
       "      <th>Gender</th>\n",
       "      <th>Age</th>\n",
       "      <th>Occupation</th>\n",
       "      <th>Zip</th>\n",
       "    </tr>\n",
       "  </thead>\n",
       "  <tbody>\n",
       "    <tr>\n",
       "      <th>0</th>\n",
       "      <td>1</td>\n",
       "      <td>3186</td>\n",
       "      <td>4</td>\n",
       "      <td>978300019</td>\n",
       "      <td>Girl, Interrupted (1999)</td>\n",
       "      <td>Drama</td>\n",
       "      <td>F</td>\n",
       "      <td>1</td>\n",
       "      <td>10</td>\n",
       "      <td>48067</td>\n",
       "    </tr>\n",
       "    <tr>\n",
       "      <th>1</th>\n",
       "      <td>1</td>\n",
       "      <td>1270</td>\n",
       "      <td>5</td>\n",
       "      <td>978300055</td>\n",
       "      <td>Back to the Future (1985)</td>\n",
       "      <td>Comedy|Sci-Fi</td>\n",
       "      <td>F</td>\n",
       "      <td>1</td>\n",
       "      <td>10</td>\n",
       "      <td>48067</td>\n",
       "    </tr>\n",
       "    <tr>\n",
       "      <th>2</th>\n",
       "      <td>1</td>\n",
       "      <td>1721</td>\n",
       "      <td>4</td>\n",
       "      <td>978300055</td>\n",
       "      <td>Titanic (1997)</td>\n",
       "      <td>Drama|Romance</td>\n",
       "      <td>F</td>\n",
       "      <td>1</td>\n",
       "      <td>10</td>\n",
       "      <td>48067</td>\n",
       "    </tr>\n",
       "    <tr>\n",
       "      <th>3</th>\n",
       "      <td>1</td>\n",
       "      <td>1022</td>\n",
       "      <td>5</td>\n",
       "      <td>978300055</td>\n",
       "      <td>Cinderella (1950)</td>\n",
       "      <td>Animation|Children's|Musical</td>\n",
       "      <td>F</td>\n",
       "      <td>1</td>\n",
       "      <td>10</td>\n",
       "      <td>48067</td>\n",
       "    </tr>\n",
       "    <tr>\n",
       "      <th>4</th>\n",
       "      <td>1</td>\n",
       "      <td>2340</td>\n",
       "      <td>3</td>\n",
       "      <td>978300103</td>\n",
       "      <td>Meet Joe Black (1998)</td>\n",
       "      <td>Romance</td>\n",
       "      <td>F</td>\n",
       "      <td>1</td>\n",
       "      <td>10</td>\n",
       "      <td>48067</td>\n",
       "    </tr>\n",
       "    <tr>\n",
       "      <th>...</th>\n",
       "      <td>...</td>\n",
       "      <td>...</td>\n",
       "      <td>...</td>\n",
       "      <td>...</td>\n",
       "      <td>...</td>\n",
       "      <td>...</td>\n",
       "      <td>...</td>\n",
       "      <td>...</td>\n",
       "      <td>...</td>\n",
       "      <td>...</td>\n",
       "    </tr>\n",
       "    <tr>\n",
       "      <th>753206</th>\n",
       "      <td>6040</td>\n",
       "      <td>1947</td>\n",
       "      <td>4</td>\n",
       "      <td>997454036</td>\n",
       "      <td>West Side Story (1961)</td>\n",
       "      <td>Musical|Romance</td>\n",
       "      <td>M</td>\n",
       "      <td>25</td>\n",
       "      <td>6</td>\n",
       "      <td>11106</td>\n",
       "    </tr>\n",
       "    <tr>\n",
       "      <th>753207</th>\n",
       "      <td>6040</td>\n",
       "      <td>1211</td>\n",
       "      <td>5</td>\n",
       "      <td>997454080</td>\n",
       "      <td>Wings of Desire (Der Himmel über Berlin) (1987)</td>\n",
       "      <td>Comedy|Drama|Romance</td>\n",
       "      <td>M</td>\n",
       "      <td>25</td>\n",
       "      <td>6</td>\n",
       "      <td>11106</td>\n",
       "    </tr>\n",
       "    <tr>\n",
       "      <th>753208</th>\n",
       "      <td>6040</td>\n",
       "      <td>2571</td>\n",
       "      <td>4</td>\n",
       "      <td>997454126</td>\n",
       "      <td>Matrix, The (1999)</td>\n",
       "      <td>Action|Sci-Fi|Thriller</td>\n",
       "      <td>M</td>\n",
       "      <td>25</td>\n",
       "      <td>6</td>\n",
       "      <td>11106</td>\n",
       "    </tr>\n",
       "    <tr>\n",
       "      <th>753209</th>\n",
       "      <td>6040</td>\n",
       "      <td>1333</td>\n",
       "      <td>4</td>\n",
       "      <td>997454140</td>\n",
       "      <td>Birds, The (1963)</td>\n",
       "      <td>Horror</td>\n",
       "      <td>M</td>\n",
       "      <td>25</td>\n",
       "      <td>6</td>\n",
       "      <td>11106</td>\n",
       "    </tr>\n",
       "    <tr>\n",
       "      <th>753210</th>\n",
       "      <td>6040</td>\n",
       "      <td>953</td>\n",
       "      <td>5</td>\n",
       "      <td>997454160</td>\n",
       "      <td>It's a Wonderful Life (1946)</td>\n",
       "      <td>Drama</td>\n",
       "      <td>M</td>\n",
       "      <td>25</td>\n",
       "      <td>6</td>\n",
       "      <td>11106</td>\n",
       "    </tr>\n",
       "  </tbody>\n",
       "</table>\n",
       "<p>753211 rows × 10 columns</p>\n",
       "</div>"
      ],
      "text/plain": [
       "        UserID  MovieID  Rating  Timestamp  \\\n",
       "0            1     3186       4  978300019   \n",
       "1            1     1270       5  978300055   \n",
       "2            1     1721       4  978300055   \n",
       "3            1     1022       5  978300055   \n",
       "4            1     2340       3  978300103   \n",
       "...        ...      ...     ...        ...   \n",
       "753206    6040     1947       4  997454036   \n",
       "753207    6040     1211       5  997454080   \n",
       "753208    6040     2571       4  997454126   \n",
       "753209    6040     1333       4  997454140   \n",
       "753210    6040      953       5  997454160   \n",
       "\n",
       "                                                  Title  \\\n",
       "0                              Girl, Interrupted (1999)   \n",
       "1                             Back to the Future (1985)   \n",
       "2                                        Titanic (1997)   \n",
       "3                                     Cinderella (1950)   \n",
       "4                                 Meet Joe Black (1998)   \n",
       "...                                                 ...   \n",
       "753206                           West Side Story (1961)   \n",
       "753207  Wings of Desire (Der Himmel über Berlin) (1987)   \n",
       "753208                               Matrix, The (1999)   \n",
       "753209                                Birds, The (1963)   \n",
       "753210                     It's a Wonderful Life (1946)   \n",
       "\n",
       "                              Genres Gender  Age  Occupation    Zip  \n",
       "0                              Drama      F    1          10  48067  \n",
       "1                      Comedy|Sci-Fi      F    1          10  48067  \n",
       "2                      Drama|Romance      F    1          10  48067  \n",
       "3       Animation|Children's|Musical      F    1          10  48067  \n",
       "4                            Romance      F    1          10  48067  \n",
       "...                              ...    ...  ...         ...    ...  \n",
       "753206               Musical|Romance      M   25           6  11106  \n",
       "753207          Comedy|Drama|Romance      M   25           6  11106  \n",
       "753208        Action|Sci-Fi|Thriller      M   25           6  11106  \n",
       "753209                        Horror      M   25           6  11106  \n",
       "753210                         Drama      M   25           6  11106  \n",
       "\n",
       "[753211 rows x 10 columns]"
      ]
     },
     "execution_count": 17,
     "metadata": {},
     "output_type": "execute_result"
    }
   ],
   "source": [
    "train_df"
   ]
  },
  {
   "cell_type": "code",
   "execution_count": 18,
   "id": "311d1bf4-24b6-4c56-86d0-5825875aa55e",
   "metadata": {},
   "outputs": [],
   "source": [
    "##使用train_df搭建用户画像\n",
    "\n",
    "def create_user_profile_simple(train_df):\n",
    "    \"\"\"\n",
    "    简化版用户画像构造函数\n",
    "    对每个用户，仅使用其最近的最多100条评分记录（按Timestamp降序）\n",
    "    \"\"\"\n",
    "    user_profiles_list = []\n",
    "    \n",
    "    # 确保Timestamp是datetime类型\n",
    "    if not pd.api.types.is_datetime64_any_dtype(train_df['Timestamp']):\n",
    "        train_df = train_df.copy()\n",
    "        train_df['Timestamp'] = pd.to_datetime(train_df['Timestamp'], errors='coerce')\n",
    "    \n",
    "    for user_id, user_data in train_df.groupby('UserID'):\n",
    "        # 按时间戳降序排序，取最近的最多100条记录\n",
    "        user_data_sorted = user_data.sort_values(by='Timestamp', ascending=False).head(60)\n",
    "        \n",
    "        # 获取用户基本信息（使用排序后第一条，即最近的一条）\n",
    "        basic_info = user_data_sorted.iloc[0]\n",
    "        \n",
    "        # 收集所有电影类型\n",
    "        all_genres = set()\n",
    "        for genres in user_data_sorted['Genres'].dropna():\n",
    "            all_genres.update(genres.split('|'))\n",
    "        \n",
    "        # 构造用户画像\n",
    "        profile_dict = {\n",
    "            'UserID': user_id,\n",
    "            'Gender': basic_info['Gender'],\n",
    "            'Age': basic_info['Age'],\n",
    "            'Occupation': basic_info['Occupation'],\n",
    "            'Zip': basic_info['Zip'],\n",
    "            'RatedMovies': ';'.join([f\"MovieID:{row['MovieID']},rating:{row['Rating']},Genres:{row['Genres']}\" \n",
    "                                   for _, row in user_data_sorted.iterrows()]),\n",
    "            # 'FavoriteGenres': '|'.join(sorted(all_genres)) if all_genres else ''\n",
    "        }\n",
    "        \n",
    "        # 转换为指定格式的字符串\n",
    "        profile_str = \" | \".join([\n",
    "            f\"UserID:{profile_dict['UserID']}\",\n",
    "            f\"Gender:{profile_dict['Gender']}\",\n",
    "            f\"Age:{profile_dict['Age']}\",\n",
    "            f\"Occupation:{profile_dict['Occupation']}\",\n",
    "            f\"Zip:{profile_dict['Zip']}\",\n",
    "            f\"RatedMovies:{profile_dict['RatedMovies']}\",\n",
    "            # f\"FavoriteGenres:{profile_dict['FavoriteGenres']}\"\n",
    "        ])\n",
    "        \n",
    "        user_profiles_list.append({\n",
    "            'UserID': user_id,\n",
    "            'UserProfile': profile_str\n",
    "        })\n",
    "    \n",
    "    return pd.DataFrame(user_profiles_list)"
   ]
  },
  {
   "cell_type": "code",
   "execution_count": 19,
   "id": "31c83e8c-7606-4d58-8758-27b8ebb98507",
   "metadata": {},
   "outputs": [],
   "source": [
    "# 构建用户画像\n",
    "user_profiles = create_user_profile_simple(train_df)"
   ]
  },
  {
   "cell_type": "code",
   "execution_count": 20,
   "id": "326db807-dbc2-4a0e-bbe8-baaba33b6b3e",
   "metadata": {},
   "outputs": [
    {
     "data": {
      "text/plain": [
       "\"UserID:6 | Gender:F | Age:50 | Occupation:9 | Zip:55117 | RatedMovies:MovieID:1007,rating:3,Genres:Children's|Comedy|Western;MovieID:3682,rating:3,Genres:Western;MovieID:3508,rating:3,Genres:Western;MovieID:3074,rating:5,Genres:Western;MovieID:266,rating:4,Genres:Drama|Romance|War|Western;MovieID:383,rating:4,Genres:Western;MovieID:368,rating:4,Genres:Action|Comedy|Western;MovieID:3610,rating:3,Genres:Musical;MovieID:2017,rating:3,Genres:Children's|Fantasy|Musical;MovieID:3600,rating:3,Genres:Comedy|Musical;MovieID:1028,rating:4,Genres:Children's|Comedy|Musical;MovieID:1035,rating:5,Genres:Musical;MovieID:914,rating:5,Genres:Musical|Romance;MovieID:3604,rating:5,Genres:Musical;MovieID:1947,rating:5,Genres:Musical|Romance;MovieID:1380,rating:5,Genres:Comedy|Musical|Romance;MovieID:1030,rating:4,Genres:Adventure|Animation|Children's|Musical;MovieID:1688,rating:5,Genres:Animation|Children's|Musical;MovieID:48,rating:5,Genres:Animation|Children's|Musical|Romance;MovieID:1566,rating:4,Genres:Adventure|Animation|Children's|Comedy|Musical;MovieID:364,rating:4,Genres:Animation|Children's|Musical;MovieID:199,rating:5,Genres:Drama|Musical;MovieID:588,rating:4,Genres:Animation|Children's|Comedy|Musical;MovieID:595,rating:4,Genres:Animation|Children's|Musical;MovieID:838,rating:4,Genres:Comedy|Drama|Romance;MovieID:34,rating:4,Genres:Children's|Comedy|Drama;MovieID:296,rating:2,Genres:Crime|Drama;MovieID:2966,rating:5,Genres:Drama;MovieID:590,rating:3,Genres:Adventure|Drama|Western;MovieID:2321,rating:3,Genres:Comedy;MovieID:1,rating:4,Genres:Animation|Children's|Comedy;MovieID:2082,rating:3,Genres:Children's|Comedy;MovieID:2506,rating:3,Genres:Comedy|Drama|Romance;MovieID:569,rating:4,Genres:Children's|Comedy;MovieID:1806,rating:3,Genres:Adventure|Children's|Comedy;MovieID:2396,rating:4,Genres:Comedy|Romance;MovieID:2858,rating:1,Genres:Comedy|Drama;MovieID:1188,rating:4,Genres:Comedy|Romance;MovieID:3524,rating:3,Genres:Comedy|Romance;MovieID:2469,rating:3,Genres:Comedy|Romance;MovieID:1088,rating:5,Genres:Musical|Romance;MovieID:3501,rating:5,Genres:Comedy|Romance;MovieID:1101,rating:4,Genres:Action|Romance;MovieID:2406,rating:5,Genres:Action|Adventure|Comedy|Romance;MovieID:2802,rating:4,Genres:Action|Romance|Thriller;MovieID:1959,rating:3,Genres:Drama|Romance;MovieID:1674,rating:4,Genres:Drama|Romance|Thriller;MovieID:2100,rating:3,Genres:Comedy|Fantasy|Romance;MovieID:2081,rating:4,Genres:Animation|Children's|Comedy|Musical|Romance;MovieID:3699,rating:4,Genres:Adventure|Drama|Romance|Sci-Fi;MovieID:1296,rating:3,Genres:Drama|Romance;MovieID:3685,rating:3,Genres:Comedy|Drama|Romance;MovieID:1441,rating:4,Genres:Comedy|Romance;MovieID:17,rating:4,Genres:Drama|Romance;MovieID:377,rating:3,Genres:Action|Romance|Thriller;MovieID:1043,rating:4,Genres:Drama|Romance;MovieID:3534,rating:4,Genres:Comedy;MovieID:1210,rating:3,Genres:Action|Adventure|Romance|Sci-Fi|War;MovieID:912,rating:4,Genres:Drama|Romance|War;MovieID:2006,rating:4,Genres:Action|Adventure|Romance\""
      ]
     },
     "execution_count": 20,
     "metadata": {},
     "output_type": "execute_result"
    }
   ],
   "source": [
    "##\n",
    "user_profiles['UserProfile'][4]"
   ]
  },
  {
   "cell_type": "code",
   "execution_count": 21,
   "id": "10c5ad2e-59ee-466d-a173-5f09074eaafb",
   "metadata": {},
   "outputs": [],
   "source": [
    "def create_candidate_items(val_df, movies_df, num_random_items=40, random_state=42):\n",
    "    \n",
    "    # 设置随机种子\n",
    "    np.random.seed(random_state)\n",
    "    \n",
    "    # 创建电影信息字典，方便快速查找\n",
    "    movie_info_dict = {}\n",
    "    for _, row in movies_df.iterrows():\n",
    "        movie_info_dict[row['MovieID']] = {\n",
    "            'Title': row['Title'] if pd.notna(row['Title']) else '',\n",
    "            'Genres': row['Genres'] if pd.notna(row['Genres']) else ''\n",
    "        }\n",
    "    \n",
    "    candidate_list = []\n",
    "    \n",
    "    # 按用户分组处理\n",
    "    for user_id, user_data in val_df.groupby('UserID'):\n",
    "        # 获取用户在验证集中交互过的物品\n",
    "        interacted_items = user_data['MovieID'].tolist()\n",
    "        \n",
    "        # 只保留交互过的物品ID（MovieID），不带Genres或Title\n",
    "        interacted_items_ids = [str(movie_id) for movie_id in interacted_items]\n",
    "        interacted_items_str = \";\".join(interacted_items_ids)\n",
    "        \n",
    "        # 获取这些物品的详细信息（MovieID:Genres格式）用于候选物品列表\n",
    "        interacted_items_with_genres = []\n",
    "        for movie_id in interacted_items:\n",
    "            if movie_id in movie_info_dict:\n",
    "                genres = movie_info_dict[movie_id]['Genres']\n",
    "                interacted_items_with_genres.append(f\"{movie_id}:{genres}\")\n",
    "        \n",
    "        # 从所有电影中随机抽取40个物品（排除用户已经交互过的物品）\n",
    "        all_movie_ids = set(movies_df['MovieID'].unique())\n",
    "        interacted_movie_ids = set(interacted_items)\n",
    "        available_movie_ids = list(all_movie_ids - interacted_movie_ids)\n",
    "        \n",
    "        # 如果可用电影数量少于需要的数量，就取所有可用的\n",
    "        sample_size = min(num_random_items, len(available_movie_ids))\n",
    "        random_items = np.random.choice(available_movie_ids, size=sample_size, replace=False)\n",
    "        \n",
    "        # 获取随机物品的详细信息（MovieID:Genres格式）\n",
    "        random_items_with_genres = []\n",
    "        for movie_id in random_items:\n",
    "            if movie_id in movie_info_dict:\n",
    "                genres = movie_info_dict[movie_id]['Genres']\n",
    "                random_items_with_genres.append(f\"{movie_id}:{genres}\")\n",
    "        \n",
    "        # 合并交互过的物品和随机物品，总共50个\n",
    "        all_candidate_items = interacted_items_with_genres + random_items_with_genres\n",
    "        \n",
    "        # 如果总数超过50个，截取前50个；如果不足50个，保持现状\n",
    "        if len(all_candidate_items) > 50:\n",
    "            all_candidate_items = all_candidate_items[:50]\n",
    "\n",
    "        ##打乱\n",
    "        np.random.shuffle(all_candidate_items)\n",
    "        \n",
    "        # 构造候选物品字符串\n",
    "        candidate_items_str = \";\".join(all_candidate_items)\n",
    "        \n",
    "        candidate_list.append({\n",
    "            'UserID': user_id,\n",
    "            'CandidateItems': candidate_items_str,\n",
    "            'InteractedItems': interacted_items_str  # 只含MovieID\n",
    "        })\n",
    "    \n",
    "    # 创建候选物品DataFrame\n",
    "    candidate_items = pd.DataFrame(candidate_list)\n",
    "    \n",
    "    return candidate_items\n",
    "def extract_movies_from_train(train_df):\n",
    "    \"\"\"\n",
    "    从训练数据中提取电影信息\n",
    "    \"\"\"\n",
    "    movies_df = train_df[['MovieID', 'Title', 'Genres']].drop_duplicates(subset=['MovieID'])\n",
    "    return movies_df"
   ]
  },
  {
   "cell_type": "code",
   "execution_count": 22,
   "id": "89f94885-6cfd-4e7e-a3c7-290d9c4cdb30",
   "metadata": {},
   "outputs": [
    {
     "name": "stderr",
     "output_type": "stream",
     "text": [
      "/tmp/ipykernel_37664/2748240186.py:10: FutureWarning: Series.__getitem__ treating keys as positions is deprecated. In a future version, integer keys will always be treated as labels (consistent with DataFrame behavior). To access a value by position, use `ser.iloc[pos]`\n",
      "  candidate_items[candidate_items['UserID'] == 1].iloc[0][0]\n"
     ]
    },
    {
     "data": {
      "text/plain": [
       "np.int64(1)"
      ]
     },
     "execution_count": 22,
     "metadata": {},
     "output_type": "execute_result"
    }
   ],
   "source": [
    "# 构建候选物品列\n",
    "\n",
    "movies_df = extract_movies_from_train(df)  # 提取所有候选物品的信息，或者从单独的movies文件读取\n",
    "candidate_items = create_candidate_items(val_df, movies_df, num_random_items=40, random_state=42)\n",
    "\n",
    "# # 查看结果\n",
    "# print(\"候选物品列表示例:\")\n",
    "# print(candidate_items.head())\n",
    "# 显示某个具体用户的候选物品\n",
    "candidate_items[candidate_items['UserID'] == 1].iloc[0][0]"
   ]
  },
  {
   "cell_type": "code",
   "execution_count": 23,
   "id": "7555e9b1-908c-4606-9484-9c9db580ccce",
   "metadata": {},
   "outputs": [],
   "source": [
    "##构造微调数据\n",
    "def create_finetuning_data(user_profiles, candidate_items):\n",
    "    \"\"\"\n",
    "    构造用于后续微调的数据\n",
    "    \n",
    "    Parameters:\n",
    "    user_profiles: DataFrame - 用户画像数据\n",
    "    candidate_items: DataFrame - 候选物品列表\n",
    "    \n",
    "    Returns:\n",
    "    finetuning_data: DataFrame - 微调数据\n",
    "    \"\"\"\n",
    "    \n",
    "    # 合并用户画像和候选物品数据\n",
    "    merged_data = pd.merge(user_profiles, candidate_items, on='UserID', how='inner')\n",
    "    \n",
    "    finetuning_list = []\n",
    "    \n",
    "    for _, row in merged_data.iterrows():\n",
    "        user_id = row['UserID']\n",
    "        user_profile = row['UserProfile']\n",
    "        candidate_items_str = row['CandidateItems']\n",
    "        interacted_items = row['InteractedItems']\n",
    "        \n",
    "        # 构造instruction，明确指定输出格式要求\n",
    "        instruction = (f\"Filter exactly 10 unique item IDs that the user may be interested in from the given CandidateItems, based solely on the user's personal profile and rated movie preferences. Only output the item IDs, one per line, with no explanations, no extra text, and no duplicates.\"\n",
    "                      f\"based on the user's personal profile. UserID: {user_id}, \"\n",
    "                      f\"UserProfile: {user_profile},\\n CandidateItems: {candidate_items_str}.\\n\"\n",
    "                     )\n",
    "        \n",
    "        # 将interacted_items从字符串转换为列表格式\n",
    "        if interacted_items and isinstance(interacted_items, str):\n",
    "            # 如果是分号分隔的字符串，转换为列表\n",
    "            if ';' in interacted_items:\n",
    "                movie_ids = [int(x.strip()) for x in interacted_items.split(';') if x.strip().isdigit()]\n",
    "            else:\n",
    "                # 如果是单个ID或逗号分隔\n",
    "                movie_ids = [int(x.strip()) for x in interacted_items.split(',') if x.strip().isdigit()]\n",
    "        else:\n",
    "            movie_ids = []\n",
    "        \n",
    "        # 构造output，按照指定格式\n",
    "        output = f\"Recommended movie ID: {movie_ids}\"\n",
    "        \n",
    "        # 构造text\n",
    "        text = (f\"The following is the description of the recommended task.\"\n",
    "                f\"Please strictly follow the requirements to complete the sorting recommendation of the selected items.\"\n",
    "                f\"### Instruction:\\n{instruction}\\n\\n\"\n",
    "                f\"### Response:\\n{output}\")\n",
    "        \n",
    "        finetuning_list.append({\n",
    "            'instruction': instruction,\n",
    "            'input': '',  # input列为空\n",
    "            'output': output,\n",
    "            'text': text\n",
    "        })\n",
    "    \n",
    "    # 创建微调数据DataFrame\n",
    "    finetuning_data = pd.DataFrame(finetuning_list)\n",
    "    \n",
    "    return finetuning_data"
   ]
  },
  {
   "cell_type": "code",
   "execution_count": 24,
   "id": "9747236b-7a23-4b79-bd4c-650cd3b6547d",
   "metadata": {},
   "outputs": [
    {
     "name": "stdout",
     "output_type": "stream",
     "text": [
      "微调数据示例:\n",
      "Filter exactly 10 unique item IDs that the user may be interested in from the given CandidateItems, based solely on the user's personal profile and rated movie preferences. Only output the item IDs, one per line, with no explanations, no extra text, and no duplicates.based on the user's personal profile. UserID: 6, UserProfile: UserID:6 | Gender:F | Age:50 | Occupation:9 | Zip:55117 | RatedMovies:MovieID:1007,rating:3,Genres:Children's|Comedy|Western;MovieID:3682,rating:3,Genres:Western;MovieID:3508,rating:3,Genres:Western;MovieID:3074,rating:5,Genres:Western;MovieID:266,rating:4,Genres:Drama|Romance|War|Western;MovieID:383,rating:4,Genres:Western;MovieID:368,rating:4,Genres:Action|Comedy|Western;MovieID:3610,rating:3,Genres:Musical;MovieID:2017,rating:3,Genres:Children's|Fantasy|Musical;MovieID:3600,rating:3,Genres:Comedy|Musical;MovieID:1028,rating:4,Genres:Children's|Comedy|Musical;MovieID:1035,rating:5,Genres:Musical;MovieID:914,rating:5,Genres:Musical|Romance;MovieID:3604,rating:5,Genres:Musical;MovieID:1947,rating:5,Genres:Musical|Romance;MovieID:1380,rating:5,Genres:Comedy|Musical|Romance;MovieID:1030,rating:4,Genres:Adventure|Animation|Children's|Musical;MovieID:1688,rating:5,Genres:Animation|Children's|Musical;MovieID:48,rating:5,Genres:Animation|Children's|Musical|Romance;MovieID:1566,rating:4,Genres:Adventure|Animation|Children's|Comedy|Musical;MovieID:364,rating:4,Genres:Animation|Children's|Musical;MovieID:199,rating:5,Genres:Drama|Musical;MovieID:588,rating:4,Genres:Animation|Children's|Comedy|Musical;MovieID:595,rating:4,Genres:Animation|Children's|Musical;MovieID:838,rating:4,Genres:Comedy|Drama|Romance;MovieID:34,rating:4,Genres:Children's|Comedy|Drama;MovieID:296,rating:2,Genres:Crime|Drama;MovieID:2966,rating:5,Genres:Drama;MovieID:590,rating:3,Genres:Adventure|Drama|Western;MovieID:2321,rating:3,Genres:Comedy;MovieID:1,rating:4,Genres:Animation|Children's|Comedy;MovieID:2082,rating:3,Genres:Children's|Comedy;MovieID:2506,rating:3,Genres:Comedy|Drama|Romance;MovieID:569,rating:4,Genres:Children's|Comedy;MovieID:1806,rating:3,Genres:Adventure|Children's|Comedy;MovieID:2396,rating:4,Genres:Comedy|Romance;MovieID:2858,rating:1,Genres:Comedy|Drama;MovieID:1188,rating:4,Genres:Comedy|Romance;MovieID:3524,rating:3,Genres:Comedy|Romance;MovieID:2469,rating:3,Genres:Comedy|Romance;MovieID:1088,rating:5,Genres:Musical|Romance;MovieID:3501,rating:5,Genres:Comedy|Romance;MovieID:1101,rating:4,Genres:Action|Romance;MovieID:2406,rating:5,Genres:Action|Adventure|Comedy|Romance;MovieID:2802,rating:4,Genres:Action|Romance|Thriller;MovieID:1959,rating:3,Genres:Drama|Romance;MovieID:1674,rating:4,Genres:Drama|Romance|Thriller;MovieID:2100,rating:3,Genres:Comedy|Fantasy|Romance;MovieID:2081,rating:4,Genres:Animation|Children's|Comedy|Musical|Romance;MovieID:3699,rating:4,Genres:Adventure|Drama|Romance|Sci-Fi;MovieID:1296,rating:3,Genres:Drama|Romance;MovieID:3685,rating:3,Genres:Comedy|Drama|Romance;MovieID:1441,rating:4,Genres:Comedy|Romance;MovieID:17,rating:4,Genres:Drama|Romance;MovieID:377,rating:3,Genres:Action|Romance|Thriller;MovieID:1043,rating:4,Genres:Drama|Romance;MovieID:3534,rating:4,Genres:Comedy;MovieID:1210,rating:3,Genres:Action|Adventure|Romance|Sci-Fi|War;MovieID:912,rating:4,Genres:Drama|Romance|War;MovieID:2006,rating:4,Genres:Action|Adventure|Romance,\n",
      " CandidateItems: 3124:Comedy|Drama;581:Documentary;3854:Drama|Romance;3624:Action;3717:Action|Crime;3565:Comedy|Drama;3679:Documentary;3061:Comedy|Musical;292:Action|Drama|Thriller;1496:Drama|Romance;1682:Drama;81:Crime|Drama|Romance;3622:Comedy;1950:Drama|Mystery;1840:Drama;1209:Western;3608:Comedy;2428:Horror|Sci-Fi;1105:Horror;1569:Comedy|Romance;2513:Horror;867:Comedy|Crime;2649:Horror;11:Comedy|Drama|Romance;3297:Documentary;2281:Crime;498:Drama|Romance;1283:Western;1785:Action|Crime;994:Drama;2617:Action|Adventure|Horror|Thriller;2871:Adventure|Thriller;3753:Action|Drama|War;3715:Comedy;3739:Comedy|Romance;3536:Comedy|Romance;1362:Drama;1013:Children's|Drama;597:Comedy|Romance;3866:Comedy;3790:Drama;920:Drama|Romance|War;939:Comedy|Drama;1983:Horror;942:Crime|Film-Noir|Mystery;3408:Drama;2462:Horror;1483:Drama|Thriller;3337:Comedy|Drama;3578:Action|Drama.\n",
      "\n",
      "\n"
     ]
    }
   ],
   "source": [
    "# 构造数据\n",
    "finetuning_data = create_finetuning_data(user_profiles, candidate_items)\n",
    "\n",
    "# 查看结果\n",
    "print(\"微调数据示例:\")\n",
    "# print(finetuning_data.head())\n",
    "\n",
    "# 保存微调数据\n",
    "# finetuning_data.to_csv('finetuning_data.csv', index=False)\n",
    "\n",
    "# # 显示一条完整的微调数据示例\n",
    "\n",
    "print(finetuning_data.iloc[4]['instruction'])\n",
    "print()"
   ]
  },
  {
   "cell_type": "code",
   "execution_count": 25,
   "id": "296ee4e7-9c5f-40b8-99d2-e02327549694",
   "metadata": {},
   "outputs": [
    {
     "name": "stdout",
     "output_type": "stream",
     "text": [
      "Recommended movie ID: [3578, 3753, 3408, 3536, 3624, 3565, 3717, 920, 1569, 597]\n",
      "\n"
     ]
    }
   ],
   "source": [
    "print(finetuning_data.iloc[4]['output'])\n",
    "print()"
   ]
  },
  {
   "cell_type": "code",
   "execution_count": 26,
   "id": "d0df1cc0-06d9-46f2-b7c2-c03e966eca27",
   "metadata": {},
   "outputs": [
    {
     "name": "stdout",
     "output_type": "stream",
     "text": [
      "The following is the description of the recommended task.Please strictly follow the requirements to complete the sorting recommendation of the selected items.### Instruction:\n",
      "Filter exactly 10 unique item IDs that the user may be interested in from the given CandidateItems, based solely on the user's personal profile and rated movie preferences. Only output the item IDs, one per line, with no explanations, no extra text, and no duplicates.based on the user's personal profile. UserID: 6, UserProfile: UserID:6 | Gender:F | Age:50 | Occupation:9 | Zip:55117 | RatedMovies:MovieID:1007,rating:3,Genres:Children's|Comedy|Western;MovieID:3682,rating:3,Genres:Western;MovieID:3508,rating:3,Genres:Western;MovieID:3074,rating:5,Genres:Western;MovieID:266,rating:4,Genres:Drama|Romance|War|Western;MovieID:383,rating:4,Genres:Western;MovieID:368,rating:4,Genres:Action|Comedy|Western;MovieID:3610,rating:3,Genres:Musical;MovieID:2017,rating:3,Genres:Children's|Fantasy|Musical;MovieID:3600,rating:3,Genres:Comedy|Musical;MovieID:1028,rating:4,Genres:Children's|Comedy|Musical;MovieID:1035,rating:5,Genres:Musical;MovieID:914,rating:5,Genres:Musical|Romance;MovieID:3604,rating:5,Genres:Musical;MovieID:1947,rating:5,Genres:Musical|Romance;MovieID:1380,rating:5,Genres:Comedy|Musical|Romance;MovieID:1030,rating:4,Genres:Adventure|Animation|Children's|Musical;MovieID:1688,rating:5,Genres:Animation|Children's|Musical;MovieID:48,rating:5,Genres:Animation|Children's|Musical|Romance;MovieID:1566,rating:4,Genres:Adventure|Animation|Children's|Comedy|Musical;MovieID:364,rating:4,Genres:Animation|Children's|Musical;MovieID:199,rating:5,Genres:Drama|Musical;MovieID:588,rating:4,Genres:Animation|Children's|Comedy|Musical;MovieID:595,rating:4,Genres:Animation|Children's|Musical;MovieID:838,rating:4,Genres:Comedy|Drama|Romance;MovieID:34,rating:4,Genres:Children's|Comedy|Drama;MovieID:296,rating:2,Genres:Crime|Drama;MovieID:2966,rating:5,Genres:Drama;MovieID:590,rating:3,Genres:Adventure|Drama|Western;MovieID:2321,rating:3,Genres:Comedy;MovieID:1,rating:4,Genres:Animation|Children's|Comedy;MovieID:2082,rating:3,Genres:Children's|Comedy;MovieID:2506,rating:3,Genres:Comedy|Drama|Romance;MovieID:569,rating:4,Genres:Children's|Comedy;MovieID:1806,rating:3,Genres:Adventure|Children's|Comedy;MovieID:2396,rating:4,Genres:Comedy|Romance;MovieID:2858,rating:1,Genres:Comedy|Drama;MovieID:1188,rating:4,Genres:Comedy|Romance;MovieID:3524,rating:3,Genres:Comedy|Romance;MovieID:2469,rating:3,Genres:Comedy|Romance;MovieID:1088,rating:5,Genres:Musical|Romance;MovieID:3501,rating:5,Genres:Comedy|Romance;MovieID:1101,rating:4,Genres:Action|Romance;MovieID:2406,rating:5,Genres:Action|Adventure|Comedy|Romance;MovieID:2802,rating:4,Genres:Action|Romance|Thriller;MovieID:1959,rating:3,Genres:Drama|Romance;MovieID:1674,rating:4,Genres:Drama|Romance|Thriller;MovieID:2100,rating:3,Genres:Comedy|Fantasy|Romance;MovieID:2081,rating:4,Genres:Animation|Children's|Comedy|Musical|Romance;MovieID:3699,rating:4,Genres:Adventure|Drama|Romance|Sci-Fi;MovieID:1296,rating:3,Genres:Drama|Romance;MovieID:3685,rating:3,Genres:Comedy|Drama|Romance;MovieID:1441,rating:4,Genres:Comedy|Romance;MovieID:17,rating:4,Genres:Drama|Romance;MovieID:377,rating:3,Genres:Action|Romance|Thriller;MovieID:1043,rating:4,Genres:Drama|Romance;MovieID:3534,rating:4,Genres:Comedy;MovieID:1210,rating:3,Genres:Action|Adventure|Romance|Sci-Fi|War;MovieID:912,rating:4,Genres:Drama|Romance|War;MovieID:2006,rating:4,Genres:Action|Adventure|Romance,\n",
      " CandidateItems: 3124:Comedy|Drama;581:Documentary;3854:Drama|Romance;3624:Action;3717:Action|Crime;3565:Comedy|Drama;3679:Documentary;3061:Comedy|Musical;292:Action|Drama|Thriller;1496:Drama|Romance;1682:Drama;81:Crime|Drama|Romance;3622:Comedy;1950:Drama|Mystery;1840:Drama;1209:Western;3608:Comedy;2428:Horror|Sci-Fi;1105:Horror;1569:Comedy|Romance;2513:Horror;867:Comedy|Crime;2649:Horror;11:Comedy|Drama|Romance;3297:Documentary;2281:Crime;498:Drama|Romance;1283:Western;1785:Action|Crime;994:Drama;2617:Action|Adventure|Horror|Thriller;2871:Adventure|Thriller;3753:Action|Drama|War;3715:Comedy;3739:Comedy|Romance;3536:Comedy|Romance;1362:Drama;1013:Children's|Drama;597:Comedy|Romance;3866:Comedy;3790:Drama;920:Drama|Romance|War;939:Comedy|Drama;1983:Horror;942:Crime|Film-Noir|Mystery;3408:Drama;2462:Horror;1483:Drama|Thriller;3337:Comedy|Drama;3578:Action|Drama.\n",
      "\n",
      "\n",
      "### Response:\n",
      "Recommended movie ID: [3578, 3753, 3408, 3536, 3624, 3565, 3717, 920, 1569, 597]\n",
      "\n"
     ]
    }
   ],
   "source": [
    "print(finetuning_data.iloc[4]['text'])\n",
    "print()"
   ]
  },
  {
   "cell_type": "code",
   "execution_count": 27,
   "id": "3cd9f485-287c-4811-a027-47acff87744a",
   "metadata": {},
   "outputs": [],
   "source": [
    "finetuning_data.to_parquet('data/finetuning_data_train.parquet')"
   ]
  },
  {
   "cell_type": "code",
   "execution_count": 28,
   "id": "3bf96149-1a95-4d71-a3bc-13739af11d80",
   "metadata": {},
   "outputs": [],
   "source": [
    "import pandas as pd \n",
    "finetuning_data = pd.read_parquet('data/finetuning_data_train.parquet')"
   ]
  },
  {
   "cell_type": "code",
   "execution_count": 29,
   "id": "737f0cc4-3ffd-404a-b082-ccedbe864987",
   "metadata": {},
   "outputs": [
    {
     "data": {
      "text/plain": [
       "\"Filter exactly 10 unique item IDs that the user may be interested in from the given CandidateItems, based solely on the user's personal profile and rated movie preferences. Only output the item IDs, one per line, with no explanations, no extra text, and no duplicates.based on the user's personal profile. UserID: 195, UserProfile: UserID:195 | Gender:M | Age:25 | Occupation:12 | Zip:10458 | RatedMovies:MovieID:410,rating:2,Genres:Comedy;MovieID:2748,rating:1,Genres:Action|Adventure;MovieID:2792,rating:2,Genres:Comedy;MovieID:2791,rating:3,Genres:Comedy;MovieID:468,rating:3,Genres:Comedy|Romance;MovieID:1456,rating:2,Genres:Comedy;MovieID:1254,rating:4,Genres:Adventure;MovieID:2808,rating:3,Genres:Action|Sci-Fi;MovieID:3746,rating:5,Genres:Drama|War;MovieID:632,rating:5,Genres:War;MovieID:1296,rating:3,Genres:Drama|Romance;MovieID:2587,rating:4,Genres:Comedy;MovieID:1949,rating:5,Genres:Drama;MovieID:3658,rating:4,Genres:Sci-Fi;MovieID:1090,rating:5,Genres:Drama|War;MovieID:3686,rating:2,Genres:Thriller;MovieID:950,rating:5,Genres:Mystery;MovieID:2373,rating:2,Genres:Action|Adventure;MovieID:2297,rating:3,Genres:Drama|Romance;MovieID:2296,rating:1,Genres:Comedy;MovieID:2174,rating:3,Genres:Comedy|Fantasy;MovieID:900,rating:3,Genres:Musical|Romance;MovieID:1200,rating:3,Genres:Action|Sci-Fi|Thriller|War;MovieID:1884,rating:4,Genres:Comedy|Drama;MovieID:3593,rating:2,Genres:Action|Sci-Fi;MovieID:2488,rating:4,Genres:Drama|Horror|Thriller;MovieID:942,rating:5,Genres:Crime|Film-Noir|Mystery;MovieID:173,rating:1,Genres:Action|Adventure|Sci-Fi;MovieID:3504,rating:5,Genres:Comedy|Drama;MovieID:2113,rating:2,Genres:Horror|Thriller;MovieID:3062,rating:4,Genres:Action|Drama|War;MovieID:1953,rating:4,Genres:Action|Crime|Drama|Thriller;MovieID:3090,rating:4,Genres:Drama;MovieID:3088,rating:5,Genres:Comedy;MovieID:3095,rating:5,Genres:Drama;MovieID:910,rating:4,Genres:Comedy|Crime;MovieID:2004,rating:2,Genres:Comedy|Horror;MovieID:3471,rating:3,Genres:Drama|Sci-Fi;MovieID:2340,rating:3,Genres:Romance;MovieID:3951,rating:5,Genres:Drama;MovieID:3134,rating:4,Genres:Drama|War;MovieID:3327,rating:4,Genres:Documentary;MovieID:3092,rating:5,Genres:Drama;MovieID:2997,rating:4,Genres:Comedy;MovieID:2630,rating:4,Genres:Drama;MovieID:2908,rating:4,Genres:Drama;MovieID:3386,rating:5,Genres:Drama|Mystery;MovieID:2512,rating:4,Genres:Drama;MovieID:2064,rating:5,Genres:Comedy|Documentary;MovieID:2938,rating:5,Genres:Drama;MovieID:6,rating:2,Genres:Action|Crime|Thriller;MovieID:1361,rating:5,Genres:Documentary;MovieID:1796,rating:4,Genres:Action|Drama;MovieID:3730,rating:4,Genres:Drama|Mystery;MovieID:2544,rating:3,Genres:Drama;MovieID:2585,rating:4,Genres:Drama|Romance;MovieID:392,rating:5,Genres:Adventure|Children's;MovieID:1237,rating:5,Genres:Drama;MovieID:3192,rating:4,Genres:Drama;MovieID:1230,rating:4,Genres:Comedy|Romance,\\n CandidateItems: 3944:Comedy|Drama;3563:Action|Horror;2517:Horror;2607:Drama;551:Children's|Comedy|Musical;3764:Action|Crime|Thriller;2219:Mystery|Thriller;1356:Action|Adventure|Sci-Fi;688:Action|Adventure|Comedy|War;1702:Children's|Comedy|Fantasy;2127:Drama|Romance;1677:Comedy;2347:Action;237:Comedy|Romance;1047:Action|Thriller;3093:Drama|Western;2660:Sci-Fi;3392:Comedy;2206:Mystery|Thriller;3740:Action|Comedy;2064:Comedy|Documentary;2545:Comedy;3721:Comedy;2644:Horror;3778:Comedy|Drama;2247:Comedy;2807:Action|Sci-Fi;2632:Drama;1301:Sci-Fi;3156:Comedy|Drama|Sci-Fi;464:Action|Adventure|Crime|Thriller;329:Action|Adventure|Sci-Fi;2253:Action|Comedy|Fantasy;2490:Action|Thriller;1556:Action|Romance|Thriller;821:Romance;2788:Comedy;634:Comedy;3007:Documentary;506:Drama;1871:Comedy|Drama;1375:Action|Adventure|Sci-Fi;1183:Drama|Romance|War;2339:Comedy|Romance;1473:Action|Comedy|Crime|Drama;2831:Drama;1374:Action|Adventure|Sci-Fi;2770:Comedy;169:Adventure|Children's|Drama;3436:Drama|Romance.\\n\""
      ]
     },
     "execution_count": 29,
     "metadata": {},
     "output_type": "execute_result"
    }
   ],
   "source": [
    "finetuning_data.iloc[155]['instruction']"
   ]
  },
  {
   "cell_type": "code",
   "execution_count": 30,
   "id": "f3ee9836-17df-4f99-90af-09e233fd1fb5",
   "metadata": {},
   "outputs": [
    {
     "data": {
      "text/plain": [
       "'Recommended movie ID: [3007, 1183, 1702, 3764, 1301, 2247, 1356, 329, 1374, 1375]'"
      ]
     },
     "execution_count": 30,
     "metadata": {},
     "output_type": "execute_result"
    }
   ],
   "source": [
    "finetuning_data.iloc[155]['output']"
   ]
  },
  {
   "cell_type": "markdown",
   "id": "d24563db-d96f-4271-8201-531f7477dd22",
   "metadata": {},
   "source": [
    "## 测试的用户 ：数据\n"
   ]
  },
  {
   "cell_type": "code",
   "execution_count": 31,
   "id": "6e50bc8c-cdd3-4cc4-a4e2-7af080a327a1",
   "metadata": {},
   "outputs": [],
   "source": [
    "##划分用户画像物品、output物品\n",
    "# 画像物品、测评物品划分\n",
    "train_df, val_df = split_train_val_by_user(user_test, val_size=10)"
   ]
  },
  {
   "cell_type": "code",
   "execution_count": 32,
   "id": "559034c5-570f-4e99-8161-a41701768a38",
   "metadata": {},
   "outputs": [],
   "source": [
    "# 构建用户画像\n",
    "user_profiles = create_user_profile_simple(train_df)"
   ]
  },
  {
   "cell_type": "code",
   "execution_count": 33,
   "id": "7672b060-dd0c-41ad-8d92-bfb1c275dac2",
   "metadata": {},
   "outputs": [],
   "source": [
    "##构造待选物品\n",
    "movies_df = extract_movies_from_train(df)  #提取物品信息数据库\n",
    "candidate_items = create_candidate_items(val_df, movies_df, num_random_items=40, random_state=42)"
   ]
  },
  {
   "cell_type": "code",
   "execution_count": 34,
   "id": "6a5a8ebf-a285-4ae0-a336-ff6b110df1ea",
   "metadata": {},
   "outputs": [],
   "source": [
    "candidate_items.to_csv(\"data/real_interected_items.csv\",index = False)"
   ]
  },
  {
   "cell_type": "code",
   "execution_count": 35,
   "id": "95ae4486-1077-4282-9661-3377f713a79d",
   "metadata": {},
   "outputs": [
    {
     "data": {
      "text/html": [
       "<div>\n",
       "<style scoped>\n",
       "    .dataframe tbody tr th:only-of-type {\n",
       "        vertical-align: middle;\n",
       "    }\n",
       "\n",
       "    .dataframe tbody tr th {\n",
       "        vertical-align: top;\n",
       "    }\n",
       "\n",
       "    .dataframe thead th {\n",
       "        text-align: right;\n",
       "    }\n",
       "</style>\n",
       "<table border=\"1\" class=\"dataframe\">\n",
       "  <thead>\n",
       "    <tr style=\"text-align: right;\">\n",
       "      <th></th>\n",
       "      <th>UserID</th>\n",
       "      <th>CandidateItems</th>\n",
       "      <th>InteractedItems</th>\n",
       "    </tr>\n",
       "  </thead>\n",
       "  <tbody>\n",
       "    <tr>\n",
       "      <th>0</th>\n",
       "      <td>3</td>\n",
       "      <td>2019:Action|Drama;549:Documentary;377:Action|R...</td>\n",
       "      <td>1270;1259;1079;1265;2355;1641;3552;104;3868;2081</td>\n",
       "    </tr>\n",
       "    <tr>\n",
       "      <th>1</th>\n",
       "      <td>8</td>\n",
       "      <td>50:Crime|Thriller;3257:Action|Drama|Romance|Th...</td>\n",
       "      <td>4;1027;3155;42;3500;3213;1274;1;741;3257</td>\n",
       "    </tr>\n",
       "    <tr>\n",
       "      <th>2</th>\n",
       "      <td>13</td>\n",
       "      <td>1822:Children's|Comedy;2054:Adventure|Children...</td>\n",
       "      <td>3269;552;2135;1587;2054;2;1009;1375;2641;2822</td>\n",
       "    </tr>\n",
       "    <tr>\n",
       "      <th>3</th>\n",
       "      <td>18</td>\n",
       "      <td>3779:Sci-Fi;1366:Drama;1092:Mystery|Thriller;2...</td>\n",
       "      <td>2718;3723;2145;261;3448;838;26;266;454;1683</td>\n",
       "    </tr>\n",
       "    <tr>\n",
       "      <th>4</th>\n",
       "      <td>23</td>\n",
       "      <td>3131:Comedy;582:Comedy;3854:Drama|Romance;1388...</td>\n",
       "      <td>2259;2409;2410;327;1388;2411;2642;2149;2119;2643</td>\n",
       "    </tr>\n",
       "  </tbody>\n",
       "</table>\n",
       "</div>"
      ],
      "text/plain": [
       "   UserID                                     CandidateItems  \\\n",
       "0       3  2019:Action|Drama;549:Documentary;377:Action|R...   \n",
       "1       8  50:Crime|Thriller;3257:Action|Drama|Romance|Th...   \n",
       "2      13  1822:Children's|Comedy;2054:Adventure|Children...   \n",
       "3      18  3779:Sci-Fi;1366:Drama;1092:Mystery|Thriller;2...   \n",
       "4      23  3131:Comedy;582:Comedy;3854:Drama|Romance;1388...   \n",
       "\n",
       "                                    InteractedItems  \n",
       "0  1270;1259;1079;1265;2355;1641;3552;104;3868;2081  \n",
       "1          4;1027;3155;42;3500;3213;1274;1;741;3257  \n",
       "2     3269;552;2135;1587;2054;2;1009;1375;2641;2822  \n",
       "3       2718;3723;2145;261;3448;838;26;266;454;1683  \n",
       "4  2259;2409;2410;327;1388;2411;2642;2149;2119;2643  "
      ]
     },
     "execution_count": 35,
     "metadata": {},
     "output_type": "execute_result"
    }
   ],
   "source": [
    "candidate_items.head()"
   ]
  },
  {
   "cell_type": "code",
   "execution_count": 36,
   "id": "38b3e3d9-903d-4c27-81ba-93045e2b5ec1",
   "metadata": {},
   "outputs": [],
   "source": [
    "##构造微调数据\n",
    "def create_test_finetuning_data(user_profiles, candidate_items):\n",
    "    \"\"\"\n",
    "    构造用于后续微调的数据\n",
    "    \n",
    "    Parameters:\n",
    "    user_profiles: DataFrame - 用户画像数据\n",
    "    candidate_items: DataFrame - 候选物品列表\n",
    "    \n",
    "    Returns:\n",
    "    finetuning_data: DataFrame - 微调数据\n",
    "    \"\"\"\n",
    "    \n",
    "    # 合并用户画像和候选物品数据\n",
    "    merged_data = pd.merge(user_profiles, candidate_items, on='UserID', how='inner')\n",
    "    \n",
    "    finetuning_list = []\n",
    "    \n",
    "    for _, row in merged_data.iterrows():\n",
    "        user_id = row['UserID']\n",
    "        user_profile = row['UserProfile']\n",
    "        candidate_items_str = row['CandidateItems']\n",
    "        interacted_items = row['InteractedItems']\n",
    "        \n",
    "        # 构造instruction，明确指定输出格式要求\n",
    "        instruction = (f\"Filter exactly 10 unique item IDs that the user may be interested in from the given CandidateItems, based solely on the user's personal profile and rated movie preferences. Only output the item IDs, one per line, with no explanations, no extra text, and no duplicates.\"\n",
    "                      f\"based on the user's personal profile. UserID: {user_id}, \"\n",
    "                      f\"UserProfile: {user_profile},\\n CandidateItems: {candidate_items_str}.\\n\"\n",
    "                     )\n",
    "        \n",
    "        # 将interacted_items从字符串转换为列表格式\n",
    "        if interacted_items and isinstance(interacted_items, str):\n",
    "            # 如果是分号分隔的字符串，转换为列表\n",
    "            if ';' in interacted_items:\n",
    "                movie_ids = [int(x.strip()) for x in interacted_items.split(';') if x.strip().isdigit()]\n",
    "            else:\n",
    "                # 如果是单个ID或逗号分隔\n",
    "                movie_ids = [int(x.strip()) for x in interacted_items.split(',') if x.strip().isdigit()]\n",
    "        else:\n",
    "            movie_ids = []\n",
    "        \n",
    "        # 构造output，按照指定格式\n",
    "        output = f\"Recommended movie ID: {movie_ids}\"\n",
    "        \n",
    "        # 构造text\n",
    "        text = (f\"The following is the description of the recommended task.\"\n",
    "                f\"Please strictly follow the requirements to complete the sorting recommendation of the selected items.\"\n",
    "                f\"### Instruction:\\n{instruction}\\n\\n\"\n",
    "                f\"### Response:\\n{output}\")\n",
    "        \n",
    "        finetuning_list.append({\n",
    "            'UserID' : user_id,\n",
    "            'instruction': instruction,\n",
    "            'input': '',  # input列为空\n",
    "            'output': output,\n",
    "            'text': text\n",
    "        })\n",
    "    \n",
    "    # 创建微调数据DataFrame\n",
    "    finetuning_data = pd.DataFrame(finetuning_list)\n",
    "    \n",
    "    return finetuning_data"
   ]
  },
  {
   "cell_type": "code",
   "execution_count": 37,
   "id": "9ddc9d8a-3a2a-474c-8e03-46e03be84497",
   "metadata": {},
   "outputs": [],
   "source": [
    "##构造微调instruction-----测试数据\n",
    "finetuning_data = create_test_finetuning_data(user_profiles, candidate_items)"
   ]
  },
  {
   "cell_type": "code",
   "execution_count": 38,
   "id": "87468a8a-3fe1-4a67-a126-dc8caddcde70",
   "metadata": {},
   "outputs": [],
   "source": [
    "finetuning_data.to_parquet('data/finetuning_data_test.parquet')"
   ]
  },
  {
   "cell_type": "code",
   "execution_count": 39,
   "id": "03804058-4d64-4c8c-9c1d-2c460ff72dc3",
   "metadata": {},
   "outputs": [
    {
     "data": {
      "text/html": [
       "<div>\n",
       "<style scoped>\n",
       "    .dataframe tbody tr th:only-of-type {\n",
       "        vertical-align: middle;\n",
       "    }\n",
       "\n",
       "    .dataframe tbody tr th {\n",
       "        vertical-align: top;\n",
       "    }\n",
       "\n",
       "    .dataframe thead th {\n",
       "        text-align: right;\n",
       "    }\n",
       "</style>\n",
       "<table border=\"1\" class=\"dataframe\">\n",
       "  <thead>\n",
       "    <tr style=\"text-align: right;\">\n",
       "      <th></th>\n",
       "      <th>UserID</th>\n",
       "      <th>instruction</th>\n",
       "      <th>input</th>\n",
       "      <th>output</th>\n",
       "      <th>text</th>\n",
       "    </tr>\n",
       "  </thead>\n",
       "  <tbody>\n",
       "    <tr>\n",
       "      <th>0</th>\n",
       "      <td>3</td>\n",
       "      <td>Filter exactly 10 unique item IDs that the use...</td>\n",
       "      <td></td>\n",
       "      <td>Recommended movie ID: [1270, 1259, 1079, 1265,...</td>\n",
       "      <td>The following is the description of the recomm...</td>\n",
       "    </tr>\n",
       "    <tr>\n",
       "      <th>1</th>\n",
       "      <td>8</td>\n",
       "      <td>Filter exactly 10 unique item IDs that the use...</td>\n",
       "      <td></td>\n",
       "      <td>Recommended movie ID: [4, 1027, 3155, 42, 3500...</td>\n",
       "      <td>The following is the description of the recomm...</td>\n",
       "    </tr>\n",
       "    <tr>\n",
       "      <th>2</th>\n",
       "      <td>13</td>\n",
       "      <td>Filter exactly 10 unique item IDs that the use...</td>\n",
       "      <td></td>\n",
       "      <td>Recommended movie ID: [3269, 552, 2135, 1587, ...</td>\n",
       "      <td>The following is the description of the recomm...</td>\n",
       "    </tr>\n",
       "    <tr>\n",
       "      <th>3</th>\n",
       "      <td>18</td>\n",
       "      <td>Filter exactly 10 unique item IDs that the use...</td>\n",
       "      <td></td>\n",
       "      <td>Recommended movie ID: [2718, 3723, 2145, 261, ...</td>\n",
       "      <td>The following is the description of the recomm...</td>\n",
       "    </tr>\n",
       "    <tr>\n",
       "      <th>4</th>\n",
       "      <td>23</td>\n",
       "      <td>Filter exactly 10 unique item IDs that the use...</td>\n",
       "      <td></td>\n",
       "      <td>Recommended movie ID: [2259, 2409, 2410, 327, ...</td>\n",
       "      <td>The following is the description of the recomm...</td>\n",
       "    </tr>\n",
       "  </tbody>\n",
       "</table>\n",
       "</div>"
      ],
      "text/plain": [
       "   UserID                                        instruction input  \\\n",
       "0       3  Filter exactly 10 unique item IDs that the use...         \n",
       "1       8  Filter exactly 10 unique item IDs that the use...         \n",
       "2      13  Filter exactly 10 unique item IDs that the use...         \n",
       "3      18  Filter exactly 10 unique item IDs that the use...         \n",
       "4      23  Filter exactly 10 unique item IDs that the use...         \n",
       "\n",
       "                                              output  \\\n",
       "0  Recommended movie ID: [1270, 1259, 1079, 1265,...   \n",
       "1  Recommended movie ID: [4, 1027, 3155, 42, 3500...   \n",
       "2  Recommended movie ID: [3269, 552, 2135, 1587, ...   \n",
       "3  Recommended movie ID: [2718, 3723, 2145, 261, ...   \n",
       "4  Recommended movie ID: [2259, 2409, 2410, 327, ...   \n",
       "\n",
       "                                                text  \n",
       "0  The following is the description of the recomm...  \n",
       "1  The following is the description of the recomm...  \n",
       "2  The following is the description of the recomm...  \n",
       "3  The following is the description of the recomm...  \n",
       "4  The following is the description of the recomm...  "
      ]
     },
     "execution_count": 39,
     "metadata": {},
     "output_type": "execute_result"
    }
   ],
   "source": [
    "finetuning_data.head()"
   ]
  },
  {
   "cell_type": "code",
   "execution_count": 40,
   "id": "301d9f91-d214-4bea-a246-99c6704f7406",
   "metadata": {},
   "outputs": [
    {
     "data": {
      "text/plain": [
       "\"Filter exactly 10 unique item IDs that the user may be interested in from the given CandidateItems, based solely on the user's personal profile and rated movie preferences. Only output the item IDs, one per line, with no explanations, no extra text, and no duplicates.based on the user's personal profile. UserID: 618, UserProfile: UserID:618 | Gender:M | Age:25 | Occupation:0 | Zip:74105 | RatedMovies:MovieID:1971,rating:3,Genres:Horror;MovieID:3596,rating:1,Genres:Comedy;MovieID:490,rating:2,Genres:Thriller;MovieID:2792,rating:2,Genres:Comedy;MovieID:3755,rating:3,Genres:Action|Adventure|Thriller;MovieID:648,rating:2,Genres:Action|Adventure|Mystery;MovieID:3513,rating:3,Genres:Drama|Thriller;MovieID:3409,rating:3,Genres:Drama|Thriller;MovieID:70,rating:4,Genres:Action|Comedy|Crime|Horror|Thriller;MovieID:2454,rating:3,Genres:Horror|Sci-Fi;MovieID:3947,rating:3,Genres:Thriller;MovieID:3918,rating:2,Genres:Horror;MovieID:1965,rating:2,Genres:Comedy|Sci-Fi;MovieID:3917,rating:4,Genres:Horror;MovieID:3930,rating:2,Genres:Horror;MovieID:3624,rating:4,Genres:Action;MovieID:1171,rating:4,Genres:Comedy;MovieID:2291,rating:3,Genres:Drama|Romance;MovieID:2791,rating:4,Genres:Comedy;MovieID:1673,rating:3,Genres:Drama;MovieID:3481,rating:4,Genres:Comedy;MovieID:551,rating:2,Genres:Children's|Comedy|Musical;MovieID:3578,rating:4,Genres:Action|Drama;MovieID:589,rating:4,Genres:Action|Sci-Fi|Thriller;MovieID:1249,rating:2,Genres:Thriller;MovieID:2858,rating:5,Genres:Comedy|Drama;MovieID:1259,rating:4,Genres:Adventure|Comedy|Drama;MovieID:1250,rating:5,Genres:Drama|War;MovieID:110,rating:4,Genres:Action|Drama|War;MovieID:3347,rating:4,Genres:Drama;MovieID:2717,rating:3,Genres:Comedy|Horror;MovieID:1196,rating:4,Genres:Action|Adventure|Drama|Sci-Fi|War;MovieID:1130,rating:2,Genres:Horror;MovieID:2144,rating:3,Genres:Comedy;MovieID:2746,rating:3,Genres:Comedy|Horror|Musical,\\n CandidateItems: 1969:Horror;1569:Comedy|Romance;639:Comedy;2624:Drama;1904:Comedy|Drama;1976:Horror;3508:Western;611:Action|Horror|Sci-Fi;3698:Action|Adventure|Sci-Fi;348:Comedy;3684:Drama|Romance;175:Drama;3587:Horror;1273:Comedy|Drama;2553:Horror|Sci-Fi|Thriller;2454:Horror|Sci-Fi;1928:Western;3179:Drama;1972:Horror;467:Comedy;1973:Horror;208:Action|Adventure;1264:Action|Drama|Mystery|Romance|Thriller;1197:Action|Adventure|Comedy|Romance;1970:Horror;3579:Drama;3537:Comedy|Drama;296:Crime|Drama;3008:Thriller;497:Comedy|Romance;1793:Comedy;321:Drama;309:Drama;2128:Comedy;3730:Drama|Mystery;865:Drama;2450:Adventure|Children's|Sci-Fi;2150:Comedy;891:Horror|Thriller;1986:Horror;933:Comedy|Romance|Thriller;1977:Horror;2456:Horror|Sci-Fi;696:Thriller;2416:Comedy;2241:Comedy;254:Drama;2283:Drama;3810:Drama|Thriller;1812:Children's|Comedy|Drama.\\n\""
      ]
     },
     "execution_count": 40,
     "metadata": {},
     "output_type": "execute_result"
    }
   ],
   "source": [
    "finetuning_data.iloc[123]['instruction']"
   ]
  },
  {
   "cell_type": "code",
   "execution_count": 41,
   "id": "3adcf5ee-fd77-4e49-855b-bc26506e9e82",
   "metadata": {},
   "outputs": [
    {
     "data": {
      "text/plain": [
       "'Recommended movie ID: [1970, 2456, 1976, 1969, 3579, 1972, 1977, 1986, 611, 2624]'"
      ]
     },
     "execution_count": 41,
     "metadata": {},
     "output_type": "execute_result"
    }
   ],
   "source": [
    "finetuning_data.iloc[123]['output']"
   ]
  },
  {
   "cell_type": "code",
   "execution_count": null,
   "id": "d80deb6a-aaee-4f7b-a5e3-16d758797e58",
   "metadata": {},
   "outputs": [],
   "source": []
  },
  {
   "cell_type": "code",
   "execution_count": null,
   "id": "1ec2875f-2d87-42b6-88f8-aafac649e1db",
   "metadata": {},
   "outputs": [],
   "source": []
  },
  {
   "cell_type": "code",
   "execution_count": null,
   "id": "00113de4-05b5-4054-bae8-a9fb58cfad02",
   "metadata": {},
   "outputs": [],
   "source": []
  }
 ],
 "metadata": {
  "kernelspec": {
   "display_name": "Python 3 (ipykernel)",
   "language": "python",
   "name": "python3"
  },
  "language_info": {
   "codemirror_mode": {
    "name": "ipython",
    "version": 3
   },
   "file_extension": ".py",
   "mimetype": "text/x-python",
   "name": "python",
   "nbconvert_exporter": "python",
   "pygments_lexer": "ipython3",
   "version": "3.12.4"
  }
 },
 "nbformat": 4,
 "nbformat_minor": 5
}
