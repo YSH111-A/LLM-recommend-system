{
 "cells": [
  {
   "cell_type": "markdown",
   "id": "de9ccd27-a681-4cf5-a0ba-d997ecdd8d15",
   "metadata": {},
   "source": [
    "## 源出数据\n"
   ]
  },
  {
   "cell_type": "code",
   "execution_count": 1,
   "id": "285d709f-aeb5-479e-8171-4c5da785df3c",
   "metadata": {},
   "outputs": [],
   "source": [
    "# import pandas as pd\n",
    "\n",
    "# def dat_to_csv_with_encoding(input_file, output_file):\n",
    "#     \"\"\"\n",
    "#     尝试多种编码格式读取.dat文件\n",
    "#     \"\"\"\n",
    "#     # 常见的编码格式列表\n",
    "#     encodings = ['utf-8', 'gbk', 'gb2312', 'latin1', 'cp1252', 'iso-8859-1']\n",
    "    \n",
    "#     for encoding in encodings:\n",
    "#         try:\n",
    "#             print(f\"尝试编码格式: {encoding}\")\n",
    "#             df = pd.read_csv(input_file, sep='::', engine='python', encoding=encoding)\n",
    "#             df.to_csv(output_file, index=False, encoding='utf-8')\n",
    "#             print(f\"✓ 成功使用 {encoding} 编码转换完成！\")\n",
    "#             return df\n",
    "#         except Exception as e:\n",
    "#             print(f\"✗ {encoding} 编码失败: {str(e)[:50]}...\")\n",
    "#             continue\n",
    "    \n",
    "#     print(\"所有编码格式都失败了\")\n",
    "#     return None\n",
    "\n"
   ]
  },
  {
   "cell_type": "code",
   "execution_count": 2,
   "id": "3520757b-5eca-4948-b2ca-2fd537e7fb40",
   "metadata": {},
   "outputs": [],
   "source": [
    "# # 使用示例\n",
    "# df = dat_to_csv_with_encoding('movies.dat', 'movies.csv')"
   ]
  },
  {
   "cell_type": "code",
   "execution_count": 3,
   "id": "8a4bb626-6b44-467d-bfe8-9b522c9c5b77",
   "metadata": {},
   "outputs": [],
   "source": [
    "# ra = pd.read_csv('data/ratings.csv',sep = '::', engine='python')"
   ]
  },
  {
   "cell_type": "code",
   "execution_count": 4,
   "id": "d7a3e9a4-62df-4870-8f77-2a0897428480",
   "metadata": {},
   "outputs": [],
   "source": [
    "# mv = pd.read_csv('data/movies.csv',sep = ',', engine='python')"
   ]
  },
  {
   "cell_type": "code",
   "execution_count": 5,
   "id": "4abfc1cd-8cfd-44a2-8e21-d4120af97b72",
   "metadata": {},
   "outputs": [],
   "source": [
    "# ur = pd.read_csv('data/users.csv',sep = '::', engine='python')"
   ]
  },
  {
   "cell_type": "code",
   "execution_count": 6,
   "id": "f2f2ab11-e961-4790-a0b0-a9434f295c36",
   "metadata": {},
   "outputs": [],
   "source": [
    "# users = pd.read_csv('data/users.csv', sep=\"::\", engine=\"python\",\n",
    "#                     names=[\"UserID\",\"Gender\",\"Age\",\"Occupation\",\"Zip\"],encoding='latin-1')\n",
    "\n",
    "# movies = pd.read_csv(\"data/movies.dat\", sep=\"::\", engine=\"python\",\n",
    "#                      names=[\"MovieID\",\"Title\",\"Genres\"],encoding='latin-1')\n",
    "\n",
    "# ratings = pd.read_csv(\"data/ratings.dat\", sep=\"::\", engine=\"python\",\n",
    "#                       names=[\"UserID\",\"MovieID\",\"Rating\",\"Timestamp\"],encoding='latin-1')"
   ]
  },
  {
   "cell_type": "code",
   "execution_count": 7,
   "id": "b7a50231-608f-4a0e-86d6-81e6fb6a8f07",
   "metadata": {},
   "outputs": [],
   "source": [
    "# # 合并表\n",
    "# data = ratings.merge(movies, on=\"MovieID\").merge(users, on=\"UserID\")"
   ]
  },
  {
   "cell_type": "code",
   "execution_count": 8,
   "id": "4af2c671-b55a-4680-8b96-6fc17df343a9",
   "metadata": {},
   "outputs": [],
   "source": [
    "# data.to_csv('data.csv',index = False)"
   ]
  },
  {
   "cell_type": "markdown",
   "id": "0e260e07-e0b1-46e8-8025-f8c3249df773",
   "metadata": {},
   "source": [
    "## 标准源数据处理"
   ]
  },
  {
   "cell_type": "code",
   "execution_count": 9,
   "id": "024fa195-6676-4b14-a515-990b0ef32cff",
   "metadata": {},
   "outputs": [],
   "source": [
    "import pandas as pd \n",
    "df = pd.read_csv('data.csv')"
   ]
  },
  {
   "cell_type": "code",
   "execution_count": 10,
   "id": "f6155a71-9c44-4d08-88ac-d6bcc6965740",
   "metadata": {},
   "outputs": [
    {
     "data": {
      "text/html": [
       "<div>\n",
       "<style scoped>\n",
       "    .dataframe tbody tr th:only-of-type {\n",
       "        vertical-align: middle;\n",
       "    }\n",
       "\n",
       "    .dataframe tbody tr th {\n",
       "        vertical-align: top;\n",
       "    }\n",
       "\n",
       "    .dataframe thead th {\n",
       "        text-align: right;\n",
       "    }\n",
       "</style>\n",
       "<table border=\"1\" class=\"dataframe\">\n",
       "  <thead>\n",
       "    <tr style=\"text-align: right;\">\n",
       "      <th></th>\n",
       "      <th>UserID</th>\n",
       "      <th>MovieID</th>\n",
       "      <th>Rating</th>\n",
       "      <th>Timestamp</th>\n",
       "      <th>Title</th>\n",
       "      <th>Genres</th>\n",
       "      <th>Gender</th>\n",
       "      <th>Age</th>\n",
       "      <th>Occupation</th>\n",
       "      <th>Zip</th>\n",
       "    </tr>\n",
       "  </thead>\n",
       "  <tbody>\n",
       "    <tr>\n",
       "      <th>0</th>\n",
       "      <td>1</td>\n",
       "      <td>1193</td>\n",
       "      <td>5</td>\n",
       "      <td>978300760</td>\n",
       "      <td>One Flew Over the Cuckoo's Nest (1975)</td>\n",
       "      <td>Drama</td>\n",
       "      <td>F</td>\n",
       "      <td>1</td>\n",
       "      <td>10</td>\n",
       "      <td>48067</td>\n",
       "    </tr>\n",
       "    <tr>\n",
       "      <th>1</th>\n",
       "      <td>1</td>\n",
       "      <td>661</td>\n",
       "      <td>3</td>\n",
       "      <td>978302109</td>\n",
       "      <td>James and the Giant Peach (1996)</td>\n",
       "      <td>Animation|Children's|Musical</td>\n",
       "      <td>F</td>\n",
       "      <td>1</td>\n",
       "      <td>10</td>\n",
       "      <td>48067</td>\n",
       "    </tr>\n",
       "    <tr>\n",
       "      <th>2</th>\n",
       "      <td>1</td>\n",
       "      <td>914</td>\n",
       "      <td>3</td>\n",
       "      <td>978301968</td>\n",
       "      <td>My Fair Lady (1964)</td>\n",
       "      <td>Musical|Romance</td>\n",
       "      <td>F</td>\n",
       "      <td>1</td>\n",
       "      <td>10</td>\n",
       "      <td>48067</td>\n",
       "    </tr>\n",
       "    <tr>\n",
       "      <th>3</th>\n",
       "      <td>1</td>\n",
       "      <td>3408</td>\n",
       "      <td>4</td>\n",
       "      <td>978300275</td>\n",
       "      <td>Erin Brockovich (2000)</td>\n",
       "      <td>Drama</td>\n",
       "      <td>F</td>\n",
       "      <td>1</td>\n",
       "      <td>10</td>\n",
       "      <td>48067</td>\n",
       "    </tr>\n",
       "    <tr>\n",
       "      <th>4</th>\n",
       "      <td>1</td>\n",
       "      <td>2355</td>\n",
       "      <td>5</td>\n",
       "      <td>978824291</td>\n",
       "      <td>Bug's Life, A (1998)</td>\n",
       "      <td>Animation|Children's|Comedy</td>\n",
       "      <td>F</td>\n",
       "      <td>1</td>\n",
       "      <td>10</td>\n",
       "      <td>48067</td>\n",
       "    </tr>\n",
       "  </tbody>\n",
       "</table>\n",
       "</div>"
      ],
      "text/plain": [
       "   UserID  MovieID  Rating  Timestamp                                   Title  \\\n",
       "0       1     1193       5  978300760  One Flew Over the Cuckoo's Nest (1975)   \n",
       "1       1      661       3  978302109        James and the Giant Peach (1996)   \n",
       "2       1      914       3  978301968                     My Fair Lady (1964)   \n",
       "3       1     3408       4  978300275                  Erin Brockovich (2000)   \n",
       "4       1     2355       5  978824291                    Bug's Life, A (1998)   \n",
       "\n",
       "                         Genres Gender  Age  Occupation    Zip  \n",
       "0                         Drama      F    1          10  48067  \n",
       "1  Animation|Children's|Musical      F    1          10  48067  \n",
       "2               Musical|Romance      F    1          10  48067  \n",
       "3                         Drama      F    1          10  48067  \n",
       "4   Animation|Children's|Comedy      F    1          10  48067  "
      ]
     },
     "execution_count": 10,
     "metadata": {},
     "output_type": "execute_result"
    }
   ],
   "source": [
    "df.head()"
   ]
  },
  {
   "cell_type": "code",
   "execution_count": 11,
   "id": "0c3aeef7-68b7-456f-acf9-829b0b541265",
   "metadata": {},
   "outputs": [],
   "source": [
    "###划分训练验证\n",
    "import pandas as pd\n",
    "import numpy as np\n",
    "def split_train_val_by_user(df, train_ratio=0.8, max_val_samples=10):\n",
    "    \"\"\"\n",
    "    按用户划分训练集和验证集\n",
    "    - 每个用户的前n条记录作为训练集（80%）\n",
    "    - 后面的作为验证集（20%，最多10条）\n",
    "    \n",
    "    Parameters:\n",
    "    df: DataFrame - 包含用户评分数据\n",
    "    train_ratio: float - 训练集比例\n",
    "    max_val_samples: int - 验证集最大样本数\n",
    "    \n",
    "    Returns:\n",
    "    train_df, val_df: DataFrame - 训练集和验证集\n",
    "    \"\"\"\n",
    "    \n",
    "    # 按用户和时间戳排序\n",
    "    df_sorted = df.sort_values(['UserID', 'Timestamp']).reset_index(drop=True)\n",
    "    \n",
    "    train_list = []\n",
    "    val_list = []\n",
    "    \n",
    "    # 按用户分组处理\n",
    "    for user_id, user_data in df_sorted.groupby('UserID'):\n",
    "        user_data = user_data.reset_index(drop=True)\n",
    "        total_samples = len(user_data)\n",
    "        \n",
    "        if total_samples == 1:\n",
    "            # 只有一条记录，全部作为训练集\n",
    "            train_list.append(user_data)\n",
    "        else:\n",
    "            # 计算训练集大小\n",
    "            train_size = max(1, int(total_samples * train_ratio))\n",
    "            \n",
    "            # 划分训练集和验证集\n",
    "            train_samples = user_data.iloc[:train_size]\n",
    "            val_samples = user_data.iloc[train_size:]\n",
    "            \n",
    "            # 如果验证集超过最大限制，只取最近的几条\n",
    "            if len(val_samples) > max_val_samples:\n",
    "                val_samples = val_samples.tail(max_val_samples)\n",
    "            \n",
    "            train_list.append(train_samples)\n",
    "            val_list.append(val_samples)\n",
    "    \n",
    "    # 合并所有用户的训练集和验证集\n",
    "    train_df = pd.concat(train_list, ignore_index=True) if train_list else pd.DataFrame()\n",
    "    val_df = pd.concat(val_list, ignore_index=True) if val_list else pd.DataFrame()\n",
    "    \n",
    "    return train_df, val_df"
   ]
  },
  {
   "cell_type": "code",
   "execution_count": 12,
   "id": "ac489e31-e7a6-4699-a99f-930de2405904",
   "metadata": {},
   "outputs": [
    {
     "name": "stdout",
     "output_type": "stream",
     "text": [
      "训练集大小: 797758\n",
      "验证集大小: 55022\n",
      "训练集用户数: 6040\n",
      "验证集用户数: 6040\n",
      "训练集前几条:\n",
      "   UserID  MovieID  Rating  Timestamp                      Title  \\\n",
      "0       1     3186       4  978300019   Girl, Interrupted (1999)   \n",
      "1       1     1270       5  978300055  Back to the Future (1985)   \n",
      "2       1     1721       4  978300055             Titanic (1997)   \n",
      "3       1     1022       5  978300055          Cinderella (1950)   \n",
      "4       1     2340       3  978300103      Meet Joe Black (1998)   \n",
      "\n",
      "                         Genres Gender  Age  Occupation    Zip  \n",
      "0                         Drama      F    1          10  48067  \n",
      "1                 Comedy|Sci-Fi      F    1          10  48067  \n",
      "2                 Drama|Romance      F    1          10  48067  \n",
      "3  Animation|Children's|Musical      F    1          10  48067  \n",
      "4                       Romance      F    1          10  48067  \n",
      "\n",
      "验证集前几条:\n",
      "   UserID  MovieID  Rating  Timestamp                  Title  \\\n",
      "0       1     2687       3  978824268          Tarzan (1999)   \n",
      "1       1      745       3  978824268  Close Shave, A (1995)   \n",
      "2       1      588       4  978824268         Aladdin (1992)   \n",
      "3       1        1       5  978824268       Toy Story (1995)   \n",
      "4       1     2355       5  978824291   Bug's Life, A (1998)   \n",
      "\n",
      "                                Genres Gender  Age  Occupation    Zip  \n",
      "0                 Animation|Children's      F    1          10  48067  \n",
      "1            Animation|Comedy|Thriller      F    1          10  48067  \n",
      "2  Animation|Children's|Comedy|Musical      F    1          10  48067  \n",
      "3          Animation|Children's|Comedy      F    1          10  48067  \n",
      "4          Animation|Children's|Comedy      F    1          10  48067  \n"
     ]
    }
   ],
   "source": [
    "# 使用示例\n",
    "train_df, val_df = split_train_val_by_user(df, train_ratio=0.8, max_val_samples=10)\n",
    "\n",
    "# 查看结果\n",
    "print(f\"训练集大小: {len(train_df)}\")\n",
    "print(f\"验证集大小: {len(val_df)}\")\n",
    "print(f\"训练集用户数: {train_df['UserID'].nunique()}\")\n",
    "print(f\"验证集用户数: {val_df['UserID'].nunique()}\")\n",
    "\n",
    "# 显示前几条记录\n",
    "print(\"训练集前几条:\")\n",
    "print(train_df.head())\n",
    "print(\"\\n验证集前几条:\")\n",
    "print(val_df.head())\n",
    "train_df.to_parquet('data/train_df.parquet')\n",
    "val_df.to_parquet('data/val_df.parquet')"
   ]
  },
  {
   "cell_type": "code",
   "execution_count": 13,
   "id": "311d1bf4-24b6-4c56-86d0-5825875aa55e",
   "metadata": {},
   "outputs": [],
   "source": [
    "# ##用户画像\n",
    "# def create_user_profile_simple(train_df):\n",
    "#     \"\"\"\n",
    "#     简化版用户画像构造函数\n",
    "#     \"\"\"\n",
    "#     user_profiles_list = []\n",
    "    \n",
    "#     for user_id, user_data in train_df.groupby('UserID'):\n",
    "#         # 获取用户基本信息\n",
    "#         basic_info = user_data.iloc[0]\n",
    "        \n",
    "#         # 收集所有电影类型\n",
    "#         all_genres = set()\n",
    "#         for genres in user_data['Genres'].dropna():\n",
    "#             all_genres.update(genres.split('|'))\n",
    "        \n",
    "#         # 构造用户画像\n",
    "#         profile_dict = {\n",
    "#             'UserID': user_id,\n",
    "#             'Gender': basic_info['Gender'],\n",
    "#             'Age': basic_info['Age'],\n",
    "#             'Occupation': basic_info['Occupation'],\n",
    "#             'Zip': basic_info['Zip'],\n",
    "#             'RatedMovies': ';'.join([f\"{row['MovieID']}:{row['Rating']}\" \n",
    "#                                    for _, row in user_data.iterrows()]),\n",
    "#             'FavoriteGenres': '|'.join(sorted(all_genres)) if all_genres else ''\n",
    "#         }\n",
    "        \n",
    "#         # 转换为指定格式的字符串\n",
    "#         profile_str = \" | \".join([\n",
    "#             f\"UserID:{profile_dict['UserID']}\",\n",
    "#             f\"Gender:{profile_dict['Gender']}\",\n",
    "#             f\"Age:{profile_dict['Age']}\",\n",
    "#             f\"Occupation:{profile_dict['Occupation']}\",\n",
    "#             f\"Zip:{profile_dict['Zip']}\",\n",
    "#             f\"RatedMovies:{profile_dict['RatedMovies']}\",\n",
    "#             f\"FavoriteGenres:{profile_dict['FavoriteGenres']}\"\n",
    "#         ])\n",
    "        \n",
    "#         user_profiles_list.append({\n",
    "#             'UserID': user_id,\n",
    "#             'UserProfile': profile_str\n",
    "#         })\n",
    "    \n",
    "#     return pd.DataFrame(user_profiles_list)\n",
    "\n",
    "\n",
    "def create_user_profile_simple(train_df):\n",
    "    \"\"\"\n",
    "    简化版用户画像构造函数\n",
    "    \"\"\"\n",
    "    user_profiles_list = []\n",
    "    \n",
    "    for user_id, user_data in train_df.groupby('UserID'):\n",
    "        # 获取用户基本信息\n",
    "        basic_info = user_data.iloc[0]\n",
    "        \n",
    "        # 收集所有电影类型\n",
    "        all_genres = set()\n",
    "        for genres in user_data['Genres'].dropna():\n",
    "            all_genres.update(genres.split('|'))\n",
    "        \n",
    "        # 构造用户画像\n",
    "        profile_dict = {\n",
    "            'UserID': user_id,\n",
    "            'Gender': basic_info['Gender'],\n",
    "            'Age': basic_info['Age'],\n",
    "            'Occupation': basic_info['Occupation'],\n",
    "            'Zip': basic_info['Zip'],\n",
    "            'RatedMovies': ';'.join([f\"MovieID:{row['MovieID']},rating:{row['Rating']},Genres:{row['Genres']}\" \n",
    "                                   for _, row in user_data.iterrows()]),\n",
    "            'FavoriteGenres': '|'.join(sorted(all_genres)) if all_genres else ''\n",
    "        }\n",
    "        \n",
    "        # 转换为指定格式的字符串\n",
    "        profile_str = \" | \".join([\n",
    "            f\"UserID:{profile_dict['UserID']}\",\n",
    "            f\"Gender:{profile_dict['Gender']}\",\n",
    "            f\"Age:{profile_dict['Age']}\",\n",
    "            f\"Occupation:{profile_dict['Occupation']}\",\n",
    "            f\"Zip:{profile_dict['Zip']}\",\n",
    "            f\"RatedMovies:{profile_dict['RatedMovies']}\",\n",
    "            f\"FavoriteGenres:{profile_dict['FavoriteGenres']}\"\n",
    "        ])\n",
    "        \n",
    "        user_profiles_list.append({\n",
    "            'UserID': user_id,\n",
    "            'UserProfile': profile_str\n",
    "        })\n",
    "    \n",
    "    return pd.DataFrame(user_profiles_list)"
   ]
  },
  {
   "cell_type": "code",
   "execution_count": 14,
   "id": "31c83e8c-7606-4d58-8758-27b8ebb98507",
   "metadata": {},
   "outputs": [],
   "source": [
    "# 构建用户画像\n",
    "user_profiles = create_user_profile_simple(train_df)"
   ]
  },
  {
   "cell_type": "code",
   "execution_count": 15,
   "id": "326db807-dbc2-4a0e-bbe8-baaba33b6b3e",
   "metadata": {},
   "outputs": [
    {
     "data": {
      "text/plain": [
       "'UserID:2 | Gender:M | Age:56 | Occupation:16 | Zip:70072 | RatedMovies:MovieID:1198,rating:4,Genres:Action|Adventure;MovieID:1210,rating:4,Genres:Action|Adventure|Romance|Sci-Fi|War;MovieID:1217,rating:3,Genres:Drama|War;MovieID:2717,rating:3,Genres:Comedy|Horror;MovieID:1293,rating:5,Genres:Drama;MovieID:2943,rating:4,Genres:Drama|Romance;MovieID:1225,rating:5,Genres:Drama;MovieID:1193,rating:5,Genres:Drama;MovieID:318,rating:5,Genres:Drama;MovieID:3030,rating:4,Genres:Comedy|Drama|Western;MovieID:2858,rating:4,Genres:Comedy|Drama;MovieID:1213,rating:2,Genres:Crime|Drama;MovieID:1945,rating:5,Genres:Crime|Drama;MovieID:1207,rating:4,Genres:Drama;MovieID:593,rating:5,Genres:Drama|Thriller;MovieID:3095,rating:4,Genres:Drama;MovieID:3468,rating:5,Genres:Drama;MovieID:1873,rating:4,Genres:Drama;MovieID:515,rating:5,Genres:Drama;MovieID:1090,rating:2,Genres:Drama|War;MovieID:2501,rating:5,Genres:Drama;MovieID:3035,rating:4,Genres:Comedy|Drama|War;MovieID:110,rating:5,Genres:Action|Drama|War;MovieID:2067,rating:5,Genres:Drama|Romance|War;MovieID:3147,rating:5,Genres:Drama|Thriller;MovieID:1247,rating:5,Genres:Drama|Romance;MovieID:3105,rating:4,Genres:Drama;MovieID:1357,rating:5,Genres:Drama|Romance;MovieID:1196,rating:5,Genres:Action|Adventure|Drama|Sci-Fi|War;MovieID:1957,rating:5,Genres:Drama;MovieID:1953,rating:4,Genres:Action|Crime|Drama|Thriller;MovieID:920,rating:5,Genres:Drama|Romance|War;MovieID:1962,rating:5,Genres:Drama;MovieID:1834,rating:4,Genres:Drama|Thriller;MovieID:1084,rating:3,Genres:Crime|Drama;MovieID:3471,rating:5,Genres:Drama|Sci-Fi;MovieID:3654,rating:3,Genres:Action|Drama|War;MovieID:3735,rating:3,Genres:Crime|Drama;MovieID:1259,rating:5,Genres:Adventure|Comedy|Drama;MovieID:1954,rating:5,Genres:Action|Drama;MovieID:1784,rating:5,Genres:Comedy|Drama;MovieID:2728,rating:3,Genres:Drama;MovieID:1968,rating:2,Genres:Comedy|Drama;MovieID:1103,rating:3,Genres:Drama;MovieID:902,rating:2,Genres:Drama|Romance;MovieID:3451,rating:4,Genres:Comedy|Drama;MovieID:3578,rating:5,Genres:Action|Drama;MovieID:2852,rating:3,Genres:Drama;MovieID:3334,rating:4,Genres:Crime|Drama|Film-Noir|Thriller;MovieID:3068,rating:4,Genres:Drama;MovieID:265,rating:4,Genres:Drama|Romance;MovieID:2312,rating:3,Genres:Drama;MovieID:590,rating:5,Genres:Adventure|Drama|Western;MovieID:1253,rating:3,Genres:Drama|Sci-Fi;MovieID:3071,rating:4,Genres:Drama;MovieID:1244,rating:3,Genres:Comedy|Drama|Romance;MovieID:3699,rating:2,Genres:Adventure|Drama|Romance|Sci-Fi;MovieID:1955,rating:4,Genres:Drama;MovieID:1245,rating:2,Genres:Drama;MovieID:2236,rating:5,Genres:Drama;MovieID:3678,rating:3,Genres:Drama;MovieID:982,rating:4,Genres:Drama;MovieID:2194,rating:4,Genres:Action|Crime|Drama;MovieID:2268,rating:5,Genres:Crime|Drama;MovieID:1442,rating:4,Genres:Drama;MovieID:3255,rating:4,Genres:Comedy|Drama;MovieID:647,rating:3,Genres:Drama|War;MovieID:235,rating:3,Genres:Comedy|Drama;MovieID:1096,rating:4,Genres:Drama;MovieID:1246,rating:5,Genres:Drama;MovieID:1124,rating:5,Genres:Drama;MovieID:498,rating:3,Genres:Drama|Romance;MovieID:3893,rating:1,Genres:Comedy|Thriller;MovieID:1537,rating:4,Genres:Comedy;MovieID:1188,rating:4,Genres:Comedy|Romance;MovieID:2396,rating:4,Genres:Comedy|Romance;MovieID:2321,rating:3,Genres:Comedy;MovieID:2359,rating:3,Genres:Comedy;MovieID:356,rating:5,Genres:Comedy|Romance|War;MovieID:3108,rating:3,Genres:Comedy|Drama|Romance;MovieID:1265,rating:3,Genres:Comedy|Romance;MovieID:3809,rating:3,Genres:Comedy;MovieID:2028,rating:4,Genres:Action|Drama|War;MovieID:589,rating:4,Genres:Action|Sci-Fi|Thriller;MovieID:2571,rating:4,Genres:Action|Sci-Fi|Thriller;MovieID:457,rating:4,Genres:Action|Thriller;MovieID:2916,rating:3,Genres:Action|Adventure|Sci-Fi|Thriller;MovieID:1610,rating:5,Genres:Action|Thriller;MovieID:480,rating:5,Genres:Action|Adventure|Sci-Fi;MovieID:163,rating:4,Genres:Action|Romance|Thriller;MovieID:380,rating:5,Genres:Action|Adventure|Comedy|Romance;MovieID:3418,rating:4,Genres:Action|Drama;MovieID:3256,rating:2,Genres:Action|Thriller;MovieID:1408,rating:3,Genres:Action|Romance|War;MovieID:21,rating:1,Genres:Action|Comedy|Drama;MovieID:349,rating:4,Genres:Action|Adventure|Thriller;MovieID:1527,rating:4,Genres:Action|Sci-Fi;MovieID:2353,rating:4,Genres:Action|Thriller;MovieID:2006,rating:3,Genres:Action|Adventure|Romance;MovieID:2278,rating:3,Genres:Action|Crime|Thriller;MovieID:1370,rating:5,Genres:Action|Thriller;MovieID:648,rating:4,Genres:Action|Adventure|Mystery;MovieID:2427,rating:2,Genres:Action|Drama|War | FavoriteGenres:Action|Adventure|Comedy|Crime|Drama|Film-Noir|Horror|Mystery|Romance|Sci-Fi|Thriller|War|Western'"
      ]
     },
     "execution_count": 15,
     "metadata": {},
     "output_type": "execute_result"
    }
   ],
   "source": [
    "##\n",
    "user_profiles['UserProfile'][1]"
   ]
  },
  {
   "cell_type": "code",
   "execution_count": 16,
   "id": "10c5ad2e-59ee-466d-a173-5f09074eaafb",
   "metadata": {},
   "outputs": [],
   "source": [
    "##创建候选物品\n",
    "import pandas as pd\n",
    "import numpy as np\n",
    "from collections import defaultdict\n",
    "\n",
    "def create_candidate_items(val_df, movies_df, num_random_items=40, random_state=42):\n",
    "    \"\"\"\n",
    "    构造待选物品列表\n",
    "    \n",
    "    Parameters:\n",
    "    val_df: DataFrame - 验证集数据\n",
    "    movies_df: DataFrame - 电影数据，包含MovieID, Title, Genres列\n",
    "    num_random_items: int - 随机抽取的物品数量\n",
    "    random_state: int - 随机种子\n",
    "    \n",
    "    Returns:\n",
    "    candidate_items: DataFrame - 待选物品列表\n",
    "    \"\"\"\n",
    "    \n",
    "    # 设置随机种子\n",
    "    np.random.seed(random_state)\n",
    "    \n",
    "    # 创建电影信息字典，方便快速查找\n",
    "    movie_info_dict = {}\n",
    "    for _, row in movies_df.iterrows():\n",
    "        movie_info_dict[row['MovieID']] = {\n",
    "            'Title': row['Title'] if pd.notna(row['Title']) else '',\n",
    "            'Genres': row['Genres'] if pd.notna(row['Genres']) else ''\n",
    "        }\n",
    "    \n",
    "    candidate_list = []\n",
    "    \n",
    "    # 按用户分组处理\n",
    "    for user_id, user_data in val_df.groupby('UserID'):\n",
    "        # 获取用户在验证集中交互过的物品\n",
    "        interacted_items = user_data['MovieID'].tolist()\n",
    "        \n",
    "        # 获取这些物品的详细信息（MovieID:Genres格式）\n",
    "        interacted_items_with_genres = []\n",
    "        for movie_id in interacted_items:\n",
    "            if movie_id in movie_info_dict:\n",
    "                genres = movie_info_dict[movie_id]['Genres']\n",
    "                interacted_items_with_genres.append(f\"{movie_id}:{genres}\")\n",
    "        \n",
    "        # 从所有电影中随机抽取40个物品（排除用户已经交互过的物品）\n",
    "        all_movie_ids = set(movies_df['MovieID'].unique())\n",
    "        interacted_movie_ids = set(interacted_items)\n",
    "        available_movie_ids = list(all_movie_ids - interacted_movie_ids)\n",
    "        \n",
    "        # 如果可用电影数量少于需要的数量，就取所有可用的\n",
    "        sample_size = min(num_random_items, len(available_movie_ids))\n",
    "        random_items = np.random.choice(available_movie_ids, size=sample_size, replace=False)\n",
    "        \n",
    "        # 获取随机物品的详细信息\n",
    "        random_items_with_genres = []\n",
    "        for movie_id in random_items:\n",
    "            if movie_id in movie_info_dict:\n",
    "                genres = movie_info_dict[movie_id]['Genres']\n",
    "                random_items_with_genres.append(f\"{movie_id}:{genres}\")\n",
    "        \n",
    "        # 合并交互过的物品和随机物品，总共50个\n",
    "        all_candidate_items = interacted_items_with_genres + random_items_with_genres\n",
    "        \n",
    "        # 如果总数超过50个，截取前50个；如果不足50个，保持现状\n",
    "        if len(all_candidate_items) > 50:\n",
    "            all_candidate_items = all_candidate_items[:50]\n",
    "        \n",
    "        # 构造候选物品字符串\n",
    "        candidate_items_str = \";\".join(all_candidate_items)\n",
    "        interacted_items_str = \";\".join(interacted_items_with_genres)\n",
    "        \n",
    "        candidate_list.append({\n",
    "            'UserID': user_id,\n",
    "            'CandidateItems': candidate_items_str,\n",
    "            'InteractedItems': interacted_items_str\n",
    "        })\n",
    "    \n",
    "    # 创建候选物品DataFrame\n",
    "    candidate_items = pd.DataFrame(candidate_list)\n",
    "    \n",
    "    return candidate_items\n",
    "\n",
    "# 如果movies数据在train_df中，可以先提取出来\n",
    "def extract_movies_from_train(train_df):\n",
    "    \"\"\"\n",
    "    从训练数据中提取电影信息\n",
    "    \"\"\"\n",
    "    movies_df = train_df[['MovieID', 'Title', 'Genres']].drop_duplicates(subset=['MovieID'])\n",
    "    return movies_df"
   ]
  },
  {
   "cell_type": "code",
   "execution_count": 29,
   "id": "89f94885-6cfd-4e7e-a3c7-290d9c4cdb30",
   "metadata": {},
   "outputs": [
    {
     "name": "stdout",
     "output_type": "stream",
     "text": [
      "候选物品列表示例:\n",
      "   UserID                                     CandidateItems  \\\n",
      "0       1  2687:Animation|Children's;745:Animation|Comedy...   \n",
      "1       2  3257:Action|Drama|Romance|Thriller;736:Action|...   \n",
      "2       3  1270:Comedy|Sci-Fi;1259:Adventure|Comedy|Drama...   \n",
      "3       4  3702:Action|Sci-Fi;1240:Action|Sci-Fi|Thriller...   \n",
      "4       5  1909:Mystery|Sci-Fi|Thriller;52:Comedy;551:Chi...   \n",
      "\n",
      "                                     InteractedItems  \n",
      "0  2687:Animation|Children's;745:Animation|Comedy...  \n",
      "1  3257:Action|Drama|Romance|Thriller;736:Action|...  \n",
      "2  1270:Comedy|Sci-Fi;1259:Adventure|Comedy|Drama...  \n",
      "3  3702:Action|Sci-Fi;1240:Action|Sci-Fi|Thriller...  \n",
      "4  1909:Mystery|Sci-Fi|Thriller;52:Comedy;551:Chi...  \n"
     ]
    },
    {
     "name": "stderr",
     "output_type": "stream",
     "text": [
      "/tmp/ipykernel_8799/3248083825.py:13: FutureWarning: Series.__getitem__ treating keys as positions is deprecated. In a future version, integer keys will always be treated as labels (consistent with DataFrame behavior). To access a value by position, use `ser.iloc[pos]`\n",
      "  candidate_items[candidate_items['UserID'] == 1].iloc[0][1]\n"
     ]
    },
    {
     "data": {
      "text/plain": [
       "\"2687:Animation|Children's;745:Animation|Comedy|Thriller;588:Animation|Children's|Comedy|Musical;1:Animation|Children's|Comedy;2355:Animation|Children's|Comedy;2294:Animation|Children's;783:Animation|Children's|Musical;1566:Adventure|Animation|Children's|Comedy|Musical;1907:Animation|Children's;48:Animation|Children's|Musical|Romance;1123:Documentary;703:Drama;327:Action|Comedy|Musical|Sci-Fi;3185:Drama;1782:Comedy|Romance;333:Comedy;418:Drama;1336:Horror;844:Drama;1078:Comedy|War;363:Documentary;3057:Comedy;370:Comedy;302:Drama|Romance;3256:Action|Thriller;3142:Documentary|Musical;2600:Action|Sci-Fi|Thriller;550:Comedy|Romance;1148:Animation|Comedy;378:Comedy|Romance;2095:Children's|Comedy;806:Drama;1653:Drama|Sci-Fi|Thriller;3450:Comedy;3947:Thriller;3135:Drama;1421:Documentary;2291:Drama|Romance;3161:Drama;3691:Comedy;2963:Crime|Drama;1088:Musical|Romance;3326:Comedy|Sci-Fi;3483:Animation|Children's;2149:Comedy|Horror;34:Children's|Comedy|Drama;2104:Drama;1256:Comedy|War;2020:Drama|Romance;3409:Drama|Thriller\""
      ]
     },
     "execution_count": 29,
     "metadata": {},
     "output_type": "execute_result"
    }
   ],
   "source": [
    "# 使用示例\n",
    "movies_df = extract_movies_from_train(df)  # 或者从单独的movies文件读取\n",
    "candidate_items = create_candidate_items(val_df, movies_df, num_random_items=40, random_state=42)\n",
    "\n",
    "# 查看结果\n",
    "print(\"候选物品列表示例:\")\n",
    "print(candidate_items.head())\n",
    "\n",
    "# 保存候选物品列表\n",
    "# candidate_items.to_csv('candidate_items.csv', index=False)\n",
    "\n",
    "# 显示某个具体用户的候选物品\n",
    "candidate_items[candidate_items['UserID'] == 1].iloc[0][1]"
   ]
  },
  {
   "cell_type": "code",
   "execution_count": 30,
   "id": "cc683045-f2f5-4310-9faf-df3a2818f721",
   "metadata": {},
   "outputs": [
    {
     "data": {
      "text/html": [
       "<div>\n",
       "<style scoped>\n",
       "    .dataframe tbody tr th:only-of-type {\n",
       "        vertical-align: middle;\n",
       "    }\n",
       "\n",
       "    .dataframe tbody tr th {\n",
       "        vertical-align: top;\n",
       "    }\n",
       "\n",
       "    .dataframe thead th {\n",
       "        text-align: right;\n",
       "    }\n",
       "</style>\n",
       "<table border=\"1\" class=\"dataframe\">\n",
       "  <thead>\n",
       "    <tr style=\"text-align: right;\">\n",
       "      <th></th>\n",
       "      <th>UserID</th>\n",
       "      <th>CandidateItems</th>\n",
       "      <th>InteractedItems</th>\n",
       "    </tr>\n",
       "  </thead>\n",
       "  <tbody>\n",
       "    <tr>\n",
       "      <th>0</th>\n",
       "      <td>1</td>\n",
       "      <td>2687:Animation|Children's;745:Animation|Comedy...</td>\n",
       "      <td>2687:Animation|Children's;745:Animation|Comedy...</td>\n",
       "    </tr>\n",
       "    <tr>\n",
       "      <th>1</th>\n",
       "      <td>2</td>\n",
       "      <td>3257:Action|Drama|Romance|Thriller;736:Action|...</td>\n",
       "      <td>3257:Action|Drama|Romance|Thriller;736:Action|...</td>\n",
       "    </tr>\n",
       "    <tr>\n",
       "      <th>2</th>\n",
       "      <td>3</td>\n",
       "      <td>1270:Comedy|Sci-Fi;1259:Adventure|Comedy|Drama...</td>\n",
       "      <td>1270:Comedy|Sci-Fi;1259:Adventure|Comedy|Drama...</td>\n",
       "    </tr>\n",
       "    <tr>\n",
       "      <th>3</th>\n",
       "      <td>4</td>\n",
       "      <td>3702:Action|Sci-Fi;1240:Action|Sci-Fi|Thriller...</td>\n",
       "      <td>3702:Action|Sci-Fi;1240:Action|Sci-Fi|Thriller...</td>\n",
       "    </tr>\n",
       "    <tr>\n",
       "      <th>4</th>\n",
       "      <td>5</td>\n",
       "      <td>1909:Mystery|Sci-Fi|Thriller;52:Comedy;551:Chi...</td>\n",
       "      <td>1909:Mystery|Sci-Fi|Thriller;52:Comedy;551:Chi...</td>\n",
       "    </tr>\n",
       "    <tr>\n",
       "      <th>...</th>\n",
       "      <td>...</td>\n",
       "      <td>...</td>\n",
       "      <td>...</td>\n",
       "    </tr>\n",
       "    <tr>\n",
       "      <th>6035</th>\n",
       "      <td>6036</td>\n",
       "      <td>611:Action|Horror|Sci-Fi;2091:Children's|Sci-F...</td>\n",
       "      <td>611:Action|Horror|Sci-Fi;2091:Children's|Sci-F...</td>\n",
       "    </tr>\n",
       "    <tr>\n",
       "      <th>6036</th>\n",
       "      <td>6037</td>\n",
       "      <td>1653:Drama|Sci-Fi|Thriller;1584:Drama|Sci-Fi;2...</td>\n",
       "      <td>1653:Drama|Sci-Fi|Thriller;1584:Drama|Sci-Fi;2...</td>\n",
       "    </tr>\n",
       "    <tr>\n",
       "      <th>6037</th>\n",
       "      <td>6038</td>\n",
       "      <td>1354:Drama;1419:Drama;2700:Animation|Comedy;11...</td>\n",
       "      <td>1354:Drama;1419:Drama;2700:Animation|Comedy;11...</td>\n",
       "    </tr>\n",
       "    <tr>\n",
       "      <th>6038</th>\n",
       "      <td>6039</td>\n",
       "      <td>1237:Drama;1252:Film-Noir|Mystery|Thriller;923...</td>\n",
       "      <td>1237:Drama;1252:Film-Noir|Mystery|Thriller;923...</td>\n",
       "    </tr>\n",
       "    <tr>\n",
       "      <th>6039</th>\n",
       "      <td>6040</td>\n",
       "      <td>2725:Drama;1673:Drama;457:Action|Thriller;3671...</td>\n",
       "      <td>2725:Drama;1673:Drama;457:Action|Thriller;3671...</td>\n",
       "    </tr>\n",
       "  </tbody>\n",
       "</table>\n",
       "<p>6040 rows × 3 columns</p>\n",
       "</div>"
      ],
      "text/plain": [
       "      UserID                                     CandidateItems  \\\n",
       "0          1  2687:Animation|Children's;745:Animation|Comedy...   \n",
       "1          2  3257:Action|Drama|Romance|Thriller;736:Action|...   \n",
       "2          3  1270:Comedy|Sci-Fi;1259:Adventure|Comedy|Drama...   \n",
       "3          4  3702:Action|Sci-Fi;1240:Action|Sci-Fi|Thriller...   \n",
       "4          5  1909:Mystery|Sci-Fi|Thriller;52:Comedy;551:Chi...   \n",
       "...      ...                                                ...   \n",
       "6035    6036  611:Action|Horror|Sci-Fi;2091:Children's|Sci-F...   \n",
       "6036    6037  1653:Drama|Sci-Fi|Thriller;1584:Drama|Sci-Fi;2...   \n",
       "6037    6038  1354:Drama;1419:Drama;2700:Animation|Comedy;11...   \n",
       "6038    6039  1237:Drama;1252:Film-Noir|Mystery|Thriller;923...   \n",
       "6039    6040  2725:Drama;1673:Drama;457:Action|Thriller;3671...   \n",
       "\n",
       "                                        InteractedItems  \n",
       "0     2687:Animation|Children's;745:Animation|Comedy...  \n",
       "1     3257:Action|Drama|Romance|Thriller;736:Action|...  \n",
       "2     1270:Comedy|Sci-Fi;1259:Adventure|Comedy|Drama...  \n",
       "3     3702:Action|Sci-Fi;1240:Action|Sci-Fi|Thriller...  \n",
       "4     1909:Mystery|Sci-Fi|Thriller;52:Comedy;551:Chi...  \n",
       "...                                                 ...  \n",
       "6035  611:Action|Horror|Sci-Fi;2091:Children's|Sci-F...  \n",
       "6036  1653:Drama|Sci-Fi|Thriller;1584:Drama|Sci-Fi;2...  \n",
       "6037  1354:Drama;1419:Drama;2700:Animation|Comedy;11...  \n",
       "6038  1237:Drama;1252:Film-Noir|Mystery|Thriller;923...  \n",
       "6039  2725:Drama;1673:Drama;457:Action|Thriller;3671...  \n",
       "\n",
       "[6040 rows x 3 columns]"
      ]
     },
     "execution_count": 30,
     "metadata": {},
     "output_type": "execute_result"
    }
   ],
   "source": [
    "candidate_items"
   ]
  },
  {
   "cell_type": "code",
   "execution_count": 19,
   "id": "7555e9b1-908c-4606-9484-9c9db580ccce",
   "metadata": {},
   "outputs": [],
   "source": [
    "##构造微调数据\n",
    "\n",
    "def create_finetuning_data(user_profiles, candidate_items):\n",
    "    \"\"\"\n",
    "    构造用于后续微调的数据\n",
    "    \n",
    "    Parameters:\n",
    "    user_profiles: DataFrame - 用户画像数据\n",
    "    candidate_items: DataFrame - 候选物品列表\n",
    "    \n",
    "    Returns:\n",
    "    finetuning_data: DataFrame - 微调数据\n",
    "    \"\"\"\n",
    "    \n",
    "    # 合并用户画像和候选物品数据\n",
    "    merged_data = pd.merge(user_profiles, candidate_items, on='UserID', how='inner')\n",
    "    \n",
    "    finetuning_list = []\n",
    "    \n",
    "    for _, row in merged_data.iterrows():\n",
    "        user_id = row['UserID']\n",
    "        user_profile = row['UserProfile']\n",
    "        candidate_items_str = row['CandidateItems']\n",
    "        interacted_items = row['InteractedItems']\n",
    "        \n",
    "        # 构造instruction\n",
    "        instruction = (f\"Filter 5 items that the user may be interested in from candidate items \"\n",
    "                      f\"based on the user's personal profile.+UserID: {user_id}, \"\n",
    "                      f\"UserProfile: {user_profile}, CandidateItems: {candidate_items_str}\")\n",
    "        \n",
    "        # 构造output\n",
    "        output = f\"interested items: {interacted_items}\"\n",
    "        \n",
    "        # 构造text\n",
    "        text = (f\"Below is an instruction that describes a task. \"\n",
    "                f\"Write a response that appropriately completes the request.\\n\\n\"\n",
    "                f\"### Instruction:\\n{instruction}\\n\\n\"\n",
    "                f\"### Response:\\n{output}\")\n",
    "        \n",
    "        finetuning_list.append({\n",
    "            'instruction': instruction,\n",
    "            'input': '',  # input列为空\n",
    "            'output': output,\n",
    "            'text': text\n",
    "        })\n",
    "    \n",
    "    # 创建微调数据DataFrame\n",
    "    finetuning_data = pd.DataFrame(finetuning_list)\n",
    "    \n",
    "    return finetuning_data"
   ]
  },
  {
   "cell_type": "code",
   "execution_count": 20,
   "id": "9747236b-7a23-4b79-bd4c-650cd3b6547d",
   "metadata": {},
   "outputs": [
    {
     "name": "stdout",
     "output_type": "stream",
     "text": [
      "微调数据示例:\n",
      "Instruction:\n",
      "Filter 5 items that the user may be interested in from candidate items based on the user's personal profile.+UserID: 1, UserProfile: UserID:1 | Gender:F | Age:1 | Occupation:10 | Zip:48067 | RatedMovies:MovieID:3186,rating:4,Genres:Drama;MovieID:1270,rating:5,Genres:Comedy|Sci-Fi;MovieID:1721,rating:4,Genres:Drama|Romance;MovieID:1022,rating:5,Genres:Animation|Children's|Musical;MovieID:2340,rating:3,Genres:Romance;MovieID:1836,rating:5,Genres:Drama;MovieID:3408,rating:4,Genres:Drama;MovieID:2804,rating:5,Genres:Comedy|Drama;MovieID:1207,rating:4,Genres:Drama;MovieID:1193,rating:5,Genres:Drama;MovieID:720,rating:3,Genres:Animation;MovieID:260,rating:4,Genres:Action|Adventure|Fantasy|Sci-Fi;MovieID:919,rating:4,Genres:Adventure|Children's|Drama|Musical;MovieID:608,rating:4,Genres:Crime|Drama|Thriller;MovieID:2692,rating:4,Genres:Action|Crime|Romance;MovieID:1961,rating:5,Genres:Drama;MovieID:2028,rating:5,Genres:Action|Drama|War;MovieID:3105,rating:5,Genres:Drama;MovieID:938,rating:4,Genres:Musical;MovieID:1035,rating:5,Genres:Musical;MovieID:1962,rating:4,Genres:Drama;MovieID:2018,rating:4,Genres:Animation|Children's;MovieID:150,rating:5,Genres:Drama;MovieID:1028,rating:5,Genres:Children's|Comedy|Musical;MovieID:1097,rating:4,Genres:Children's|Drama|Fantasy|Sci-Fi;MovieID:914,rating:3,Genres:Musical|Romance;MovieID:1287,rating:5,Genres:Action|Adventure|Drama;MovieID:2797,rating:4,Genres:Comedy|Fantasy;MovieID:2762,rating:4,Genres:Thriller;MovieID:1246,rating:4,Genres:Drama;MovieID:661,rating:3,Genres:Animation|Children's|Musical;MovieID:2918,rating:4,Genres:Comedy;MovieID:531,rating:4,Genres:Children's|Drama;MovieID:3114,rating:4,Genres:Animation|Children's|Comedy;MovieID:2791,rating:4,Genres:Comedy;MovieID:2321,rating:3,Genres:Comedy;MovieID:1029,rating:5,Genres:Animation|Children's|Musical;MovieID:1197,rating:3,Genres:Action|Adventure|Comedy|Romance;MovieID:594,rating:4,Genres:Animation|Children's|Musical;MovieID:2398,rating:4,Genres:Drama;MovieID:1545,rating:4,Genres:Drama;MovieID:527,rating:5,Genres:Drama|War | FavoriteGenres:Action|Adventure|Animation|Children's|Comedy|Crime|Drama|Fantasy|Musical|Romance|Sci-Fi|Thriller|War, CandidateItems: 2687:Animation|Children's;745:Animation|Comedy|Thriller;588:Animation|Children's|Comedy|Musical;1:Animation|Children's|Comedy;2355:Animation|Children's|Comedy;2294:Animation|Children's;783:Animation|Children's|Musical;1566:Adventure|Animation|Children's|Comedy|Musical;1907:Animation|Children's;48:Animation|Children's|Musical|Romance;1123:Documentary;703:Drama;327:Action|Comedy|Musical|Sci-Fi;3185:Drama;1782:Comedy|Romance;333:Comedy;418:Drama;1336:Horror;844:Drama;1078:Comedy|War;363:Documentary;3057:Comedy;370:Comedy;302:Drama|Romance;3256:Action|Thriller;3142:Documentary|Musical;2600:Action|Sci-Fi|Thriller;550:Comedy|Romance;1148:Animation|Comedy;378:Comedy|Romance;2095:Children's|Comedy;806:Drama;1653:Drama|Sci-Fi|Thriller;3450:Comedy;3947:Thriller;3135:Drama;1421:Documentary;2291:Drama|Romance;3161:Drama;3691:Comedy;2963:Crime|Drama;1088:Musical|Romance;3326:Comedy|Sci-Fi;3483:Animation|Children's;2149:Comedy|Horror;34:Children's|Comedy|Drama;2104:Drama;1256:Comedy|War;2020:Drama|Romance;3409:Drama|Thriller\n",
      "\n",
      "Output:\n",
      "interested items: 2687:Animation|Children's;745:Animation|Comedy|Thriller;588:Animation|Children's|Comedy|Musical;1:Animation|Children's|Comedy;2355:Animation|Children's|Comedy;2294:Animation|Children's;783:Animation|Children's|Musical;1566:Adventure|Animation|Children's|Comedy|Musical;1907:Animation|Children's;48:Animation|Children's|Musical|Romance\n",
      "\n",
      "Text:\n",
      "Below is an instruction that describes a task. Write a response that appropriately completes the request.\n",
      "\n",
      "### Instruction:\n",
      "Filter 5 items that the user may be interested in from candidate items based on the user's personal profile.+UserID: 1, UserProfile: UserID:1 | Gender:F | Age:1 | Occupation:10 | Zip:48067 | RatedMovies:MovieID:3186,rating:4,Genres:Drama;MovieID:1270,rating:5,Genres:Comedy|Sci-Fi;MovieID:1721,rating:4,Genres:Drama|Romance;MovieID:1022,rating:5,Genres:Animation|Children's|Musical;MovieID:2340,rating:3,Genres:Romance;MovieID:1836,rating:5,Genres:Drama;MovieID:3408,rating:4,Genres:Drama;MovieID:2804,rating:5,Genres:Comedy|Drama;MovieID:1207,rating:4,Genres:Drama;MovieID:1193,rating:5,Genres:Drama;MovieID:720,rating:3,Genres:Animation;MovieID:260,rating:4,Genres:Action|Adventure|Fantasy|Sci-Fi;MovieID:919,rating:4,Genres:Adventure|Children's|Drama|Musical;MovieID:608,rating:4,Genres:Crime|Drama|Thriller;MovieID:2692,rating:4,Genres:Action|Crime|Romance;MovieID:1961,rating:5,Genres:Drama;MovieID:2028,rating:5,Genres:Action|Drama|War;MovieID:3105,rating:5,Genres:Drama;MovieID:938,rating:4,Genres:Musical;MovieID:1035,rating:5,Genres:Musical;MovieID:1962,rating:4,Genres:Drama;MovieID:2018,rating:4,Genres:Animation|Children's;MovieID:150,rating:5,Genres:Drama;MovieID:1028,rating:5,Genres:Children's|Comedy|Musical;MovieID:1097,rating:4,Genres:Children's|Drama|Fantasy|Sci-Fi;MovieID:914,rating:3,Genres:Musical|Romance;MovieID:1287,rating:5,Genres:Action|Adventure|Drama;MovieID:2797,rating:4,Genres:Comedy|Fantasy;MovieID:2762,rating:4,Genres:Thriller;MovieID:1246,rating:4,Genres:Drama;MovieID:661,rating:3,Genres:Animation|Children's|Musical;MovieID:2918,rating:4,Genres:Comedy;MovieID:531,rating:4,Genres:Children's|Drama;MovieID:3114,rating:4,Genres:Animation|Children's|Comedy;MovieID:2791,rating:4,Genres:Comedy;MovieID:2321,rating:3,Genres:Comedy;MovieID:1029,rating:5,Genres:Animation|Children's|Musical;MovieID:1197,rating:3,Genres:Action|Adventure|Comedy|Romance;MovieID:594,rating:4,Genres:Animation|Children's|Musical;MovieID:2398,rating:4,Genres:Drama;MovieID:1545,rating:4,Genres:Drama;MovieID:527,rating:5,Genres:Drama|War | FavoriteGenres:Action|Adventure|Animation|Children's|Comedy|Crime|Drama|Fantasy|Musical|Romance|Sci-Fi|Thriller|War, CandidateItems: 2687:Animation|Children's;745:Animation|Comedy|Thriller;588:Animation|Children's|Comedy|Musical;1:Animation|Children's|Comedy;2355:Animation|Children's|Comedy;2294:Animation|Children's;783:Animation|Children's|Musical;1566:Adventure|Animation|Children's|Comedy|Musical;1907:Animation|Children's;48:Animation|Children's|Musical|Romance;1123:Documentary;703:Drama;327:Action|Comedy|Musical|Sci-Fi;3185:Drama;1782:Comedy|Romance;333:Comedy;418:Drama;1336:Horror;844:Drama;1078:Comedy|War;363:Documentary;3057:Comedy;370:Comedy;302:Drama|Romance;3256:Action|Thriller;3142:Documentary|Musical;2600:Action|Sci-Fi|Thriller;550:Comedy|Romance;1148:Animation|Comedy;378:Comedy|Romance;2095:Children's|Comedy;806:Drama;1653:Drama|Sci-Fi|Thriller;3450:Comedy;3947:Thriller;3135:Drama;1421:Documentary;2291:Drama|Romance;3161:Drama;3691:Comedy;2963:Crime|Drama;1088:Musical|Romance;3326:Comedy|Sci-Fi;3483:Animation|Children's;2149:Comedy|Horror;34:Children's|Comedy|Drama;2104:Drama;1256:Comedy|War;2020:Drama|Romance;3409:Drama|Thriller\n",
      "\n",
      "### Response:\n",
      "interested items: 2687:Animation|Children's;745:Animation|Comedy|Thriller;588:Animation|Children's|Comedy|Musical;1:Animation|Children's|Comedy;2355:Animation|Children's|Comedy;2294:Animation|Children's;783:Animation|Children's|Musical;1566:Adventure|Animation|Children's|Comedy|Musical;1907:Animation|Children's;48:Animation|Children's|Musical|Romance\n"
     ]
    }
   ],
   "source": [
    "# 使用示例\n",
    "finetuning_data = create_finetuning_data(user_profiles, candidate_items)\n",
    "\n",
    "# 查看结果\n",
    "print(\"微调数据示例:\")\n",
    "# print(finetuning_data.head())\n",
    "\n",
    "# 保存微调数据\n",
    "# finetuning_data.to_csv('finetuning_data.csv', index=False)\n",
    "\n",
    "# # 显示一条完整的微调数据示例\n",
    "print(\"Instruction:\")\n",
    "print(finetuning_data.iloc[0]['instruction'])\n",
    "print(\"\\nOutput:\")\n",
    "print(finetuning_data.iloc[0]['output'])\n",
    "print(\"\\nText:\")\n",
    "print(finetuning_data.iloc[0]['text'])"
   ]
  },
  {
   "cell_type": "code",
   "execution_count": 34,
   "id": "3cd9f485-287c-4811-a027-47acff87744a",
   "metadata": {},
   "outputs": [],
   "source": [
    "finetuning_data.to_parquet('data/finetuning_data.parquet')"
   ]
  },
  {
   "cell_type": "code",
   "execution_count": 35,
   "id": "3bf96149-1a95-4d71-a3bc-13739af11d80",
   "metadata": {},
   "outputs": [],
   "source": [
    "import pandas as pd \n",
    "finetuning_data = pd.read_parquet('data/finetuning_data.parquet')"
   ]
  },
  {
   "cell_type": "code",
   "execution_count": 36,
   "id": "e76756c3-48fb-401e-83bb-edea9b5ba22b",
   "metadata": {
    "scrolled": true
   },
   "outputs": [
    {
     "data": {
      "text/plain": [
       "\"Filter 5 items that the user may be interested in from candidate items based on the user's personal profile.+UserID: 124, UserProfile: UserID:124 | Gender:M | Age:56 | Occupation:7 | Zip:91356 | RatedMovies:MovieID:902,rating:4,Genres:Drama|Romance;MovieID:1544,rating:3,Genres:Action|Adventure|Sci-Fi|Thriller;MovieID:1343,rating:4,Genres:Thriller;MovieID:3101,rating:4,Genres:Thriller;MovieID:3107,rating:4,Genres:Action|Drama;MovieID:2302,rating:4,Genres:Comedy;MovieID:527,rating:4,Genres:Drama|War;MovieID:1650,rating:5,Genres:Drama;MovieID:2858,rating:3,Genres:Comedy|Drama;MovieID:457,rating:3,Genres:Action|Thriller;MovieID:3418,rating:5,Genres:Action|Drama;MovieID:1358,rating:5,Genres:Drama|Thriller;MovieID:3078,rating:5,Genres:Drama;MovieID:1693,rating:4,Genres:Drama;MovieID:678,rating:5,Genres:Drama|Thriller;MovieID:531,rating:4,Genres:Children's|Drama;MovieID:2912,rating:4,Genres:Action|Crime|Drama;MovieID:1213,rating:4,Genres:Crime|Drama | FavoriteGenres:Action|Adventure|Children's|Comedy|Crime|Drama|Romance|Sci-Fi|Thriller|War, CandidateItems: 1094:Drama|Romance|War;34:Children's|Comedy|Drama;1179:Crime|Drama|Film-Noir;3125:Drama;3298:Drama;3740:Action|Comedy;2279:Horror|Thriller;1147:Documentary;864:Comedy|Drama;1031:Adventure|Children's|Musical;3451:Comedy|Drama;1185:Drama;1344:Film-Noir|Thriller;2399:Adventure|Children's|Fantasy;2208:Comedy|Mystery|Romance|Thriller;1361:Documentary;1211:Comedy|Drama|Romance;704:Action|Adventure;1588:Children's|Comedy;3849:Thriller;197:Drama;351:Comedy|Drama|Romance;1356:Action|Adventure|Sci-Fi;1979:Horror;1444:Comedy;2263:Thriller;1090:Drama|War;329:Action|Adventure|Sci-Fi;3079:Drama;2551:Drama|Thriller;2482:Comedy|Romance;3055:Thriller;1089:Crime|Thriller;3579:Drama;2661:Sci-Fi;3230:Thriller;2634:Horror;429:Comedy;1999:Horror;3880:Documentary;3545:Musical|War;3001:Drama;1326:Horror;3808:Drama|War;3951:Drama\""
      ]
     },
     "execution_count": 36,
     "metadata": {},
     "output_type": "execute_result"
    }
   ],
   "source": [
    "finetuning_data['instruction'][123]"
   ]
  },
  {
   "cell_type": "code",
   "execution_count": 37,
   "id": "2133d3c2-3a10-4b86-a695-6d890309a6b8",
   "metadata": {},
   "outputs": [
    {
     "data": {
      "text/plain": [
       "\"interested items: 1094:Drama|Romance|War;34:Children's|Comedy|Drama;1179:Crime|Drama|Film-Noir;3125:Drama;3298:Drama\""
      ]
     },
     "execution_count": 37,
     "metadata": {},
     "output_type": "execute_result"
    }
   ],
   "source": [
    "finetuning_data.iloc[123]['output']"
   ]
  },
  {
   "cell_type": "code",
   "execution_count": 38,
   "id": "92f65031-1ebb-483a-b953-6d7589356273",
   "metadata": {},
   "outputs": [
    {
     "data": {
      "text/plain": [
       "\"Filter 5 items that the user may be interested in from candidate items based on the user's personal profile.+UserID: 433, UserProfile: UserID:433 | Gender:M | Age:50 | Occupation:6 | Zip:55115 | RatedMovies:MovieID:527,rating:4,Genres:Drama|War;MovieID:1096,rating:5,Genres:Drama;MovieID:21,rating:4,Genres:Action|Comedy|Drama;MovieID:3072,rating:3,Genres:Comedy;MovieID:2736,rating:3,Genres:Comedy;MovieID:3421,rating:4,Genres:Comedy;MovieID:2858,rating:4,Genres:Comedy|Drama;MovieID:2289,rating:3,Genres:Comedy|Drama;MovieID:1148,rating:4,Genres:Animation|Comedy;MovieID:1294,rating:4,Genres:Comedy|War;MovieID:3543,rating:5,Genres:Comedy|Drama;MovieID:1394,rating:5,Genres:Comedy;MovieID:1136,rating:3,Genres:Comedy;MovieID:1230,rating:5,Genres:Comedy|Romance;MovieID:1304,rating:5,Genres:Action|Comedy|Western;MovieID:1276,rating:5,Genres:Comedy|Drama;MovieID:3210,rating:5,Genres:Comedy;MovieID:1288,rating:5,Genres:Comedy|Drama|Musical;MovieID:3751,rating:4,Genres:Animation|Children's|Comedy;MovieID:1965,rating:4,Genres:Comedy|Sci-Fi;MovieID:1223,rating:4,Genres:Animation|Comedy;MovieID:377,rating:3,Genres:Action|Romance|Thriller;MovieID:3614,rating:3,Genres:Comedy|Romance;MovieID:471,rating:3,Genres:Comedy|Romance;MovieID:1393,rating:3,Genres:Drama|Romance;MovieID:25,rating:2,Genres:Drama|Romance;MovieID:708,rating:3,Genres:Comedy|Romance;MovieID:361,rating:5,Genres:Drama|Romance;MovieID:356,rating:4,Genres:Comedy|Romance|War;MovieID:788,rating:2,Genres:Comedy|Fantasy|Romance|Sci-Fi;MovieID:11,rating:3,Genres:Comedy|Drama|Romance;MovieID:1777,rating:3,Genres:Comedy|Romance;MovieID:339,rating:5,Genres:Comedy|Romance;MovieID:539,rating:5,Genres:Comedy|Romance;MovieID:1569,rating:4,Genres:Comedy|Romance;MovieID:2671,rating:1,Genres:Comedy|Romance | FavoriteGenres:Action|Animation|Children's|Comedy|Drama|Fantasy|Musical|Romance|Sci-Fi|Thriller|War|Western, CandidateItems: 3528:Drama|Romance;2424:Comedy|Romance;2506:Comedy|Drama|Romance;2724:Comedy|Romance;2875:Drama|Mystery|Romance;804:Comedy|Romance;3004:Comedy|Romance;3:Comedy|Romance;1353:Comedy|Romance;3705:Action|Adventure|Romance|Thriller;3517:Crime|Drama;1853:Comedy;2519:Horror;3409:Drama|Thriller;866:Crime|Drama|Romance|Thriller;1689:Comedy|Mystery;3920:Drama|Fantasy;3610:Musical;548:Action;89:Action|Thriller;2065:Comedy|Drama|Romance;3849:Thriller;82:Drama;3155:Drama|Romance;662:Thriller;660:Drama;3656:Crime;2231:Crime|Drama;2209:Crime|Thriller;1115:Comedy|Drama;2744:Drama;1725:Drama;1732:Comedy|Crime|Mystery|Thriller;177:Horror;2647:Horror;888:Animation|Children's;2849:Comedy|Drama;724:Drama|Horror;892:Comedy|Drama|Romance;225:Drama|Thriller;3820:Children's;1571:Comedy|Romance;3491:Comedy;3025:Western;1049:Action|Adventure;413:Comedy;657:Comedy|Drama;692:Action|Sci-Fi|Thriller;2345:Drama;544:Action\""
      ]
     },
     "execution_count": 38,
     "metadata": {},
     "output_type": "execute_result"
    }
   ],
   "source": [
    "finetuning_data.iloc[432]['instruction']"
   ]
  },
  {
   "cell_type": "code",
   "execution_count": 39,
   "id": "e21febe8-d5fe-458f-b884-7205d2c663cf",
   "metadata": {},
   "outputs": [
    {
     "data": {
      "text/plain": [
       "'interested items: 3528:Drama|Romance;2424:Comedy|Romance;2506:Comedy|Drama|Romance;2724:Comedy|Romance;2875:Drama|Mystery|Romance;804:Comedy|Romance;3004:Comedy|Romance;3:Comedy|Romance;1353:Comedy|Romance;3705:Action|Adventure|Romance|Thriller'"
      ]
     },
     "execution_count": 39,
     "metadata": {},
     "output_type": "execute_result"
    }
   ],
   "source": [
    "finetuning_data.iloc[432]['output']"
   ]
  },
  {
   "cell_type": "code",
   "execution_count": null,
   "id": "737f0cc4-3ffd-404a-b082-ccedbe864987",
   "metadata": {},
   "outputs": [],
   "source": []
  },
  {
   "cell_type": "code",
   "execution_count": null,
   "id": "f3ee9836-17df-4f99-90af-09e233fd1fb5",
   "metadata": {},
   "outputs": [],
   "source": []
  }
 ],
 "metadata": {
  "kernelspec": {
   "display_name": "Python 3 (ipykernel)",
   "language": "python",
   "name": "python3"
  },
  "language_info": {
   "codemirror_mode": {
    "name": "ipython",
    "version": 3
   },
   "file_extension": ".py",
   "mimetype": "text/x-python",
   "name": "python",
   "nbconvert_exporter": "python",
   "pygments_lexer": "ipython3",
   "version": "3.12.4"
  }
 },
 "nbformat": 4,
 "nbformat_minor": 5
}
