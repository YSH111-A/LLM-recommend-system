{
 "cells": [
  {
   "cell_type": "markdown",
   "id": "f0a5a886-5df0-48b9-90bd-399a926524ac",
   "metadata": {},
   "source": [
    "## 加载微调框架PEFT和STF监督微调训练器STFTrainer"
   ]
  },
  {
   "cell_type": "code",
   "execution_count": null,
   "id": "bf8c5738-6b74-4919-8fc8-6e48935b9783",
   "metadata": {},
   "outputs": [],
   "source": [
    "# %%capture #不显示安装过程\n",
    "import sys, torch\n",
    "import pandas as pd \n",
    "print(sys.executable)\n",
    "print(torch.__version__, torch.version.cuda)\n",
    "!pip install huggingface-hub\n",
    "\n",
    "\n",
    "!pip install unsloth\n",
    "# Also get the latest nightly Unsloth!\n",
    "# !pip uninstall unsloth -y && pip install --upgrade --no-cache-dir --no-deps git+https://github.com/unslothai/unsloth.git\n",
    "!pip install --upgrade unsloth"
   ]
  },
  {
   "cell_type": "code",
   "execution_count": 2,
   "id": "bdf35b10-00e9-4418-b496-984390d64fb5",
   "metadata": {
    "jupyter": {
     "source_hidden": true
    }
   },
   "outputs": [],
   "source": [
    "# from unsloth import FastLanguageModel\n",
    "# import torch\n",
    "# max_seq_length = 2048 # Choose any! We auto support RoPE Scaling internally!\n",
    "# dtype = None # None for auto detection. Float16 for Tesla T4, V100, Bfloat16 for Ampere+\n",
    "# load_in_4bit = True # Use 4bit quantization to reduce memory usage. Can be False.\n",
    "\n",
    "# # 4bit pre quantized models we support for 4x faster downloading + no OOMs.\n",
    "# fourbit_models = [\n",
    "#     \"unsloth/mistral-7b-v0.3-bnb-4bit\",      # New Mistral v3 2x faster!\n",
    "#     \"unsloth/mistral-7b-instruct-v0.3-bnb-4bit\",\n",
    "#     \"unsloth/llama-3-8b-bnb-4bit\",           # Llama-3 15 trillion tokens model 2x faster!\n",
    "#     \"unsloth/llama-3-8b-Instruct-bnb-4bit\",\n",
    "#     \"unsloth/llama-3-70b-bnb-4bit\",\n",
    "#     \"unsloth/Phi-3-mini-4k-instruct\",        # Phi-3 2x faster!\n",
    "#     \"unsloth/Phi-3-medium-4k-instruct\",\n",
    "#     \"unsloth/mistral-7b-bnb-4bit\",\n",
    "#     \"unsloth/gemma-7b-bnb-4bit\",             # Gemma 2.2x faster!\n",
    "# ] # More models at https://huggingface.co/unsloth\n",
    "\n",
    "# model, tokenizer = FastLanguageModel.from_pretrained(\n",
    "#     model_name = \"unsloth/Llama-3.2-3B-Instruct-bnb-4bit\",\n",
    "#     max_seq_length = max_seq_length,\n",
    "#     dtype = dtype,\n",
    "#     load_in_4bit = load_in_4bit,\n",
    "#     # token = \"hf_...\", # use one if using gated models like meta-llama/Llama-2-7b-hf\n",
    "# )"
   ]
  },
  {
   "cell_type": "code",
   "execution_count": 3,
   "id": "27e234fb-bfe4-4182-a2d7-fd221c899b1d",
   "metadata": {},
   "outputs": [
    {
     "name": "stderr",
     "output_type": "stream",
     "text": [
      "[HAMI-core Msg(28280:140096873600832:libvgpu.c:852)]: Initialized\n"
     ]
    },
    {
     "name": "stdout",
     "output_type": "stream",
     "text": [
      "🦥 Unsloth: Will patch your computer to enable 2x faster free finetuning.\n"
     ]
    },
    {
     "name": "stderr",
     "output_type": "stream",
     "text": [
      "[HAMI-core Msg(28390:140251720230720:libvgpu.c:836)]: Initializing.....\n",
      "/usr/local/lib/python3.12/dist-packages/transformers/loss/loss_for_object_detection.py:28: UserWarning: A NumPy version >=1.23.5 and <2.3.0 is required for this version of SciPy (detected version 2.3.2)\n",
      "  from scipy.optimize import linear_sum_assignment\n",
      "[HAMI-core Msg(28390:140251720230720:libvgpu.c:852)]: Initialized\n"
     ]
    },
    {
     "name": "stdout",
     "output_type": "stream",
     "text": [
      "Unsloth: OpenAI failed to import - ignoring for now.\n",
      "🦥 Unsloth Zoo will now patch everything to make training faster!\n",
      "==((====))==  Unsloth 2025.8.1: Fast Llama patching. Transformers: 4.55.0.\n",
      "   \\\\   /|    NVIDIA GeForce RTX 4090. Num GPUs = 1. Max memory: 23.25 GB. Platform: Linux.\n",
      "O^O/ \\_/ \\    Torch: 2.7.1+cu126. CUDA: 8.9. CUDA Toolkit: 12.6. Triton: 3.3.1\n",
      "\\        /    Bfloat16 = TRUE. FA [Xformers = 0.0.31.post1. FA2 = False]\n",
      " \"-____-\"     Free license: http://github.com/unslothai/unsloth\n",
      "Unsloth: Fast downloading is enabled - ignore downloading bars which are red colored!\n"
     ]
    },
    {
     "name": "stderr",
     "output_type": "stream",
     "text": [
      "[HAMI-core Msg(28280:140096873600832:memory.c:512)]: orig free=24872288256 total=25393692672 limit=24964497408 usage=402653184\n",
      "[HAMI-core Msg(28280:140096873600832:memory.c:512)]: orig free=24872288256 total=25393692672 limit=24964497408 usage=402653184\n"
     ]
    },
    {
     "name": "stdout",
     "output_type": "stream",
     "text": [
      "模型和分词器已从本地路径成功加载。\n"
     ]
    }
   ],
   "source": [
    "from unsloth import FastLanguageModel\n",
    "import torch\n",
    "\n",
    "max_seq_length = 4096\n",
    "dtype = None # None for auto detection. Float16 for Tesla T4, V100, Bfloat16 for Ampere+\n",
    "load_in_4bit = True # Use 4bit quantization to reduce memory usage. Can be False.\n",
    "\n",
    "# 本地模型目录路径\n",
    "local_model_path = \"/code/ysh/finetuning/data/models/llama-3-8b-bnb-4bit\"\n",
    "\n",
    "model, tokenizer = FastLanguageModel.from_pretrained(\n",
    "    model_name=local_model_path,  # <-- 使用本地路径\n",
    "    max_seq_length=max_seq_length,\n",
    "    dtype=dtype,\n",
    "    load_in_4bit=load_in_4bit,\n",
    ")\n",
    "print(\"模型和分词器已从本地路径成功加载。\")"
   ]
  },
  {
   "cell_type": "code",
   "execution_count": 4,
   "id": "58d0a271-a603-4737-b9dc-e67bdc2588b4",
   "metadata": {},
   "outputs": [
    {
     "name": "stderr",
     "output_type": "stream",
     "text": [
      "Unsloth 2025.8.1 patched 32 layers with 32 QKV layers, 32 O layers and 32 MLP layers.\n"
     ]
    }
   ],
   "source": [
    "model = FastLanguageModel.get_peft_model(\n",
    "    model,\n",
    "    r = 16, # Choose any number > 0 ! Suggested 8, 16, 32, 64, 128\n",
    "    target_modules = [\"q_proj\", \"k_proj\", \"v_proj\", \"o_proj\",\n",
    "                      \"gate_proj\", \"up_proj\", \"down_proj\",],\n",
    "    lora_alpha = 16,\n",
    "    lora_dropout = 0, # Supports any, but = 0 is optimized\n",
    "    bias = \"none\",    # Supports any, but = \"none\" is optimized\n",
    "    # [NEW] \"unsloth\" uses 30% less VRAM, fits 2x larger batch sizes!\n",
    "    use_gradient_checkpointing = \"unsloth\", # True or \"unsloth\" for very long context\n",
    "    random_state = 3407,\n",
    "    use_rslora = False,  # We support rank stabilized LoRA\n",
    "    loftq_config = None, # And LoftQ\n",
    ")"
   ]
  },
  {
   "cell_type": "markdown",
   "id": "d1926f0c-c1fa-48ae-a9df-a02edfb4bff4",
   "metadata": {},
   "source": [
    "##   从这里开始准备数据集"
   ]
  },
  {
   "cell_type": "code",
   "execution_count": 5,
   "id": "8181cc17-7aa6-4b3e-b5d9-72a4b734660f",
   "metadata": {},
   "outputs": [
    {
     "data": {
      "application/vnd.jupyter.widget-view+json": {
       "model_id": "55f4479279c74318be98b411ce4135c1",
       "version_major": 2,
       "version_minor": 0
      },
      "text/plain": [
       "Generating train split: 0 examples [00:00, ? examples/s]"
      ]
     },
     "metadata": {},
     "output_type": "display_data"
    },
    {
     "name": "stdout",
     "output_type": "stream",
     "text": [
      "['instruction', 'input', 'output', 'text']\n"
     ]
    }
   ],
   "source": [
    "from datasets import load_dataset\n",
    "dataset = load_dataset(\"parquet\",data_files='./data/finetuning_data_train.parquet', split = \"train\")\n",
    "print(dataset.column_names)"
   ]
  },
  {
   "cell_type": "code",
   "execution_count": 6,
   "id": "26944a05-0bfe-4afa-a9e3-c52d912425c9",
   "metadata": {},
   "outputs": [],
   "source": [
    "# # df = pd.read_parquet('./data/alpaca-gpt4/train.parquet')\n",
    "# df = pd.read_parquet('data/finetuning_data_train.parquet')"
   ]
  },
  {
   "cell_type": "code",
   "execution_count": 7,
   "id": "01e84a5e-ca97-4a3f-bd44-882d46419716",
   "metadata": {},
   "outputs": [],
   "source": [
    "##必须只有两列——一个 instruction 列和一个 output 列。"
   ]
  },
  {
   "cell_type": "code",
   "execution_count": 8,
   "id": "36345e9f-4b95-45db-8e02-c06646a73c3e",
   "metadata": {},
   "outputs": [
    {
     "data": {
      "application/vnd.jupyter.widget-view+json": {
       "model_id": "1c30c2e001d44c4db15f25bfc2ad195e",
       "version_major": 2,
       "version_minor": 0
      },
      "text/plain": [
       "Merging columns:   0%|          | 0/4832 [00:00<?, ? examples/s]"
      ]
     },
     "metadata": {},
     "output_type": "display_data"
    },
    {
     "data": {
      "application/vnd.jupyter.widget-view+json": {
       "model_id": "72e8ac399de34e8fb49b7197ea257989",
       "version_major": 2,
       "version_minor": 0
      },
      "text/plain": [
       "Converting to ShareGPT:   0%|          | 0/4832 [00:00<?, ? examples/s]"
      ]
     },
     "metadata": {},
     "output_type": "display_data"
    }
   ],
   "source": [
    "## 构造assistant单轮对话模式\n",
    "from unsloth import to_sharegpt\n",
    "dataset = to_sharegpt(\n",
    "    dataset,\n",
    "    merged_prompt = \"{instruction}[[\\nYour input is:\\n{input}]]\",\n",
    "    output_column_name = \"output\",\n",
    "    conversation_extension = 1, # Select more to handle longer conversations\n",
    ")"
   ]
  },
  {
   "cell_type": "code",
   "execution_count": 9,
   "id": "a247d9ae-fa32-4c50-8066-dabc0b0468ce",
   "metadata": {},
   "outputs": [
    {
     "data": {
      "text/plain": [
       "{'conversations': [{'from': 'human',\n",
       "   'value': \"Filter exactly 10 unique item IDs that the user may be interested in from the given CandidateItems, based solely on the user's personal profile and rated movie preferences. Only output the item IDs, one per line, with no explanations, no extra text, and no duplicates.based on the user's personal profile. UserID: 1, UserProfile: UserID:1 | Gender:F | Age:1 | Occupation:10 | Zip:48067 | RatedMovies:MovieID:527,rating:5,Genres:Drama|War;MovieID:1545,rating:4,Genres:Drama;MovieID:2398,rating:4,Genres:Drama;MovieID:594,rating:4,Genres:Animation|Children's|Musical;MovieID:1197,rating:3,Genres:Action|Adventure|Comedy|Romance;MovieID:1029,rating:5,Genres:Animation|Children's|Musical;MovieID:2321,rating:3,Genres:Comedy;MovieID:2791,rating:4,Genres:Comedy;MovieID:3114,rating:4,Genres:Animation|Children's|Comedy;MovieID:531,rating:4,Genres:Children's|Drama;MovieID:2918,rating:4,Genres:Comedy;MovieID:661,rating:3,Genres:Animation|Children's|Musical;MovieID:1246,rating:4,Genres:Drama;MovieID:2762,rating:4,Genres:Thriller;MovieID:2797,rating:4,Genres:Comedy|Fantasy;MovieID:1287,rating:5,Genres:Action|Adventure|Drama;MovieID:914,rating:3,Genres:Musical|Romance;MovieID:1097,rating:4,Genres:Children's|Drama|Fantasy|Sci-Fi;MovieID:150,rating:5,Genres:Drama;MovieID:1028,rating:5,Genres:Children's|Comedy|Musical;MovieID:2018,rating:4,Genres:Animation|Children's;MovieID:1035,rating:5,Genres:Musical;MovieID:1962,rating:4,Genres:Drama;MovieID:938,rating:4,Genres:Musical;MovieID:3105,rating:5,Genres:Drama;MovieID:2028,rating:5,Genres:Action|Drama|War;MovieID:1961,rating:5,Genres:Drama;MovieID:2692,rating:4,Genres:Action|Crime|Romance;MovieID:608,rating:4,Genres:Crime|Drama|Thriller;MovieID:919,rating:4,Genres:Adventure|Children's|Drama|Musical;MovieID:720,rating:3,Genres:Animation;MovieID:1193,rating:5,Genres:Drama;MovieID:260,rating:4,Genres:Action|Adventure|Fantasy|Sci-Fi;MovieID:1207,rating:4,Genres:Drama;MovieID:2804,rating:5,Genres:Comedy|Drama;MovieID:3408,rating:4,Genres:Drama;MovieID:1836,rating:5,Genres:Drama;MovieID:2340,rating:3,Genres:Romance;MovieID:1721,rating:4,Genres:Drama|Romance;MovieID:1270,rating:5,Genres:Comedy|Sci-Fi;MovieID:1022,rating:5,Genres:Animation|Children's|Musical;MovieID:3186,rating:4,Genres:Drama,\\n CandidateItems: 2020:Drama|Romance;550:Comedy|Romance;378:Comedy|Romance;1078:Comedy|War;1782:Comedy|Romance;3483:Animation|Children's;1088:Musical|Romance;418:Drama;806:Drama;844:Drama;2355:Animation|Children's|Comedy;48:Animation|Children's|Musical|Romance;3185:Drama;3142:Documentary|Musical;3450:Comedy;3947:Thriller;2149:Comedy|Horror;2600:Action|Sci-Fi|Thriller;34:Children's|Comedy|Drama;1148:Animation|Comedy;2687:Animation|Children's;3326:Comedy|Sci-Fi;363:Documentary;3256:Action|Thriller;703:Drama;2294:Animation|Children's;588:Animation|Children's|Comedy|Musical;2104:Drama;1:Animation|Children's|Comedy;3409:Drama|Thriller;1566:Adventure|Animation|Children's|Comedy|Musical;302:Drama|Romance;3161:Drama;370:Comedy;1653:Drama|Sci-Fi|Thriller;3057:Comedy;1123:Documentary;2291:Drama|Romance;3691:Comedy;1907:Animation|Children's;333:Comedy;745:Animation|Comedy|Thriller;2095:Children's|Comedy;3135:Drama;1256:Comedy|War;1421:Documentary;1336:Horror;327:Action|Comedy|Musical|Sci-Fi;2963:Crime|Drama;783:Animation|Children's|Musical.\\n\"},\n",
       "  {'from': 'gpt',\n",
       "   'value': 'Recommended movie ID: [2687, 745, 588, 1, 2355, 2294, 783, 1566, 1907, 48]'}]}"
      ]
     },
     "execution_count": 9,
     "metadata": {},
     "output_type": "execute_result"
    }
   ],
   "source": [
    "dataset[0]"
   ]
  },
  {
   "cell_type": "code",
   "execution_count": 10,
   "id": "af7b74aa-4f41-4e02-8e24-43ec3c4d9898",
   "metadata": {},
   "outputs": [
    {
     "data": {
      "application/vnd.jupyter.widget-view+json": {
       "model_id": "7c37a703a0384c3bb6568185eedc0b70",
       "version_major": 2,
       "version_minor": 0
      },
      "text/plain": [
       "Unsloth: Standardizing formats (num_proc=96):   0%|          | 0/4832 [00:00<?, ? examples/s]"
      ]
     },
     "metadata": {},
     "output_type": "display_data"
    },
    {
     "data": {
      "text/plain": [
       "'\\n{\\n  \"conversations\": [\\n    {\\n      \"from\": \"human\",\\n      \"value\": \"用户的问题或指令\"\\n    },\\n    {\\n      \"from\": \"gpt\", \\n      \"value\": \"模型的回答\"\\n    }\\n  ]\\n}\\n\\n==>\\n\\n{\\n  \"conversations\": [\\n    {\\n      \"role\": \"user\",       # 标准化角色名\\n      \"content\": \"内容...\"   # 标准化字段名\\n    },\\n    {\\n      \"role\": \"assistant\",  # 标准化角色名\\n      \"content\": \"内容...\"   # 标准化字段名\\n    }\\n  ]\\n}\\n'"
      ]
     },
     "execution_count": 10,
     "metadata": {},
     "output_type": "execute_result"
    }
   ],
   "source": [
    "##将数据集转换为 ShareGPT 格式 的标准化函数\n",
    "from unsloth import standardize_sharegpt\n",
    "dataset = standardize_sharegpt(dataset)\n",
    "\"\"\"\n",
    "{\n",
    "  \"conversations\": [\n",
    "    {\n",
    "      \"from\": \"human\",\n",
    "      \"value\": \"用户的问题或指令\"\n",
    "    },\n",
    "    {\n",
    "      \"from\": \"gpt\", \n",
    "      \"value\": \"模型的回答\"\n",
    "    }\n",
    "  ]\n",
    "}\n",
    "\n",
    "==>\n",
    "\n",
    "{\n",
    "  \"conversations\": [\n",
    "    {\n",
    "      \"role\": \"user\",       # 标准化角色名\n",
    "      \"content\": \"内容...\"   # 标准化字段名\n",
    "    },\n",
    "    {\n",
    "      \"role\": \"assistant\",  # 标准化角色名\n",
    "      \"content\": \"内容...\"   # 标准化字段名\n",
    "    }\n",
    "  ]\n",
    "}\n",
    "\"\"\""
   ]
  },
  {
   "cell_type": "code",
   "execution_count": 11,
   "id": "7c7afc13-6fe0-4135-959b-c695aa355182",
   "metadata": {},
   "outputs": [
    {
     "data": {
      "text/plain": [
       "{'conversations': [{'content': \"Filter exactly 10 unique item IDs that the user may be interested in from the given CandidateItems, based solely on the user's personal profile and rated movie preferences. Only output the item IDs, one per line, with no explanations, no extra text, and no duplicates.based on the user's personal profile. UserID: 7, UserProfile: UserID:7 | Gender:M | Age:35 | Occupation:1 | Zip:06810 | RatedMovies:MovieID:3256,rating:5,Genres:Action|Thriller;MovieID:474,rating:5,Genres:Action|Thriller;MovieID:6,rating:4,Genres:Action|Crime|Thriller;MovieID:733,rating:5,Genres:Action|Adventure|Thriller;MovieID:1580,rating:4,Genres:Action|Adventure|Comedy|Sci-Fi;MovieID:2916,rating:5,Genres:Action|Adventure|Sci-Fi|Thriller;MovieID:377,rating:3,Genres:Action|Romance|Thriller;MovieID:3418,rating:3,Genres:Action|Drama;MovieID:589,rating:5,Genres:Action|Sci-Fi|Thriller;MovieID:457,rating:5,Genres:Action|Thriller;MovieID:2571,rating:5,Genres:Action|Sci-Fi|Thriller;MovieID:110,rating:5,Genres:Action|Drama|War;MovieID:1610,rating:5,Genres:Action|Thriller;MovieID:2028,rating:5,Genres:Action|Drama|War;MovieID:1997,rating:5,Genres:Horror;MovieID:3753,rating:4,Genres:Action|Drama|War;MovieID:3793,rating:3,Genres:Action|Sci-Fi;MovieID:3578,rating:3,Genres:Action|Drama;MovieID:648,rating:4,Genres:Action|Adventure|Mystery;MovieID:1221,rating:4,Genres:Action|Crime|Drama;MovieID:1196,rating:5,Genres:Action|Adventure|Drama|Sci-Fi|War;MovieID:442,rating:4,Genres:Action|Sci-Fi;MovieID:480,rating:4,Genres:Action|Adventure|Sci-Fi;MovieID:1270,rating:4,Genres:Comedy|Sci-Fi,\\n CandidateItems: 3036:Adventure;3297:Documentary;1552:Action|Adventure|Thriller;3817:Comedy|Drama;2137:Animation|Children's;541:Film-Noir|Sci-Fi;2044:Comedy;3867:Drama;793:Drama;2262:Comedy|Drama|Romance;3776:Animation|Children's|Musical;1747:Comedy|Drama;2353:Action|Thriller;3107:Action|Drama;1101:Action|Romance;861:Action|Thriller;1434:Action;1269:Comedy|Mystery|Thriller;3359:Drama;170:Action|Crime|Thriller;2839:Drama;3046:Comedy|Romance;2606:Comedy|Horror;1722:Action|Romance|Thriller;380:Action|Adventure|Comedy|Romance;2774:Comedy|Romance;2540:Action|Crime|Drama|Thriller;1070:Adventure;3463:Comedy;349:Action|Adventure|Thriller;2833:Romance|War;638:Romance;976:Romance|War;1767:Drama|Romance;3285:Adventure|Drama;3562:Comedy|Drama;1573:Action|Sci-Fi|Thriller;3584:Action|Drama|Romance|Thriller;2643:Action|Adventure|Sci-Fi;666:Drama;1632:Comedy|Romance;944:Drama;3306:Comedy;2729:Drama;509:Drama|Romance;2495:Animation|Sci-Fi;1270:Comedy|Sci-Fi.\\n\",\n",
       "   'role': 'user'},\n",
       "  {'content': 'Recommended movie ID: [2353, 380, 349, 1722, 861, 1573, 3107]',\n",
       "   'role': 'assistant'}]}"
      ]
     },
     "execution_count": 11,
     "metadata": {},
     "output_type": "execute_result"
    }
   ],
   "source": [
    "dataset[5]"
   ]
  },
  {
   "cell_type": "code",
   "execution_count": 12,
   "id": "113a1484-db02-43a3-b78b-00e1c92604a5",
   "metadata": {},
   "outputs": [],
   "source": [
    "##prompt模版"
   ]
  },
  {
   "cell_type": "code",
   "execution_count": 13,
   "id": "4cd53e3a-f0ed-455e-99b8-32641a24fd34",
   "metadata": {},
   "outputs": [],
   "source": [
    "##Alpaca 格式\n",
    "alpaca_prompt = \"\"\"Below is an instruction that describes a task, paired with an input that provides further context. Write a response that appropriately completes the request.\n",
    "\n",
    "### Instruction:\n",
    "{}\n",
    "\n",
    "### Input:\n",
    "{}\n",
    "\n",
    "### Response:\n",
    "{}\"\"\""
   ]
  },
  {
   "cell_type": "code",
   "execution_count": 14,
   "id": "21479f10-9e0d-4b84-a9d2-ab0ab6714714",
   "metadata": {},
   "outputs": [],
   "source": [
    "## Llama-3 的提示格式，必须使用 instruct 而不是 base \n",
    "chat_template = \"\"\"<|begin_of_text|><|start_header_id|>system<|end_header_id|>\n",
    "\n",
    "{SYSTEM}<|eot_id|><|start_header_id|>user<|end_header_id|>\n",
    "\n",
    "{INPUT}<|eot_id|><|start_header_id|>assistant<|end_header_id|>\n",
    "\n",
    "{OUTPUT}<|eot_id|>\"\"\""
   ]
  },
  {
   "cell_type": "code",
   "execution_count": 15,
   "id": "4e2a021d-f561-4b87-8190-531a50471dee",
   "metadata": {},
   "outputs": [],
   "source": [
    "##ChatML 格式\n",
    "chat_template = \"\"\"<|im_start|>system\n",
    "{SYSTEM}<|im_end|>\n",
    "<|im_start|>user\n",
    "{INPUT}<|im_end|>\n",
    "<|im_start|>assistant\n",
    "{OUTPUT}<|im_end|>\"\"\""
   ]
  },
  {
   "cell_type": "code",
   "execution_count": 16,
   "id": "90e28173-bc4d-4043-b838-5f4df0ad52a4",
   "metadata": {},
   "outputs": [
    {
     "name": "stderr",
     "output_type": "stream",
     "text": [
      "Unsloth: We automatically added an EOS token to stop endless generations.\n"
     ]
    },
    {
     "data": {
      "application/vnd.jupyter.widget-view+json": {
       "model_id": "2e2c2b346def4f7a9cf08ef806fbb6c7",
       "version_major": 2,
       "version_minor": 0
      },
      "text/plain": [
       "Map:   0%|          | 0/4832 [00:00<?, ? examples/s]"
      ]
     },
     "metadata": {},
     "output_type": "display_data"
    }
   ],
   "source": [
    "##最终使用openai模版，一问一答格式\n",
    "chat_template = \"\"\"Strictly follow the following requirements to complete the recommendation of candidate items.\n",
    "### Instruction:\n",
    "{INPUT}\n",
    "\n",
    "### Response:\n",
    "{OUTPUT}\"\"\"\n",
    "\n",
    "from unsloth import apply_chat_template\n",
    "dataset = apply_chat_template(\n",
    "    dataset,\n",
    "    tokenizer = tokenizer,\n",
    "    chat_template = chat_template,\n",
    "    # default_system_message = \"You are a helpful assistant\", << [OPTIONAL]\n",
    ")"
   ]
  },
  {
   "cell_type": "code",
   "execution_count": 17,
   "id": "10ea8797-ea9d-4686-a4cf-197458664903",
   "metadata": {},
   "outputs": [
    {
     "data": {
      "text/plain": [
       "{'conversations': [{'content': \"Filter exactly 10 unique item IDs that the user may be interested in from the given CandidateItems, based solely on the user's personal profile and rated movie preferences. Only output the item IDs, one per line, with no explanations, no extra text, and no duplicates.based on the user's personal profile. UserID: 7, UserProfile: UserID:7 | Gender:M | Age:35 | Occupation:1 | Zip:06810 | RatedMovies:MovieID:3256,rating:5,Genres:Action|Thriller;MovieID:474,rating:5,Genres:Action|Thriller;MovieID:6,rating:4,Genres:Action|Crime|Thriller;MovieID:733,rating:5,Genres:Action|Adventure|Thriller;MovieID:1580,rating:4,Genres:Action|Adventure|Comedy|Sci-Fi;MovieID:2916,rating:5,Genres:Action|Adventure|Sci-Fi|Thriller;MovieID:377,rating:3,Genres:Action|Romance|Thriller;MovieID:3418,rating:3,Genres:Action|Drama;MovieID:589,rating:5,Genres:Action|Sci-Fi|Thriller;MovieID:457,rating:5,Genres:Action|Thriller;MovieID:2571,rating:5,Genres:Action|Sci-Fi|Thriller;MovieID:110,rating:5,Genres:Action|Drama|War;MovieID:1610,rating:5,Genres:Action|Thriller;MovieID:2028,rating:5,Genres:Action|Drama|War;MovieID:1997,rating:5,Genres:Horror;MovieID:3753,rating:4,Genres:Action|Drama|War;MovieID:3793,rating:3,Genres:Action|Sci-Fi;MovieID:3578,rating:3,Genres:Action|Drama;MovieID:648,rating:4,Genres:Action|Adventure|Mystery;MovieID:1221,rating:4,Genres:Action|Crime|Drama;MovieID:1196,rating:5,Genres:Action|Adventure|Drama|Sci-Fi|War;MovieID:442,rating:4,Genres:Action|Sci-Fi;MovieID:480,rating:4,Genres:Action|Adventure|Sci-Fi;MovieID:1270,rating:4,Genres:Comedy|Sci-Fi,\\n CandidateItems: 3036:Adventure;3297:Documentary;1552:Action|Adventure|Thriller;3817:Comedy|Drama;2137:Animation|Children's;541:Film-Noir|Sci-Fi;2044:Comedy;3867:Drama;793:Drama;2262:Comedy|Drama|Romance;3776:Animation|Children's|Musical;1747:Comedy|Drama;2353:Action|Thriller;3107:Action|Drama;1101:Action|Romance;861:Action|Thriller;1434:Action;1269:Comedy|Mystery|Thriller;3359:Drama;170:Action|Crime|Thriller;2839:Drama;3046:Comedy|Romance;2606:Comedy|Horror;1722:Action|Romance|Thriller;380:Action|Adventure|Comedy|Romance;2774:Comedy|Romance;2540:Action|Crime|Drama|Thriller;1070:Adventure;3463:Comedy;349:Action|Adventure|Thriller;2833:Romance|War;638:Romance;976:Romance|War;1767:Drama|Romance;3285:Adventure|Drama;3562:Comedy|Drama;1573:Action|Sci-Fi|Thriller;3584:Action|Drama|Romance|Thriller;2643:Action|Adventure|Sci-Fi;666:Drama;1632:Comedy|Romance;944:Drama;3306:Comedy;2729:Drama;509:Drama|Romance;2495:Animation|Sci-Fi;1270:Comedy|Sci-Fi.\\n\",\n",
       "   'role': 'user'},\n",
       "  {'content': 'Recommended movie ID: [2353, 380, 349, 1722, 861, 1573, 3107]',\n",
       "   'role': 'assistant'}],\n",
       " 'text': \"<|begin_of_text|>Strictly follow the following requirements to complete the recommendation of candidate items.\\n### Instruction:\\nFilter exactly 10 unique item IDs that the user may be interested in from the given CandidateItems, based solely on the user's personal profile and rated movie preferences. Only output the item IDs, one per line, with no explanations, no extra text, and no duplicates.based on the user's personal profile. UserID: 7, UserProfile: UserID:7 | Gender:M | Age:35 | Occupation:1 | Zip:06810 | RatedMovies:MovieID:3256,rating:5,Genres:Action|Thriller;MovieID:474,rating:5,Genres:Action|Thriller;MovieID:6,rating:4,Genres:Action|Crime|Thriller;MovieID:733,rating:5,Genres:Action|Adventure|Thriller;MovieID:1580,rating:4,Genres:Action|Adventure|Comedy|Sci-Fi;MovieID:2916,rating:5,Genres:Action|Adventure|Sci-Fi|Thriller;MovieID:377,rating:3,Genres:Action|Romance|Thriller;MovieID:3418,rating:3,Genres:Action|Drama;MovieID:589,rating:5,Genres:Action|Sci-Fi|Thriller;MovieID:457,rating:5,Genres:Action|Thriller;MovieID:2571,rating:5,Genres:Action|Sci-Fi|Thriller;MovieID:110,rating:5,Genres:Action|Drama|War;MovieID:1610,rating:5,Genres:Action|Thriller;MovieID:2028,rating:5,Genres:Action|Drama|War;MovieID:1997,rating:5,Genres:Horror;MovieID:3753,rating:4,Genres:Action|Drama|War;MovieID:3793,rating:3,Genres:Action|Sci-Fi;MovieID:3578,rating:3,Genres:Action|Drama;MovieID:648,rating:4,Genres:Action|Adventure|Mystery;MovieID:1221,rating:4,Genres:Action|Crime|Drama;MovieID:1196,rating:5,Genres:Action|Adventure|Drama|Sci-Fi|War;MovieID:442,rating:4,Genres:Action|Sci-Fi;MovieID:480,rating:4,Genres:Action|Adventure|Sci-Fi;MovieID:1270,rating:4,Genres:Comedy|Sci-Fi,\\n CandidateItems: 3036:Adventure;3297:Documentary;1552:Action|Adventure|Thriller;3817:Comedy|Drama;2137:Animation|Children's;541:Film-Noir|Sci-Fi;2044:Comedy;3867:Drama;793:Drama;2262:Comedy|Drama|Romance;3776:Animation|Children's|Musical;1747:Comedy|Drama;2353:Action|Thriller;3107:Action|Drama;1101:Action|Romance;861:Action|Thriller;1434:Action;1269:Comedy|Mystery|Thriller;3359:Drama;170:Action|Crime|Thriller;2839:Drama;3046:Comedy|Romance;2606:Comedy|Horror;1722:Action|Romance|Thriller;380:Action|Adventure|Comedy|Romance;2774:Comedy|Romance;2540:Action|Crime|Drama|Thriller;1070:Adventure;3463:Comedy;349:Action|Adventure|Thriller;2833:Romance|War;638:Romance;976:Romance|War;1767:Drama|Romance;3285:Adventure|Drama;3562:Comedy|Drama;1573:Action|Sci-Fi|Thriller;3584:Action|Drama|Romance|Thriller;2643:Action|Adventure|Sci-Fi;666:Drama;1632:Comedy|Romance;944:Drama;3306:Comedy;2729:Drama;509:Drama|Romance;2495:Animation|Sci-Fi;1270:Comedy|Sci-Fi.\\n\\n\\n### Response:\\nRecommended movie ID: [2353, 380, 349, 1722, 861, 1573, 3107]<|end_of_text|>\"}"
      ]
     },
     "execution_count": 17,
     "metadata": {},
     "output_type": "execute_result"
    }
   ],
   "source": [
    "dataset[5]"
   ]
  },
  {
   "cell_type": "code",
   "execution_count": 18,
   "id": "73293202-19d5-470b-baff-adfa1d0fff6b",
   "metadata": {},
   "outputs": [
    {
     "name": "stdout",
     "output_type": "stream",
     "text": [
      "Sample 1:\n",
      "<|begin_of_text|>Strictly follow the following requirements to complete the recommendation of candidate items.\n",
      "### Instruction:\n",
      "Filter exactly 10 unique item IDs that the user may be interested in from the given CandidateItems, based solely on the user's personal profile and rated movie preferences. Only output the item IDs, one per line, with no explanations, no extra text, and no duplicates.based on the user's personal profile. UserID: 1, UserProfile: UserID:1 | Gender:F | Age:1 | Occupation:10 | Zip:48067 | RatedMovies:MovieID:527,rating:5,Genres:Drama|War;MovieID:1545,rating:4,Genres:Drama;MovieID:2398,rating:4,Genres:Drama;MovieID:594,rating:4,Genres:Animation|Children's|Musical;MovieID:1197,rating:3,Genres:Action|Adventure|Comedy|Romance;MovieID:1029,rating:5,Genres:Animation|Children's|Musical;MovieID:2321,rating:3,Genres:Comedy;MovieID:2791,rating:4,Genres:Comedy;MovieID:3114,rating:4,Genres:Animation|Children's|Comedy;MovieID:531,rating:4,Genres:Children's|Drama;MovieID:2918,rating:4,Genres:Comedy;MovieID:661,rating:3,Genres:Animation|Children's|Musical;MovieID:1246,rating:4,Genres:Drama;MovieID:2762,rating:4,Genres:Thriller;MovieID:2797,rating:4,Genres:Comedy|Fantasy;MovieID:1287,rating:5,Genres:Action|Adventure|Drama;MovieID:914,rating:3,Genres:Musical|Romance;MovieID:1097,rating:4,Genres:Children's|Drama|Fantasy|Sci-Fi;MovieID:150,rating:5,Genres:Drama;MovieID:1028,rating:5,Genres:Children's|Comedy|Musical;MovieID:2018,rating:4,Genres:Animation|Children's;MovieID:1035,rating:5,Genres:Musical;MovieID:1962,rating:4,Genres:Drama;MovieID:938,rating:4,Genres:Musical;MovieID:3105,rating:5,Genres:Drama;MovieID:2028,rating:5,Genres:Action|Drama|War;MovieID:1961,rating:5,Genres:Drama;MovieID:2692,rating:4,Genres:Action|Crime|Romance;MovieID:608,rating:4,Genres:Crime|Drama|Thriller;MovieID:919,rating:4,Genres:Adventure|Children's|Drama|Musical;MovieID:720,rating:3,Genres:Animation;MovieID:1193,rating:5,Genres:Drama;MovieID:260,rating:4,Genres:Action|Adventure|Fantasy|Sci-Fi;MovieID:1207,rating:4,Genres:Drama;MovieID:2804,rating:5,Genres:Comedy|Drama;MovieID:3408,rating:4,Genres:Drama;MovieID:1836,rating:5,Genres:Drama;MovieID:2340,rating:3,Genres:Romance;MovieID:1721,rating:4,Genres:Drama|Romance;MovieID:1270,rating:5,Genres:Comedy|Sci-Fi;MovieID:1022,rating:5,Genres:Animation|Children's|Musical;MovieID:3186,rating:4,Genres:Drama,\n",
      " CandidateItems: 2020:Drama|Romance;550:Comedy|Romance;378:Comedy|Romance;1078:Comedy|War;1782:Comedy|Romance;3483:Animation|Children's;1088:Musical|Romance;418:Drama;806:Drama;844:Drama;2355:Animation|Children's|Comedy;48:Animation|Children's|Musical|Romance;3185:Drama;3142:Documentary|Musical;3450:Comedy;3947:Thriller;2149:Comedy|Horror;2600:Action|Sci-Fi|Thriller;34:Children's|Comedy|Drama;1148:Animation|Comedy;2687:Animation|Children's;3326:Comedy|Sci-Fi;363:Documentary;3256:Action|Thriller;703:Drama;2294:Animation|Children's;588:Animation|Children's|Comedy|Musical;2104:Drama;1:Animation|Children's|Comedy;3409:Drama|Thriller;1566:Adventure|Animation|Children's|Comedy|Musical;302:Drama|Romance;3161:Drama;370:Comedy;1653:Drama|Sci-Fi|Thriller;3057:Comedy;1123:Documentary;2291:Drama|Romance;3691:Comedy;1907:Animation|Children's;333:Comedy;745:Animation|Comedy|Thriller;2095:Children's|Comedy;3135:Drama;1256:Comedy|War;1421:Documentary;1336:Horror;327:Action|Comedy|Musical|Sci-Fi;2963:Crime|Drama;783:Animation|Children's|Musical.\n",
      "\n",
      "\n",
      "### Response:\n",
      "Recommended movie ID: [2687, 745, 588, 1, 2355, 2294, 783, 1566, 1907, 48]<|end_of_text|>\n",
      "\n",
      "==================================================\n",
      "\n"
     ]
    }
   ],
   "source": [
    "# 查看第一个样本\n",
    "print(\"Sample 1:\")\n",
    "print(dataset[0]['text'])\n",
    "print(\"\\n\" + \"=\"*50 + \"\\n\")\n",
    "\n",
    "# # 查看第二个样本\n",
    "# print(\"Sample 2:\")\n",
    "# print(dataset[1]['text'])"
   ]
  },
  {
   "cell_type": "code",
   "execution_count": 19,
   "id": "764935b0-004c-41eb-b324-ef8bcbf23975",
   "metadata": {},
   "outputs": [
    {
     "name": "stderr",
     "output_type": "stream",
     "text": [
      "[HAMI-core Msg(29083:139897613728640:multiprocess_memory_limit.c:500)]: Calling exit handler 29083\n",
      "[HAMI-core Msg(29084:140562999098240:multiprocess_memory_limit.c:500)]: Calling exit handler 29084\n"
     ]
    },
    {
     "data": {
      "application/vnd.jupyter.widget-view+json": {
       "model_id": "76c72f00a8114d04b2490edab4eb44b4",
       "version_major": 2,
       "version_minor": 0
      },
      "text/plain": [
       "Unsloth: Tokenizing [\"text\"]:   0%|          | 0/4832 [00:00<?, ? examples/s]"
      ]
     },
     "metadata": {},
     "output_type": "display_data"
    }
   ],
   "source": [
    "###Huggingface TRL 的 SFTTrainer\n",
    "from trl import SFTTrainer\n",
    "from transformers import TrainingArguments\n",
    "from unsloth import is_bfloat16_supported\n",
    "trainer = SFTTrainer(\n",
    "    model = model,\n",
    "    tokenizer = tokenizer,\n",
    "    train_dataset = dataset,\n",
    "    dataset_text_field = \"text\",\n",
    "    max_seq_length = max_seq_length,\n",
    "    dataset_num_proc = 2,\n",
    "    packing = False, # Can make training 5x faster for short sequences.\n",
    "    args = TrainingArguments(\n",
    "        per_device_train_batch_size = 2,\n",
    "        gradient_accumulation_steps = 4,\n",
    "        warmup_steps = 5,\n",
    "        max_steps = 60,\n",
    "        # num_train_epochs = 1, # For longer training runs!\n",
    "        learning_rate = 2e-4,\n",
    "        fp16 = not is_bfloat16_supported(),\n",
    "        bf16 = is_bfloat16_supported(),\n",
    "        logging_steps = 1,\n",
    "        optim = \"adamw_8bit\",\n",
    "        weight_decay = 0.01,\n",
    "        lr_scheduler_type = \"linear\",\n",
    "        seed = 3407,\n",
    "        output_dir = \"outputs\",\n",
    "        report_to = \"none\", # Use this for WandB etc\n",
    "    ),\n",
    ")"
   ]
  },
  {
   "cell_type": "code",
   "execution_count": 20,
   "id": "4af1c224-d598-41f6-ab57-d73440dd0186",
   "metadata": {},
   "outputs": [
    {
     "name": "stdout",
     "output_type": "stream",
     "text": [
      "GPU = NVIDIA GeForce RTX 4090. Max memory = 23.25 GB.\n",
      "7.117 GB of memory reserved.\n"
     ]
    }
   ],
   "source": [
    "#@title Show current memory stats\n",
    "gpu_stats = torch.cuda.get_device_properties(0)\n",
    "start_gpu_memory = round(torch.cuda.max_memory_reserved() / 1024 / 1024 / 1024, 3)\n",
    "max_memory = round(gpu_stats.total_memory / 1024 / 1024 / 1024, 3)\n",
    "print(f\"GPU = {gpu_stats.name}. Max memory = {max_memory} GB.\")\n",
    "print(f\"{start_gpu_memory} GB of memory reserved.\")"
   ]
  },
  {
   "cell_type": "code",
   "execution_count": 21,
   "id": "2a60cc63-3869-4b79-9cd0-5f53d9c0f088",
   "metadata": {},
   "outputs": [
    {
     "name": "stderr",
     "output_type": "stream",
     "text": [
      "==((====))==  Unsloth - 2x faster free finetuning | Num GPUs used = 1\n",
      "   \\\\   /|    Num examples = 4,832 | Num Epochs = 1 | Total steps = 60\n",
      "O^O/ \\_/ \\    Batch size per device = 2 | Gradient accumulation steps = 4\n",
      "\\        /    Data Parallel GPUs = 1 | Total batch size (2 x 4 x 1) = 8\n",
      " \"-____-\"     Trainable parameters = 41,943,040 of 8,072,204,288 (0.52% trained)\n"
     ]
    },
    {
     "name": "stdout",
     "output_type": "stream",
     "text": [
      "Unsloth: Will smartly offload gradients to save VRAM!\n"
     ]
    },
    {
     "data": {
      "text/html": [
       "\n",
       "    <div>\n",
       "      \n",
       "      <progress value='60' max='60' style='width:300px; height:20px; vertical-align: middle;'></progress>\n",
       "      [60/60 03:26, Epoch 0/1]\n",
       "    </div>\n",
       "    <table border=\"1\" class=\"dataframe\">\n",
       "  <thead>\n",
       " <tr style=\"text-align: left;\">\n",
       "      <th>Step</th>\n",
       "      <th>Training Loss</th>\n",
       "    </tr>\n",
       "  </thead>\n",
       "  <tbody>\n",
       "    <tr>\n",
       "      <td>1</td>\n",
       "      <td>1.262500</td>\n",
       "    </tr>\n",
       "    <tr>\n",
       "      <td>2</td>\n",
       "      <td>1.352200</td>\n",
       "    </tr>\n",
       "    <tr>\n",
       "      <td>3</td>\n",
       "      <td>1.354800</td>\n",
       "    </tr>\n",
       "    <tr>\n",
       "      <td>4</td>\n",
       "      <td>1.257000</td>\n",
       "    </tr>\n",
       "    <tr>\n",
       "      <td>5</td>\n",
       "      <td>1.130800</td>\n",
       "    </tr>\n",
       "    <tr>\n",
       "      <td>6</td>\n",
       "      <td>1.181000</td>\n",
       "    </tr>\n",
       "    <tr>\n",
       "      <td>7</td>\n",
       "      <td>1.221200</td>\n",
       "    </tr>\n",
       "    <tr>\n",
       "      <td>8</td>\n",
       "      <td>0.955200</td>\n",
       "    </tr>\n",
       "    <tr>\n",
       "      <td>9</td>\n",
       "      <td>1.083200</td>\n",
       "    </tr>\n",
       "    <tr>\n",
       "      <td>10</td>\n",
       "      <td>1.025200</td>\n",
       "    </tr>\n",
       "    <tr>\n",
       "      <td>11</td>\n",
       "      <td>0.902700</td>\n",
       "    </tr>\n",
       "    <tr>\n",
       "      <td>12</td>\n",
       "      <td>0.935600</td>\n",
       "    </tr>\n",
       "    <tr>\n",
       "      <td>13</td>\n",
       "      <td>0.983200</td>\n",
       "    </tr>\n",
       "    <tr>\n",
       "      <td>14</td>\n",
       "      <td>0.871700</td>\n",
       "    </tr>\n",
       "    <tr>\n",
       "      <td>15</td>\n",
       "      <td>0.785200</td>\n",
       "    </tr>\n",
       "    <tr>\n",
       "      <td>16</td>\n",
       "      <td>0.950400</td>\n",
       "    </tr>\n",
       "    <tr>\n",
       "      <td>17</td>\n",
       "      <td>0.830100</td>\n",
       "    </tr>\n",
       "    <tr>\n",
       "      <td>18</td>\n",
       "      <td>0.915400</td>\n",
       "    </tr>\n",
       "    <tr>\n",
       "      <td>19</td>\n",
       "      <td>0.898800</td>\n",
       "    </tr>\n",
       "    <tr>\n",
       "      <td>20</td>\n",
       "      <td>0.842900</td>\n",
       "    </tr>\n",
       "    <tr>\n",
       "      <td>21</td>\n",
       "      <td>0.887600</td>\n",
       "    </tr>\n",
       "    <tr>\n",
       "      <td>22</td>\n",
       "      <td>0.814500</td>\n",
       "    </tr>\n",
       "    <tr>\n",
       "      <td>23</td>\n",
       "      <td>0.896100</td>\n",
       "    </tr>\n",
       "    <tr>\n",
       "      <td>24</td>\n",
       "      <td>0.821400</td>\n",
       "    </tr>\n",
       "    <tr>\n",
       "      <td>25</td>\n",
       "      <td>0.805000</td>\n",
       "    </tr>\n",
       "    <tr>\n",
       "      <td>26</td>\n",
       "      <td>0.758800</td>\n",
       "    </tr>\n",
       "    <tr>\n",
       "      <td>27</td>\n",
       "      <td>0.881300</td>\n",
       "    </tr>\n",
       "    <tr>\n",
       "      <td>28</td>\n",
       "      <td>0.807000</td>\n",
       "    </tr>\n",
       "    <tr>\n",
       "      <td>29</td>\n",
       "      <td>0.805900</td>\n",
       "    </tr>\n",
       "    <tr>\n",
       "      <td>30</td>\n",
       "      <td>0.779400</td>\n",
       "    </tr>\n",
       "    <tr>\n",
       "      <td>31</td>\n",
       "      <td>0.897300</td>\n",
       "    </tr>\n",
       "    <tr>\n",
       "      <td>32</td>\n",
       "      <td>0.844700</td>\n",
       "    </tr>\n",
       "    <tr>\n",
       "      <td>33</td>\n",
       "      <td>0.814500</td>\n",
       "    </tr>\n",
       "    <tr>\n",
       "      <td>34</td>\n",
       "      <td>0.797900</td>\n",
       "    </tr>\n",
       "    <tr>\n",
       "      <td>35</td>\n",
       "      <td>0.821000</td>\n",
       "    </tr>\n",
       "    <tr>\n",
       "      <td>36</td>\n",
       "      <td>0.768800</td>\n",
       "    </tr>\n",
       "    <tr>\n",
       "      <td>37</td>\n",
       "      <td>0.767600</td>\n",
       "    </tr>\n",
       "    <tr>\n",
       "      <td>38</td>\n",
       "      <td>0.858500</td>\n",
       "    </tr>\n",
       "    <tr>\n",
       "      <td>39</td>\n",
       "      <td>0.776200</td>\n",
       "    </tr>\n",
       "    <tr>\n",
       "      <td>40</td>\n",
       "      <td>0.856500</td>\n",
       "    </tr>\n",
       "    <tr>\n",
       "      <td>41</td>\n",
       "      <td>0.839500</td>\n",
       "    </tr>\n",
       "    <tr>\n",
       "      <td>42</td>\n",
       "      <td>0.769500</td>\n",
       "    </tr>\n",
       "    <tr>\n",
       "      <td>43</td>\n",
       "      <td>0.833200</td>\n",
       "    </tr>\n",
       "    <tr>\n",
       "      <td>44</td>\n",
       "      <td>0.737200</td>\n",
       "    </tr>\n",
       "    <tr>\n",
       "      <td>45</td>\n",
       "      <td>0.803200</td>\n",
       "    </tr>\n",
       "    <tr>\n",
       "      <td>46</td>\n",
       "      <td>0.863200</td>\n",
       "    </tr>\n",
       "    <tr>\n",
       "      <td>47</td>\n",
       "      <td>0.812400</td>\n",
       "    </tr>\n",
       "    <tr>\n",
       "      <td>48</td>\n",
       "      <td>0.839800</td>\n",
       "    </tr>\n",
       "    <tr>\n",
       "      <td>49</td>\n",
       "      <td>0.800400</td>\n",
       "    </tr>\n",
       "    <tr>\n",
       "      <td>50</td>\n",
       "      <td>0.700800</td>\n",
       "    </tr>\n",
       "    <tr>\n",
       "      <td>51</td>\n",
       "      <td>0.813800</td>\n",
       "    </tr>\n",
       "    <tr>\n",
       "      <td>52</td>\n",
       "      <td>0.805900</td>\n",
       "    </tr>\n",
       "    <tr>\n",
       "      <td>53</td>\n",
       "      <td>0.884800</td>\n",
       "    </tr>\n",
       "    <tr>\n",
       "      <td>54</td>\n",
       "      <td>0.744800</td>\n",
       "    </tr>\n",
       "    <tr>\n",
       "      <td>55</td>\n",
       "      <td>0.917100</td>\n",
       "    </tr>\n",
       "    <tr>\n",
       "      <td>56</td>\n",
       "      <td>0.751000</td>\n",
       "    </tr>\n",
       "    <tr>\n",
       "      <td>57</td>\n",
       "      <td>0.841000</td>\n",
       "    </tr>\n",
       "    <tr>\n",
       "      <td>58</td>\n",
       "      <td>0.831200</td>\n",
       "    </tr>\n",
       "    <tr>\n",
       "      <td>59</td>\n",
       "      <td>0.751200</td>\n",
       "    </tr>\n",
       "    <tr>\n",
       "      <td>60</td>\n",
       "      <td>0.852600</td>\n",
       "    </tr>\n",
       "  </tbody>\n",
       "</table><p>"
      ],
      "text/plain": [
       "<IPython.core.display.HTML object>"
      ]
     },
     "metadata": {},
     "output_type": "display_data"
    }
   ],
   "source": [
    "trainer_stats = trainer.train()"
   ]
  },
  {
   "cell_type": "code",
   "execution_count": 22,
   "id": "36332712-e7c6-4b3d-b69e-f9e4a7b5a6d9",
   "metadata": {},
   "outputs": [
    {
     "name": "stdout",
     "output_type": "stream",
     "text": [
      "213.5678 seconds used for training.\n",
      "3.56 minutes used for training.\n",
      "Peak reserved memory = 7.117 GB.\n",
      "Peak reserved memory for training = 0.0 GB.\n",
      "Peak reserved memory % of max memory = 30.611 %.\n",
      "Peak reserved memory for training % of max memory = 0.0 %.\n"
     ]
    }
   ],
   "source": [
    "#@title Show final memory and time stats\n",
    "used_memory = round(torch.cuda.max_memory_reserved() / 1024 / 1024 / 1024, 3)\n",
    "used_memory_for_lora = round(used_memory - start_gpu_memory, 3)\n",
    "used_percentage = round(used_memory         /max_memory*100, 3)\n",
    "lora_percentage = round(used_memory_for_lora/max_memory*100, 3)\n",
    "print(f\"{trainer_stats.metrics['train_runtime']} seconds used for training.\")\n",
    "print(f\"{round(trainer_stats.metrics['train_runtime']/60, 2)} minutes used for training.\")\n",
    "print(f\"Peak reserved memory = {used_memory} GB.\")\n",
    "print(f\"Peak reserved memory for training = {used_memory_for_lora} GB.\")\n",
    "print(f\"Peak reserved memory % of max memory = {used_percentage} %.\")\n",
    "print(f\"Peak reserved memory for training % of max memory = {lora_percentage} %.\")"
   ]
  },
  {
   "cell_type": "code",
   "execution_count": 23,
   "id": "508f33f5-ed7a-4399-a856-5fb40aa7246e",
   "metadata": {},
   "outputs": [
    {
     "name": "stderr",
     "output_type": "stream",
     "text": [
      "The attention mask is not set and cannot be inferred from input because pad token is same as eos token. As a consequence, you may observe unexpected behavior. Please pass your input's `attention_mask` to obtain reliable results.\n"
     ]
    },
    {
     "name": "stdout",
     "output_type": "stream",
     "text": [
      "Recommended movie ID: [3764, 329, 2339, 1375, 1183, 506, 1374, 2770, 169, 3436]<|end_of_text|>\n"
     ]
    }
   ],
   "source": [
    "## 使用微调结果进行推理 UserID: 195\n",
    "FastLanguageModel.for_inference(model) # Enable native 2x faster inference\n",
    "messages = [                    # Change below!\n",
    "    {\n",
    "        \"role\": \"user\",\n",
    "        \"content\":\"Filter exactly 10 unique item IDs that the user may be interested in from the given CandidateItems, based solely on the user's personal profile.Only output the item IDs, one per line, with no explanations, no extra text, and no duplicates.based on the user's personal profile. UserID: 195, UserProfile: UserID:195 | Gender:M | Age:25 | Occupation:12 | Zip:10458 | RatedMovies:MovieID:1228,rating:4,Genres:Drama;MovieID:1587,rating:3,Genres:Action|Adventure;MovieID:141,rating:3,Genres:Comedy;MovieID:3785,rating:2,Genres:Comedy|Horror;MovieID:111,rating:5,Genres:Drama|Thriller;MovieID:2059,rating:3,Genres:Children's|Drama;MovieID:1207,rating:5,Genres:Drama;MovieID:2826,rating:4,Genres:Action|Horror|Thriller;MovieID:36,rating:4,Genres:Drama;MovieID:3451,rating:4,Genres:Comedy|Drama;MovieID:1732,rating:4,Genres:Comedy|Crime|Mystery|Thriller;MovieID:2662,rating:4,Genres:Action|Sci-Fi|War;MovieID:1952,rating:5,Genres:Drama;MovieID:2028,rating:4,Genres:Action|Drama|War;MovieID:1635,rating:4,Genres:Drama;MovieID:709,rating:3,Genres:Animation|Children's;MovieID:67,rating:4,Genres:Drama;MovieID:3822,rating:5,Genres:Drama|Romance;MovieID:3510,rating:4,Genres:Drama|Thriller;MovieID:2125,rating:4,Genres:Drama|Romance;MovieID:2844,rating:4,Genres:Drama|Mystery;MovieID:2968,rating:5,Genres:Adventure|Fantasy|Sci-Fi;MovieID:1729,rating:5,Genres:Crime|Drama;MovieID:3273,rating:2,Genres:Horror|Mystery|Thriller;MovieID:3911,rating:5,Genres:Comedy;MovieID:1655,rating:3,Genres:Horror;MovieID:2804,rating:5,Genres:Comedy|Drama;MovieID:1203,rating:5,Genres:Drama;MovieID:3158,rating:4,Genres:Drama;MovieID:2483,rating:4,Genres:Comedy|Horror|Thriller;MovieID:233,rating:4,Genres:Drama;MovieID:3835,rating:1,Genres:Thriller;MovieID:2770,rating:3,Genres:Comedy;MovieID:1518,rating:2,Genres:Action|Thriller;MovieID:85,rating:4,Genres:Drama|Romance;MovieID:2124,rating:3,Genres:Comedy;MovieID:1274,rating:4,Genres:Adventure|Animation|Sci-Fi|Thriller;MovieID:969,rating:3,Genres:Action|Adventure|Romance|War;MovieID:1253,rating:5,Genres:Drama|Sci-Fi;MovieID:495,rating:5,Genres:Drama;MovieID:3867,rating:5,Genres:Drama;MovieID:1294,rating:4,Genres:Comedy|War;MovieID:2683,rating:3,Genres:Comedy;MovieID:1517,rating:2,Genres:Comedy;MovieID:1944,rating:5,Genres:Drama|Romance|War;MovieID:3266,rating:5,Genres:Action|Comedy|Crime|Drama;MovieID:774,rating:4,Genres:Drama;MovieID:2097,rating:3,Genres:Children's|Horror;MovieID:2762,rating:4,Genres:Thriller;MovieID:2615,rating:3,Genres:Adventure|Sci-Fi;MovieID:2134,rating:2,Genres:Comedy;MovieID:3787,rating:5,Genres:Comedy;MovieID:300,rating:5,Genres:Drama;MovieID:866,rating:4,Genres:Crime|Drama|Romance|Thriller;MovieID:3054,rating:4,Genres:Animation|Children's;MovieID:2793,rating:3,Genres:Comedy|Horror;MovieID:1390,rating:3,Genres:Comedy;MovieID:3481,rating:4,Genres:Comedy;MovieID:919,rating:5,Genres:Adventure|Children's|Drama|Musical;MovieID:858,rating:5,Genres:Action|Crime|Drama;MovieID:2689,rating:3,Genres:Documentary;MovieID:899,rating:5,Genres:Musical|Romance;MovieID:2654,rating:4,Genres:Horror;MovieID:223,rating:3,Genres:Comedy;MovieID:2607,rating:4,Genres:Drama;MovieID:3502,rating:5,Genres:Drama;MovieID:426,rating:2,Genres:Horror|Sci-Fi|Thriller;MovieID:435,rating:3,Genres:Comedy|Sci-Fi;MovieID:1215,rating:4,Genres:Action|Adventure|Comedy|Horror|Sci-Fi;MovieID:1221,rating:5,Genres:Action|Crime|Drama;MovieID:1261,rating:4,Genres:Action|Adventure|Comedy|Horror;MovieID:1676,rating:5,Genres:Action|Adventure|Sci-Fi|War;MovieID:3358,rating:3,Genres:Comedy|Romance;MovieID:3608,rating:3,Genres:Comedy;MovieID:3704,rating:3,Genres:Action|Sci-Fi;MovieID:1867,rating:3,Genres:Action|Adventure;MovieID:778,rating:4,Genres:Drama;MovieID:810,rating:2,Genres:Children's|Comedy|Fantasy;MovieID:1321,rating:4,Genres:Horror;MovieID:928,rating:5,Genres:Romance|Thriller;MovieID:1204,rating:5,Genres:Adventure|War;MovieID:2273,rating:3,Genres:Action|Thriller;MovieID:3624,rating:4,Genres:Action;MovieID:1591,rating:4,Genres:Action|Adventure|Sci-Fi|Thriller;MovieID:1845,rating:5,Genres:Comedy|Thriller;MovieID:1909,rating:4,Genres:Mystery|Sci-Fi|Thriller;MovieID:2359,rating:4,Genres:Comedy;MovieID:1779,rating:2,Genres:Adventure|Sci-Fi|Thriller;MovieID:1862,rating:2,Genres:Horror|Sci-Fi;MovieID:1754,rating:2,Genres:Action|Mystery|Thriller;MovieID:1911,rating:3,Genres:Comedy;MovieID:2026,rating:3,Genres:Horror|Thriller;MovieID:1132,rating:5,Genres:Drama;MovieID:1731,rating:3,Genres:Comedy;MovieID:1161,rating:4,Genres:Drama;MovieID:3156,rating:3,Genres:Comedy|Drama|Sci-Fi;MovieID:3753,rating:4,Genres:Action|Drama|War;MovieID:3355,rating:3,Genres:Thriller;MovieID:2391,rating:4,Genres:Crime|Thriller;MovieID:851,rating:3,Genres:Drama,\\n CandidateItems: 3944:Comedy|Drama;3563:Action|Horror;2517:Horror;2607:Drama;551:Children's|Comedy|Musical;3764:Action|Crime|Thriller;2219:Mystery|Thriller;1356:Action|Adventure|Sci-Fi;688:Action|Adventure|Comedy|War;1702:Children's|Comedy|Fantasy;2127:Drama|Romance;1677:Comedy;2347:Action;237:Comedy|Romance;1047:Action|Thriller;3093:Drama|Western;2660:Sci-Fi;3392:Comedy;2206:Mystery|Thriller;3740:Action|Comedy;2064:Comedy|Documentary;2545:Comedy;3721:Comedy;2644:Horror;3778:Comedy|Drama;2247:Comedy;2807:Action|Sci-Fi;2632:Drama;1301:Sci-Fi;3156:Comedy|Drama|Sci-Fi;464:Action|Adventure|Crime|Thriller;329:Action|Adventure|Sci-Fi;2253:Action|Comedy|Fantasy;2490:Action|Thriller;1556:Action|Romance|Thriller;821:Romance;2788:Comedy;634:Comedy;3007:Documentary;506:Drama;1871:Comedy|Drama;1375:Action|Adventure|Sci-Fi;1183:Drama|Romance|War;2339:Comedy|Romance;1473:Action|Comedy|Crime|Drama;2831:Drama;1374:Action|Adventure|Sci-Fi;2770:Comedy;169:Adventure|Children's|Drama;3436:Drama|Romance.\\n\"\n",
    "    },\n",
    "]\n",
    "input_ids = tokenizer.apply_chat_template(\n",
    "    messages,\n",
    "    add_generation_prompt = True,\n",
    "    return_tensors = \"pt\",\n",
    ").to(\"cuda\")\n",
    "\n",
    "from transformers import TextStreamer\n",
    "text_streamer = TextStreamer(tokenizer, skip_prompt = True)\n",
    "_ = model.generate(\n",
    "    input_ids, \n",
    "    streamer = text_streamer, \n",
    "    max_new_tokens = 128, \n",
    "    pad_token_id = tokenizer.eos_token_id,\n",
    "    temperature=0.01,  # ← 添加温度控制\n",
    "    do_sample=True,   # ← 必须开启采样才能让 temperature 起作用！\n",
    ")"
   ]
  },
  {
   "cell_type": "code",
   "execution_count": 24,
   "id": "de940662-ef00-499d-90e0-594fd5fa02aa",
   "metadata": {},
   "outputs": [],
   "source": [
    "###UserID: 195 'Recommended movie ID: [3007, 1183, 1702, 3764, 1301, 2247, 1356, 329, 1374, 1375]'"
   ]
  },
  {
   "cell_type": "markdown",
   "id": "957f25e5-6561-4c76-8beb-4b26562eb737",
   "metadata": {},
   "source": [
    "## 保存、加载微调模型"
   ]
  },
  {
   "cell_type": "code",
   "execution_count": 25,
   "id": "c5b3ac0e-10f0-44a6-8852-153a0179a14b",
   "metadata": {},
   "outputs": [
    {
     "data": {
      "text/plain": [
       "('outputs/lora_model/tokenizer_config.json',\n",
       " 'outputs/lora_model/special_tokens_map.json',\n",
       " 'outputs/lora_model/chat_template.jinja',\n",
       " 'outputs/lora_model/tokenizer.json')"
      ]
     },
     "execution_count": 25,
     "metadata": {},
     "output_type": "execute_result"
    }
   ],
   "source": [
    "# 这仅保存了 LoRA 适配器，并未保存整个模型。要保存为 16 位或 GGUF，请用下面的\n",
    "model.save_pretrained(\"outputs/lora_model\") # Local saving\n",
    "tokenizer.save_pretrained(\"outputs/lora_model\")\n",
    "# model.push_to_hub(\"your_name/lora_model\", token = \"...\") # Online saving\n",
    "# tokenizer.push_to_hub(\"your_name/lora_model\", token = \"...\") # Online saving"
   ]
  },
  {
   "cell_type": "code",
   "execution_count": 26,
   "id": "fe616287-b533-4f53-abb0-9b86fc78e5c0",
   "metadata": {},
   "outputs": [],
   "source": [
    "##加载训练好的lora块进行推理"
   ]
  },
  {
   "cell_type": "code",
   "execution_count": null,
   "id": "f82f1e4d-983a-442b-ae46-29783ce99e69",
   "metadata": {},
   "outputs": [
    {
     "name": "stdout",
     "output_type": "stream",
     "text": [
      "==((====))==  Unsloth 2025.8.1: Fast Llama patching. Transformers: 4.55.0.\n",
      "   \\\\   /|    NVIDIA GeForce RTX 4090. Num GPUs = 1. Max memory: 23.25 GB. Platform: Linux.\n",
      "O^O/ \\_/ \\    Torch: 2.7.1+cu126. CUDA: 8.9. CUDA Toolkit: 12.6. Triton: 3.3.1\n",
      "\\        /    Bfloat16 = TRUE. FA [Xformers = 0.0.31.post1. FA2 = False]\n",
      " \"-____-\"     Free license: http://github.com/unslothai/unsloth\n",
      "Unsloth: Fast downloading is enabled - ignore downloading bars which are red colored!\n"
     ]
    },
    {
     "name": "stderr",
     "output_type": "stream",
     "text": [
      "[HAMI-core Msg(28280:140096873600832:memory.c:512)]: orig free=17572102144 total=25393692672 limit=24964497408 usage=419694592\n",
      "[HAMI-core Msg(28280:140096873600832:memory.c:512)]: orig free=17572102144 total=25393692672 limit=24964497408 usage=419694592\n"
     ]
    }
   ],
   "source": [
    "##加载模型，使用微调结果进行推理 UID：618\n",
    "##如果想加载刚刚保存的 LoRA 适配器以进行推理，请将 False 更改为 True\n",
    "from unsloth import FastLanguageModel\n",
    "import torch\n",
    "\n",
    "max_seq_length = 4096\n",
    "dtype = None # None for auto detection. Float16 for Tesla T4, V100, Bfloat16 for Ampere+\n",
    "load_in_4bit = True # Use 4bit quantization to reduce memory usage. Can be False.\n",
    "\n",
    "if True:\n",
    "    from unsloth import FastLanguageModel\n",
    "    model, tokenizer = FastLanguageModel.from_pretrained(\n",
    "        model_name = \"outputs/lora_model\", # YOUR MODEL YOU USED FOR TRAINING\n",
    "        max_seq_length = max_seq_length,\n",
    "        dtype = dtype,\n",
    "        load_in_4bit = load_in_4bit,\n",
    "    )\n",
    "    FastLanguageModel.for_inference(model) # Enable native 2x faster inference\n",
    "pass\n",
    "\n",
    "messages = [                    \n",
    "    # Change below!\n",
    "    {\"role\": \"user\", \"content\": \"Filter exactly 10 unique item IDs that the user may be interested in from the given CandidateItems, based solely on the user's personal profile and rated movie preferences. Only output the item IDs, one per line, with no explanations, no extra text, and no duplicates.based on the user's personal profile. UserID: 618, UserProfile: UserID:618 | Gender:M | Age:25 | Occupation:0 | Zip:74105 | RatedMovies:MovieID:1970,rating:3,Genres:Horror;MovieID:1971,rating:3,Genres:Horror;MovieID:3596,rating:1,Genres:Comedy;MovieID:490,rating:2,Genres:Thriller;MovieID:2792,rating:2,Genres:Comedy;MovieID:3755,rating:3,Genres:Action|Adventure|Thriller;MovieID:648,rating:2,Genres:Action|Adventure|Mystery;MovieID:3409,rating:3,Genres:Drama|Thriller;MovieID:3513,rating:3,Genres:Drama|Thriller;MovieID:70,rating:4,Genres:Action|Comedy|Crime|Horror|Thriller;MovieID:2454,rating:3,Genres:Horror|Sci-Fi;MovieID:3947,rating:3,Genres:Thriller;MovieID:3918,rating:2,Genres:Horror;MovieID:1965,rating:2,Genres:Comedy|Sci-Fi;MovieID:3917,rating:4,Genres:Horror;MovieID:3930,rating:2,Genres:Horror;MovieID:1171,rating:4,Genres:Comedy;MovieID:3624,rating:4,Genres:Action;MovieID:2291,rating:3,Genres:Drama|Romance;MovieID:2791,rating:4,Genres:Comedy;MovieID:1673,rating:3,Genres:Drama;MovieID:3481,rating:4,Genres:Comedy;MovieID:551,rating:2,Genres:Children's|Comedy|Musical;MovieID:3578,rating:4,Genres:Action|Drama;MovieID:589,rating:4,Genres:Action|Sci-Fi|Thriller;MovieID:1249,rating:2,Genres:Thriller;MovieID:2858,rating:5,Genres:Comedy|Drama;MovieID:1259,rating:4,Genres:Adventure|Comedy|Drama;MovieID:1250,rating:5,Genres:Drama|War;MovieID:110,rating:4,Genres:Action|Drama|War;MovieID:3347,rating:4,Genres:Drama;MovieID:2717,rating:3,Genres:Comedy|Horror;MovieID:1196,rating:4,Genres:Action|Adventure|Drama|Sci-Fi|War;MovieID:1130,rating:2,Genres:Horror;MovieID:2144,rating:3,Genres:Comedy;MovieID:2746,rating:3,Genres:Comedy|Horror|Musical,\\n CandidateItems: 507:Action|Drama;3428:Drama;3579:Drama;1222:Action|Drama|War;1969:Horror;280:Drama|Thriller;2084:Children's|Musical;3628:Action|Drama|War;1982:Horror;2160:Horror|Thriller;1544:Action|Adventure|Sci-Fi|Thriller;1126:Comedy|Fantasy;2624:Drama;2142:Animation|Children's|Comedy;1216:Adventure|Romance;1230:Comedy|Romance;1952:Drama;1036:Action|Thriller;2991:Action;1829:Drama|Romance;3148:Drama;769:Documentary;1357:Drama|Romance;1977:Horror;1551:Adventure|Children's|Drama;1486:Drama;3160:Drama;2249:Comedy;1405:Animation|Comedy;3291:Thriller;2012:Comedy|Sci-Fi|Western;3048:Comedy;1504:Drama;1976:Horror;2881:Action|Thriller;2456:Horror|Sci-Fi;1972:Horror;3534:Comedy;434:Action|Adventure|Crime;935:Comedy|Musical;2407:Comedy|Sci-Fi;2996:Drama;2708:Romance;864:Comedy|Drama;3902:Drama;1254:Adventure;611:Action|Horror|Sci-Fi;3490:Horror;1986:Horror.\\n\"\n",
    "    },\n",
    "]\n",
    "input_ids = tokenizer.apply_chat_template(\n",
    "    messages,\n",
    "    add_generation_prompt = True,\n",
    "    return_tensors = \"pt\",\n",
    ").to(\"cuda\")\n",
    "\n",
    "from transformers import TextStreamer\n",
    "text_streamer = TextStreamer(tokenizer, skip_prompt = True)\n",
    "# _ = model.generate(input_ids, streamer = text_streamer, max_new_tokens = 128, pad_token_id = tokenizer.eos_token_id)\n",
    "\n",
    "##控温\n",
    "_ = model.generate(\n",
    "    input_ids,\n",
    "    streamer=text_streamer,\n",
    "    max_new_tokens=128,\n",
    "    pad_token_id=tokenizer.eos_token_id,\n",
    "    temperature=0.01,  # ← 添加温度控制\n",
    "    do_sample=True,   # ← 必须开启采样才能让 temperature 起作用！\n",
    ")"
   ]
  },
  {
   "cell_type": "code",
   "execution_count": null,
   "id": "001d9a41-84f6-4a91-8d6b-492165acf036",
   "metadata": {},
   "outputs": [],
   "source": [
    "## 618'Recommended movie ID: [2456, 1976, 1969, 3579, 1972, 1977, 1986, 611, 2624]'"
   ]
  },
  {
   "cell_type": "code",
   "execution_count": null,
   "id": "246414e7-57af-4312-b3c8-04d1319b70fe",
   "metadata": {},
   "outputs": [],
   "source": [
    "## uid 541 \n",
    "from unsloth import FastLanguageModel\n",
    "import torch\n",
    "\n",
    "max_seq_length = 4096\n",
    "dtype = None # None for auto detection. Float16 for Tesla T4, V100, Bfloat16 for Ampere+\n",
    "load_in_4bit = True # Use 4bit quantization to reduce memory usage. Can be False.\n",
    "\n",
    "if True:\n",
    "    from unsloth import FastLanguageModel\n",
    "    model, tokenizer = FastLanguageModel.from_pretrained(\n",
    "        model_name = \"outputs/lora_model\", # YOUR MODEL YOU USED FOR TRAINING\n",
    "        max_seq_length = max_seq_length,\n",
    "        dtype = dtype,\n",
    "        load_in_4bit = load_in_4bit,\n",
    "    )\n",
    "    FastLanguageModel.for_inference(model) # Enable native 2x faster inference\n",
    "pass\n",
    "messages = [                    \n",
    "    {\"role\": \"user\", \n",
    "     \"content\":\"Filter exactly 10 unique item IDs that the user may be interested in from the given CandidateItems, based solely on the user's personal profile and rated movie preferences. Only output the item IDs, one per line, with no explanations, no extra text, and no duplicates.based on the user's personal profile. UserID: 541, UserProfile: UserID:541 | Gender:F | Age:18 | Occupation:4 | Zip:5849574 | RatedMovies:MovieID:1276,rating:5,Genres:Comedy|Drama;MovieID:1225,rating:5,Genres:Drama;MovieID:608,rating:4,Genres:Crime|Drama|Thriller;MovieID:1197,rating:3,Genres:Action|Adventure|Comedy|Romance;MovieID:923,rating:2,Genres:Drama;MovieID:1198,rating:5,Genres:Action|Adventure;MovieID:318,rating:5,Genres:Drama;MovieID:1204,rating:2,Genres:Adventure|War;MovieID:1207,rating:2,Genres:Drama;MovieID:3469,rating:2,Genres:Drama;MovieID:3440,rating:1,Genres:Action|Children's|Fantasy;MovieID:3439,rating:1,Genres:Action|Children's|Fantasy;MovieID:60,rating:3,Genres:Adventure|Children's|Fantasy;MovieID:3489,rating:5,Genres:Adventure|Fantasy;MovieID:2,rating:2,Genres:Adventure|Children's|Fantasy;MovieID:3438,rating:5,Genres:Action|Children's|Fantasy;MovieID:653,rating:3,Genres:Action|Adventure|Fantasy;MovieID:2622,rating:2,Genres:Comedy|Fantasy;MovieID:367,rating:3,Genres:Comedy|Crime|Fantasy;MovieID:788,rating:3,Genres:Comedy|Fantasy|Romance|Sci-Fi;MovieID:317,rating:3,Genres:Children's|Comedy|Fantasy;MovieID:3247,rating:3,Genres:Comedy|Crime;MovieID:356,rating:5,Genres:Comedy|Romance|War;MovieID:3255,rating:2,Genres:Comedy|Drama;MovieID:1500,rating:5,Genres:Comedy|Crime;MovieID:1923,rating:5,Genres:Comedy;MovieID:1784,rating:5,Genres:Comedy|Drama;MovieID:141,rating:3,Genres:Comedy;MovieID:11,rating:3,Genres:Comedy|Drama|Romance;MovieID:3253,rating:4,Genres:Comedy;MovieID:235,rating:4,Genres:Comedy|Drama;MovieID:342,rating:2,Genres:Comedy|Romance;MovieID:2997,rating:5,Genres:Comedy;MovieID:21,rating:4,Genres:Action|Comedy|Drama;MovieID:2321,rating:3,Genres:Comedy;MovieID:39,rating:4,Genres:Comedy|Romance;MovieID:1641,rating:5,Genres:Comedy;MovieID:497,rating:3,Genres:Comedy|Romance;MovieID:223,rating:3,Genres:Comedy;MovieID:1588,rating:5,Genres:Children's|Comedy;MovieID:1265,rating:4,Genres:Comedy|Romance;MovieID:1136,rating:5,Genres:Comedy;MovieID:34,rating:5,Genres:Children's|Comedy|Drama;MovieID:2396,rating:5,Genres:Comedy|Romance;MovieID:2858,rating:5,Genres:Comedy|Drama;MovieID:880,rating:1,Genres:Sci-Fi|Thriller;MovieID:435,rating:1,Genres:Comedy|Sci-Fi;MovieID:2053,rating:1,Genres:Children's|Comedy|Sci-Fi;MovieID:546,rating:1,Genres:Action|Adventure|Children's|Sci-Fi;MovieID:512,rating:1,Genres:Horror|Sci-Fi;MovieID:1690,rating:1,Genres:Action|Horror|Sci-Fi;MovieID:2094,rating:1,Genres:Action|Adventure|Sci-Fi;MovieID:327,rating:1,Genres:Action|Comedy|Musical|Sci-Fi;MovieID:1676,rating:1,Genres:Action|Adventure|Sci-Fi|War;MovieID:3269,rating:1,Genres:Adventure|Romance|Sci-Fi;MovieID:1320,rating:2,Genres:Action|Horror|Sci-Fi|Thriller;MovieID:185,rating:3,Genres:Sci-Fi|Thriller;MovieID:196,rating:1,Genres:Horror|Sci-Fi;MovieID:2012,rating:2,Genres:Comedy|Sci-Fi|Western;MovieID:2105,rating:2,Genres:Action|Adventure|Fantasy|Sci-Fi;MovieID:426,rating:1,Genres:Horror|Sci-Fi|Thriller;MovieID:3660,rating:1,Genres:Horror|Sci-Fi|Thriller;MovieID:2011,rating:3,Genres:Comedy|Sci-Fi;MovieID:329,rating:3,Genres:Action|Adventure|Sci-Fi;MovieID:2046,rating:2,Genres:Adventure|Children's|Sci-Fi;MovieID:2021,rating:1,Genres:Fantasy|Sci-Fi;MovieID:2699,rating:1,Genres:Action|Comedy|Sci-Fi|Thriller;MovieID:2054,rating:4,Genres:Adventure|Children's|Comedy|Fantasy|Sci-Fi;MovieID:2600,rating:1,Genres:Action|Sci-Fi|Thriller;MovieID:1527,rating:1,Genres:Action|Sci-Fi;MovieID:1396,rating:2,Genres:Crime|Drama|Sci-Fi;MovieID:2140,rating:3,Genres:Children's|Fantasy|Sci-Fi;MovieID:780,rating:2,Genres:Action|Sci-Fi|War;MovieID:2985,rating:2,Genres:Action|Crime|Sci-Fi;MovieID:1653,rating:3,Genres:Drama|Sci-Fi|Thriller;MovieID:1580,rating:5,Genres:Action|Adventure|Comedy|Sci-Fi;MovieID:3175,rating:5,Genres:Adventure|Comedy|Sci-Fi;MovieID:2657,rating:3,Genres:Comedy|Horror|Musical|Sci-Fi;MovieID:1356,rating:5,Genres:Action|Adventure|Sci-Fi;MovieID:3702,rating:2,Genres:Action|Sci-Fi;MovieID:2916,rating:4,Genres:Action|Adventure|Sci-Fi|Thriller;MovieID:1584,rating:4,Genres:Drama|Sci-Fi;MovieID:1127,rating:2,Genres:Action|Adventure|Sci-Fi|Thriller;MovieID:1210,rating:4,Genres:Action|Adventure|Romance|Sci-Fi|War;MovieID:480,rating:5,Genres:Action|Adventure|Sci-Fi;MovieID:32,rating:4,Genres:Drama|Sci-Fi;MovieID:2529,rating:3,Genres:Action|Sci-Fi;MovieID:589,rating:4,Genres:Action|Sci-Fi|Thriller;MovieID:1270,rating:3,Genres:Comedy|Sci-Fi;MovieID:541,rating:3,Genres:Film-Noir|Sci-Fi;MovieID:1200,rating:4,Genres:Action|Sci-Fi|Thriller|War;MovieID:1214,rating:3,Genres:Action|Horror|Sci-Fi|Thriller;MovieID:1196,rating:4,Genres:Action|Adventure|Drama|Sci-Fi|War;MovieID:2092,rating:1,Genres:Animation|Children's|Musical;MovieID:239,rating:2,Genres:Animation|Children's|Comedy|Romance;MovieID:631,rating:1,Genres:Animation|Children's|Musical;MovieID:13,rating:2,Genres:Animation|Children's;MovieID:2123,rating:3,Genres:Animation|Children's;MovieID:1064,rating:3,Genres:Animation|Children's|Comedy;MovieID:1030,rating:3,Genres:Adventure|Animation|Children's|Musical,\\n CandidateItems: 3732:Horror;508:Drama;1632:Comedy|Romance;1645:Crime|Horror|Mystery|Thriller;1587:Action|Adventure;1887:Adventure|Comedy;2170:Action|Comedy;3796:Romance|Thriller;1464:Mystery;145:Action;239:Animation|Children's|Comedy|Romance;24:Drama|Sci-Fi;2678:Drama;1854:Comedy|Romance;2520:Drama;1423:Drama;763:Drama;926:Drama;193:Drama;1670:Drama|War;538:Drama;1889:Thriller;809:Action|Adventure;838:Comedy|Drama|Romance;2632:Drama;3936:Drama|Thriller;458:Drama|Western;587:Comedy|Romance|Thriller;3725:Animation|Musical;2633:Horror|Romance;935:Comedy|Musical;3418:Action|Drama;590:Adventure|Drama|Western;1404:Crime|Drama;2532:Action|Sci-Fi;1121:Drama;1222:Action|Drama|War;3174:Comedy|Drama;261:Drama;3443:Action|Drama|Thriller;3495:Comedy|Drama;2857:Animation|Musical;3367:War;2112:Crime|Drama;1639:Drama|Romance;1370:Action|Thriller;1730:Drama;62:Drama;2502:Comedy|Romance;1485:Comedy.\\n\"},\n",
    "]\n",
    "input_ids = tokenizer.apply_chat_template(\n",
    "    messages,\n",
    "    add_generation_prompt = True,\n",
    "    return_tensors = \"pt\",\n",
    ").to(\"cuda\")\n",
    "\n",
    "from transformers import TextStreamer\n",
    "text_streamer = TextStreamer(tokenizer, skip_prompt = True)\n",
    "# _ = model.generate(input_ids, streamer = text_streamer, max_new_tokens = 128, pad_token_id = tokenizer.eos_token_id)\n",
    "_ = model.generate(\n",
    "    input_ids,\n",
    "    streamer=text_streamer,\n",
    "    max_new_tokens=128,\n",
    "    pad_token_id=tokenizer.eos_token_id,\n",
    "    temperature=0.01 ,  # ← 添加温度控制\n",
    "    do_sample=True,   # ← 必须开启采样才能让 temperature 起作用！\n",
    ")"
   ]
  },
  {
   "cell_type": "code",
   "execution_count": null,
   "id": "74242788-98fc-489b-806f-45997b2d2b3f",
   "metadata": {},
   "outputs": [],
   "source": [
    "## 541 :'Recommended movie ID: [508, 3418, 62, 3174, 838, 587, 1639, 1370, 1485, 590]'"
   ]
  },
  {
   "cell_type": "code",
   "execution_count": null,
   "id": "de23f0d8-4688-4482-a261-72c87bda905c",
   "metadata": {},
   "outputs": [],
   "source": []
  }
 ],
 "metadata": {
  "kernelspec": {
   "display_name": "Python 3 (ipykernel)",
   "language": "python",
   "name": "python3"
  },
  "language_info": {
   "codemirror_mode": {
    "name": "ipython",
    "version": 3
   },
   "file_extension": ".py",
   "mimetype": "text/x-python",
   "name": "python",
   "nbconvert_exporter": "python",
   "pygments_lexer": "ipython3",
   "version": "3.12.4"
  }
 },
 "nbformat": 4,
 "nbformat_minor": 5
}
